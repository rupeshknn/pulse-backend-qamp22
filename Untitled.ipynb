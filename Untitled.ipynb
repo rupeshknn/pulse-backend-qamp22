{
 "cells": [
  {
   "cell_type": "code",
   "execution_count": 1,
   "id": "ea88c268",
   "metadata": {},
   "outputs": [],
   "source": [
    "# This code is part of Qiskit.\n",
    "#\n",
    "# (C) Copyright IBM 2021.\n",
    "#\n",
    "# This code is licensed under the Apache License, Version 2.0. You may\n",
    "# obtain a copy of this license in the LICENSE.txt file in the root directory\n",
    "# of this source tree or at http://www.apache.org/licenses/LICENSE-2.0.\n",
    "#\n",
    "# Any modifications or derivative works of this code must retain this\n",
    "# copyright notice, and modified files need to carry a notice indicating\n",
    "# that they have been altered from the originals.\n",
    "\n",
    "\"\"\"Test Rabi amplitude Experiment class.\"\"\"\n",
    "import sys\n",
    "sys.path.insert(0,\"/home/rupeshknn/projects/qc/pulse-backend-qamp22/qiskit-experiments/test/base.py\")\n",
    "from base import QiskitExperimentsTestCase\n",
    "# from qiskit_experiments.test.base import QiskitExperimentsTestCase\n",
    "import unittest\n",
    "import numpy as np\n",
    "\n",
    "from qiskit import QuantumCircuit, transpile\n",
    "from qiskit.exceptions import QiskitError\n",
    "from qiskit.circuit import Parameter\n",
    "from qiskit.providers.basicaer import QasmSimulatorPy\n",
    "from qiskit.qobj.utils import MeasLevel\n",
    "import qiskit.pulse as pulse\n",
    "\n",
    "from qiskit_experiments.framework import ExperimentData, ParallelExperiment\n",
    "from qiskit_experiments.library import Rabi, EFRabi\n",
    "\n",
    "from qiskit_experiments.curve_analysis.standard_analysis.oscillation import OscillationAnalysis\n",
    "from qiskit_experiments.data_processing.data_processor import DataProcessor\n",
    "from qiskit_experiments.data_processing.nodes import Probability\n",
    "from qiskit_experiments.test.mock_iq_backend import MockIQBackend\n",
    "from qiskit_experiments.test.mock_iq_helpers import MockIQRabiHelper as RabiHelper\n",
    "from qiskit_experiments.framework.experiment_data import ExperimentStatus"
   ]
  },
  {
   "cell_type": "code",
   "execution_count": null,
   "id": "0f0523df",
   "metadata": {},
   "outputs": [],
   "source": [
    "from qiskit_experiments.test.iq_pulse_backend import SingleTransmonTestBackend"
   ]
  },
  {
   "cell_type": "code",
   "execution_count": null,
   "id": "825109d9",
   "metadata": {},
   "outputs": [],
   "source": [
    "import pickle"
   ]
  },
  {
   "cell_type": "code",
   "execution_count": 25,
   "id": "d07c49f2",
   "metadata": {},
   "outputs": [],
   "source": [
    "pulse_backend = SingleTransmonTestBackend()"
   ]
  },
  {
   "cell_type": "code",
   "execution_count": 73,
   "id": "e3d4dd11",
   "metadata": {},
   "outputs": [
    {
     "data": {
      "text/plain": [
       "(0.1+0j)"
      ]
     },
     "execution_count": 73,
     "metadata": {},
     "output_type": "execute_result"
    }
   ],
   "source": [
    "pulse_backend._defaults.cmd_def[0].sequence[0].parameters['amp']#.to_dict()#.to_dict()"
   ]
  },
  {
   "cell_type": "code",
   "execution_count": null,
   "id": "ad70350e",
   "metadata": {},
   "outputs": [],
   "source": []
  },
  {
   "cell_type": "code",
   "execution_count": 22,
   "id": "29472d8c",
   "metadata": {},
   "outputs": [],
   "source": [
    "class TestRabiEndToEnd(QiskitExperimentsTestCase):\n",
    "    \"\"\"Test the rabi experiment.\"\"\"\n",
    "\n",
    "    def setUp(self):\n",
    "        \"\"\"Setup the tests.\"\"\"\n",
    "        super().setUp()\n",
    "\n",
    "        self.qubit = 1\n",
    "\n",
    "        with pulse.build(name=\"x\") as sched:\n",
    "            pulse.play(pulse.Drag(160, Parameter(\"amp\"), 40, 0.4), pulse.DriveChannel(self.qubit))\n",
    "\n",
    "        self.sched = sched\n",
    "\n",
    "    # pylint: disable=no-member\n",
    "    def test_rabi_end_to_end(self):\n",
    "        \"\"\"Test the Rabi experiment end to end.\"\"\"\n",
    "\n",
    "        test_tol = 0.01\n",
    "#         rabi_experiment_helper = RabiHelper()\n",
    "#         backend = MockIQBackend(rabi_experiment_helper)\n",
    "        backend = SingleTransmonTestBackend()\n",
    "\n",
    "        rabi = Rabi(self.qubit, self.sched)\n",
    "        rabi.set_experiment_options(amplitudes=np.linspace(-0.95, 0.95, 21))\n",
    "        expdata = rabi.run(backend)\n",
    "        \n",
    "        outfile = open('rabi_ete_test_expdata','wb')\n",
    "        pickle.dump(expdata, outfile)\n",
    "        outfile.close()\n",
    "        \n",
    "        self.assertExperimentDone(expdata)\n",
    "        result = expdata.analysis_results(0)\n",
    "\n",
    "        self.assertEqual(result.quality, \"good\")\n",
    "        # The comparison is made against the object that exists in the backend for accurate testing\n",
    "        self.assertAlmostEqual(\n",
    "            result.value.params[\"freq\"], , delta=test_tol\n",
    "        )\n",
    "\n",
    "#         # updating 'amplitude_to_angle' parameter in the experiment helper\n",
    "# #         rabi_experiment_helper.amplitude_to_angle = np.pi / 2\n",
    "\n",
    "#         expdata = rabi.run(backend)\n",
    "#         self.assertExperimentDone(expdata)\n",
    "#         result = expdata.analysis_results(0)\n",
    "#         self.assertEqual(result.quality, \"good\")\n",
    "#         self.assertAlmostEqual(\n",
    "#             result.value.params[\"freq\"], backend.experiment_helper.rabi_rate(), delta=test_tol\n",
    "#         )\n",
    "\n",
    "#         # updating 'amplitude_to_angle' parameter in the experiment helper and experiment options\n",
    "# #         rabi_experiment_helper.amplitude_to_angle = 2.5 * np.pi\n",
    "#         rabi.set_experiment_options(amplitudes=np.linspace(-0.95, 0.95, 101))\n",
    "\n",
    "#         expdata = rabi.run(backend)\n",
    "#         self.assertExperimentDone(expdata)\n",
    "#         result = expdata.analysis_results(0)\n",
    "#         self.assertEqual(result.quality, \"good\")\n",
    "#         self.assertAlmostEqual(\n",
    "#             result.value.params[\"freq\"], backend.experiment_helper.rabi_rate(), delta=test_tol\n",
    "#         )\n",
    "\n",
    "    def test_wrong_processor(self):\n",
    "        \"\"\"Test that we can override the data processing by giving a faulty data processor.\"\"\"\n",
    "        backend = MockIQBackend(RabiHelper())\n",
    "        rabi = Rabi(self.qubit, self.sched)\n",
    "        fail_key = \"fail_key\"\n",
    "\n",
    "        rabi.analysis.set_options(data_processor=DataProcessor(fail_key, []))\n",
    "        # pylint: disable=no-member\n",
    "        rabi.set_run_options(shots=2)\n",
    "        data = rabi.run(backend)\n",
    "        result = data.analysis_results()\n",
    "\n",
    "        self.assertEqual(data.status(), ExperimentStatus.ERROR)\n",
    "        self.assertEqual(len(result), 0)\n",
    "\n",
    "    def test_experiment_config(self):\n",
    "        \"\"\"Test converting to and from config works\"\"\"\n",
    "        exp = Rabi(0, self.sched)\n",
    "        loaded_exp = Rabi.from_config(exp.config())\n",
    "        self.assertNotEqual(exp, loaded_exp)\n",
    "        self.assertTrue(self.json_equiv(exp, loaded_exp))\n",
    "\n",
    "    @unittest.skip(\"Schedules are not yet JSON serializable\")\n",
    "    def test_roundtrip_serializable(self):\n",
    "        \"\"\"Test round trip JSON serialization\"\"\"\n",
    "        exp = Rabi(0, self.sched)\n",
    "        self.assertRoundTripSerializable(exp, self.json_equiv)"
   ]
  },
  {
   "cell_type": "code",
   "execution_count": 23,
   "id": "2136a96f",
   "metadata": {},
   "outputs": [],
   "source": [
    "# suite = unittest.makeSuite(TestRabiEndToEnd, 'test')\n",
    "# result = unittest.TestResult()\n",
    "# suite.run(result)\n",
    "\n",
    "\n",
    "obj = TestRabiEndToEnd(\"test_rabi_end_to_end\")\n",
    "obj.setUp()"
   ]
  },
  {
   "cell_type": "code",
   "execution_count": 24,
   "id": "87bc4a86",
   "metadata": {},
   "outputs": [
    {
     "ename": "AttributeError",
     "evalue": "'SingleTransmonTestBackend' object has no attribute 'experiment_helper'",
     "output_type": "error",
     "traceback": [
      "\u001b[0;31m---------------------------------------------------------------------------\u001b[0m",
      "\u001b[0;31mAttributeError\u001b[0m                            Traceback (most recent call last)",
      "\u001b[0;32m/tmp/ipykernel_2803/671070885.py\u001b[0m in \u001b[0;36m<cell line: 1>\u001b[0;34m()\u001b[0m\n\u001b[0;32m----> 1\u001b[0;31m \u001b[0mobj\u001b[0m\u001b[0;34m.\u001b[0m\u001b[0mtest_rabi_end_to_end\u001b[0m\u001b[0;34m(\u001b[0m\u001b[0;34m)\u001b[0m\u001b[0;34m\u001b[0m\u001b[0;34m\u001b[0m\u001b[0m\n\u001b[0m",
      "\u001b[0;32m/tmp/ipykernel_2803/1132182228.py\u001b[0m in \u001b[0;36mtest_rabi_end_to_end\u001b[0;34m(self)\u001b[0m\n\u001b[1;32m     31\u001b[0m         \u001b[0;31m# The comparison is made against the object that exists in the backend for accurate testing\u001b[0m\u001b[0;34m\u001b[0m\u001b[0;34m\u001b[0m\u001b[0;34m\u001b[0m\u001b[0m\n\u001b[1;32m     32\u001b[0m         self.assertAlmostEqual(\n\u001b[0;32m---> 33\u001b[0;31m             \u001b[0mresult\u001b[0m\u001b[0;34m.\u001b[0m\u001b[0mvalue\u001b[0m\u001b[0;34m.\u001b[0m\u001b[0mparams\u001b[0m\u001b[0;34m[\u001b[0m\u001b[0;34m\"freq\"\u001b[0m\u001b[0;34m]\u001b[0m\u001b[0;34m,\u001b[0m \u001b[0mbackend\u001b[0m\u001b[0;34m.\u001b[0m\u001b[0mexperiment_helper\u001b[0m\u001b[0;34m.\u001b[0m\u001b[0mrabi_rate\u001b[0m\u001b[0;34m(\u001b[0m\u001b[0;34m)\u001b[0m\u001b[0;34m,\u001b[0m \u001b[0mdelta\u001b[0m\u001b[0;34m=\u001b[0m\u001b[0mtest_tol\u001b[0m\u001b[0;34m\u001b[0m\u001b[0;34m\u001b[0m\u001b[0m\n\u001b[0m\u001b[1;32m     34\u001b[0m         )\n\u001b[1;32m     35\u001b[0m \u001b[0;34m\u001b[0m\u001b[0m\n",
      "\u001b[0;31mAttributeError\u001b[0m: 'SingleTransmonTestBackend' object has no attribute 'experiment_helper'"
     ]
    }
   ],
   "source": [
    "obj.test_rabi_end_to_end()"
   ]
  },
  {
   "cell_type": "code",
   "execution_count": null,
   "id": "5a11697e",
   "metadata": {},
   "outputs": [],
   "source": []
  }
 ],
 "metadata": {
  "kernelspec": {
   "display_name": "Python 3 (ipykernel)",
   "language": "python",
   "name": "python3"
  },
  "language_info": {
   "codemirror_mode": {
    "name": "ipython",
    "version": 3
   },
   "file_extension": ".py",
   "mimetype": "text/x-python",
   "name": "python",
   "nbconvert_exporter": "python",
   "pygments_lexer": "ipython3",
   "version": "3.8.13"
  },
  "varInspector": {
   "cols": {
    "lenName": 16,
    "lenType": 16,
    "lenVar": 40
   },
   "kernels_config": {
    "python": {
     "delete_cmd_postfix": "",
     "delete_cmd_prefix": "del ",
     "library": "var_list.py",
     "varRefreshCmd": "print(var_dic_list())"
    },
    "r": {
     "delete_cmd_postfix": ") ",
     "delete_cmd_prefix": "rm(",
     "library": "var_list.r",
     "varRefreshCmd": "cat(var_dic_list()) "
    }
   },
   "types_to_exclude": [
    "module",
    "function",
    "builtin_function_or_method",
    "instance",
    "_Feature"
   ],
   "window_display": false
  }
 },
 "nbformat": 4,
 "nbformat_minor": 5
}
