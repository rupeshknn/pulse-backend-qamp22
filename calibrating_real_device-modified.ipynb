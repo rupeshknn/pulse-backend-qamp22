{
 "cells": [
  {
   "cell_type": "markdown",
   "id": "b11c2f66",
   "metadata": {},
   "source": [
    "# Calibrating single-qubit gates on a real device\n",
    "\n",
    "In this tutorial we demonstrate how to calibrate single-qubit gates on `ibmq_lima` using the calibration framework in qiskit-experiments. We will run experiments to find the qubit frequency, calibrate the amplitude of DRAG pulses and chose the value of the DRAG parameter that minimizes leakage. The calibration framework requires the user to\n",
    "\n",
    "* setup an instance of `Calibrations`,\n",
    "* run calibration experiments which can be found in `qiskit_experiments.library.calibration`. \n",
    "\n",
    "Note that the values of the parameters stored in the instance of the `Calibrations` class will automatically be updated by the calibration experiments. This automatic updating can also be disabled using the `auto_update` flag."
   ]
  },
  {
   "cell_type": "code",
   "execution_count": 63,
   "id": "e3836dba",
   "metadata": {},
   "outputs": [],
   "source": [
    "import pandas as pd\n",
    "import numpy as np\n",
    "\n",
    "from qiskit import QuantumCircuit\n",
    "import qiskit.pulse as pulse\n",
    "from qiskit.pulse.channels import DriveChannel\n",
    "from qiskit.pulse import Instruction\n",
    "from qiskit.circuit import Parameter\n",
    "\n",
    "from qiskit_experiments.calibration_management.calibrations import Calibrations\n",
    "\n",
    "from qiskit import IBMQ, schedule"
   ]
  },
  {
   "cell_type": "code",
   "execution_count": 64,
   "id": "f1be5a1b",
   "metadata": {},
   "outputs": [],
   "source": [
    "from qiskit import Aer"
   ]
  },
  {
   "cell_type": "code",
   "execution_count": 65,
   "id": "87e1101f",
   "metadata": {},
   "outputs": [
    {
     "name": "stderr",
     "output_type": "stream",
     "text": [
      "ibmqfactory.load_account:WARNING:2022-10-03 12:52:20,873: Credentials are already in use. The existing account in the session will be replaced.\n"
     ]
    }
   ],
   "source": [
    "IBMQ.load_account()\n",
    "provider = IBMQ.get_provider(hub='ibm-q', group='open', project='main')\n",
    "hardware_backend = provider.get_backend('ibmq_lima')"
   ]
  },
  {
   "cell_type": "code",
   "execution_count": 66,
   "id": "6104085e",
   "metadata": {},
   "outputs": [],
   "source": [
    "pulse_bknd = Aer.get_backend('pulse_simulator')"
   ]
  },
  {
   "cell_type": "code",
   "execution_count": 67,
   "id": "5575a2b8",
   "metadata": {},
   "outputs": [],
   "source": [
    "backend = pulse_bknd.from_backend(hardware_backend)"
   ]
  },
  {
   "cell_type": "code",
   "execution_count": 68,
   "id": "e3f6f6c1",
   "metadata": {},
   "outputs": [],
   "source": [
    "qubit = 0  # The qubit we will work with"
   ]
  },
  {
   "cell_type": "markdown",
   "id": "5325fe3d",
   "metadata": {},
   "source": [
    "The two functions below show how to setup an instance of `Calibrations`. To do this the user defines the template schedules to calibrate. These template schedules are fully parameterized, even the channel indices on which the pulses are played. Furthermore, the name of the parameter in the channel index must follow the convention laid out in the documentation of the calibration module. Note that the parameters in the channel indices are automatically mapped to the channel index when `get_schedule` is called. "
   ]
  },
  {
   "cell_type": "code",
   "execution_count": 69,
   "id": "ca0c1462",
   "metadata": {},
   "outputs": [],
   "source": [
    "def setup_cals(backend) -> Calibrations:\n",
    "    \"\"\"A function to instantiate calibrations and add a couple of template schedules.\"\"\"\n",
    "    cals = Calibrations.from_backend(backend)\n",
    "\n",
    "    dur = Parameter(\"dur\")\n",
    "    amp = Parameter(\"amp\")\n",
    "    sigma = Parameter(\"σ\")\n",
    "    beta = Parameter(\"β\")\n",
    "    drive = pulse.DriveChannel(Parameter(\"ch0\"))\n",
    "\n",
    "    # Define and add template schedules.\n",
    "    with pulse.build(name=\"xp\") as xp:\n",
    "        pulse.play(pulse.Drag(dur, amp, sigma, beta), drive)\n",
    "\n",
    "    with pulse.build(name=\"xm\") as xm:\n",
    "        pulse.play(pulse.Drag(dur, -amp, sigma, beta), drive)\n",
    "        \n",
    "    with pulse.build(name=\"x90p\") as x90p:\n",
    "        pulse.play(pulse.Drag(dur, Parameter(\"amp\"), sigma, Parameter(\"β\")), drive)\n",
    "\n",
    "    cals.add_schedule(xp, num_qubits=1)\n",
    "    cals.add_schedule(xm, num_qubits=1)\n",
    "    cals.add_schedule(x90p, num_qubits=1)\n",
    "    \n",
    "    return cals\n",
    "\n",
    "def add_parameter_guesses(cals: Calibrations):\n",
    "    \"\"\"Add guesses for the parameter values to the calibrations.\"\"\"\n",
    "    for sched in [\"xp\", \"x90p\"]:\n",
    "        cals.add_parameter_value(80, \"σ\", schedule=sched)\n",
    "        cals.add_parameter_value(0.5, \"β\", schedule=sched)\n",
    "        cals.add_parameter_value(320, \"dur\", schedule=sched)\n",
    "        cals.add_parameter_value(0.5, \"amp\", schedule=sched)"
   ]
  },
  {
   "cell_type": "markdown",
   "id": "31ec74cd",
   "metadata": {},
   "source": [
    "When setting up the calibrations we add three pulses: a $\\pi$-rotation, with a schedule named `xp`, a schedule `xm` identical to `xp` but with a nagative amplitude, and a $\\pi/2$-rotation, with a schedule named `x90p`. Here, we have linked the amplitude of the `xp` and `xm` pulses. Therefore, calibrating the parameters of `xp` will also calibrate the parameters of `xm`."
   ]
  },
  {
   "cell_type": "code",
   "execution_count": 70,
   "id": "a2f9d7e5",
   "metadata": {},
   "outputs": [],
   "source": [
    "cals = setup_cals(backend)\n",
    "add_parameter_guesses(cals)"
   ]
  },
  {
   "cell_type": "markdown",
   "id": "af0cd5a0",
   "metadata": {},
   "source": [
    "A samilar setup is achieved by using a pre-built library of gates. The library of gates provides a standard set of gates and some initial guesses for the value of the parameters in the template schedules. This is shown below using the `FixedFrequencyTransmon` which provides the `x`, `y`, `sx`, and `sy` pulses. Note that in the example below we change the default value of the pulse duration to 320 samples."
   ]
  },
  {
   "cell_type": "code",
   "execution_count": 1,
   "id": "48895a9f",
   "metadata": {},
   "outputs": [],
   "source": [
    "from qiskit_experiments.calibration_management.basis_gate_library import FixedFrequencyTransmon"
   ]
  },
  {
   "cell_type": "code",
   "execution_count": 2,
   "id": "f7e38cd9",
   "metadata": {},
   "outputs": [
    {
     "name": "stdout",
     "output_type": "stream",
     "text": [
      "[DefaultCalValue(value=0.5, parameter='amp', qubits=(), schedule_name='x'), DefaultCalValue(value=160, parameter='duration', qubits=(), schedule_name='x'), DefaultCalValue(value=40.0, parameter='σ', qubits=(), schedule_name='x'), DefaultCalValue(value=0.0, parameter='β', qubits=(), schedule_name='x'), DefaultCalValue(value=160, parameter='duration', qubits=(), schedule_name='sx'), DefaultCalValue(value=0.0, parameter='β', qubits=(), schedule_name='sx'), DefaultCalValue(value=40.0, parameter='σ', qubits=(), schedule_name='sx'), DefaultCalValue(value=0.25, parameter='amp', qubits=(), schedule_name='sx')]\n"
     ]
    }
   ],
   "source": [
    "lib = FixedFrequencyTransmon()\n",
    "print(lib.default_values())"
   ]
  },
  {
   "cell_type": "code",
   "execution_count": 89,
   "id": "ef52f802",
   "metadata": {},
   "outputs": [],
   "source": []
  },
  {
   "cell_type": "code",
   "execution_count": 81,
   "id": "bd83e088",
   "metadata": {},
   "outputs": [],
   "source": [
    "library = FixedFrequencyTransmon(default_values={\"duration\": 320})\n",
    "cals = Calibrations.from_backend(backend, libraries=[library])"
   ]
  },
  {
   "cell_type": "code",
   "execution_count": 73,
   "id": "908ff764",
   "metadata": {},
   "outputs": [],
   "source": [
    "from qiskit_experiments.library.calibration.rough_frequency import RoughFrequencyCal"
   ]
  },
  {
   "cell_type": "code",
   "execution_count": 74,
   "id": "fa22b8a4",
   "metadata": {},
   "outputs": [
    {
     "data": {
      "text/html": [
       "<div>\n",
       "<style scoped>\n",
       "    .dataframe tbody tr th:only-of-type {\n",
       "        vertical-align: middle;\n",
       "    }\n",
       "\n",
       "    .dataframe tbody tr th {\n",
       "        vertical-align: top;\n",
       "    }\n",
       "\n",
       "    .dataframe thead th {\n",
       "        text-align: right;\n",
       "    }\n",
       "</style>\n",
       "<table border=\"1\" class=\"dataframe\">\n",
       "  <thead>\n",
       "    <tr style=\"text-align: right;\">\n",
       "      <th></th>\n",
       "      <th>parameter</th>\n",
       "      <th>qubits</th>\n",
       "      <th>schedule</th>\n",
       "      <th>value</th>\n",
       "      <th>group</th>\n",
       "      <th>valid</th>\n",
       "      <th>date_time</th>\n",
       "      <th>exp_id</th>\n",
       "    </tr>\n",
       "  </thead>\n",
       "  <tbody>\n",
       "    <tr>\n",
       "      <th>0</th>\n",
       "      <td>σ</td>\n",
       "      <td>()</td>\n",
       "      <td>x</td>\n",
       "      <td>8.000000e+01</td>\n",
       "      <td>default</td>\n",
       "      <td>True</td>\n",
       "      <td>2022-10-03 12:52:31.589444+0530</td>\n",
       "      <td>None</td>\n",
       "    </tr>\n",
       "    <tr>\n",
       "      <th>1</th>\n",
       "      <td>meas_freq</td>\n",
       "      <td>(0,)</td>\n",
       "      <td>None</td>\n",
       "      <td>7.425143e+09</td>\n",
       "      <td>default</td>\n",
       "      <td>True</td>\n",
       "      <td>2022-10-03 12:52:31.682703+0530</td>\n",
       "      <td>None</td>\n",
       "    </tr>\n",
       "    <tr>\n",
       "      <th>2</th>\n",
       "      <td>β</td>\n",
       "      <td>()</td>\n",
       "      <td>x</td>\n",
       "      <td>0.000000e+00</td>\n",
       "      <td>default</td>\n",
       "      <td>True</td>\n",
       "      <td>2022-10-03 12:52:31.589429+0530</td>\n",
       "      <td>None</td>\n",
       "    </tr>\n",
       "    <tr>\n",
       "      <th>3</th>\n",
       "      <td>β</td>\n",
       "      <td>()</td>\n",
       "      <td>sx</td>\n",
       "      <td>0.000000e+00</td>\n",
       "      <td>default</td>\n",
       "      <td>True</td>\n",
       "      <td>2022-10-03 12:52:31.589506+0530</td>\n",
       "      <td>None</td>\n",
       "    </tr>\n",
       "    <tr>\n",
       "      <th>4</th>\n",
       "      <td>drive_freq</td>\n",
       "      <td>(0,)</td>\n",
       "      <td>None</td>\n",
       "      <td>5.029747e+09</td>\n",
       "      <td>default</td>\n",
       "      <td>True</td>\n",
       "      <td>2022-10-03 12:52:31.682596+0530</td>\n",
       "      <td>None</td>\n",
       "    </tr>\n",
       "    <tr>\n",
       "      <th>5</th>\n",
       "      <td>duration</td>\n",
       "      <td>()</td>\n",
       "      <td>sx</td>\n",
       "      <td>3.200000e+02</td>\n",
       "      <td>default</td>\n",
       "      <td>True</td>\n",
       "      <td>2022-10-03 12:52:31.589495+0530</td>\n",
       "      <td>None</td>\n",
       "    </tr>\n",
       "    <tr>\n",
       "      <th>6</th>\n",
       "      <td>duration</td>\n",
       "      <td>()</td>\n",
       "      <td>x</td>\n",
       "      <td>3.200000e+02</td>\n",
       "      <td>default</td>\n",
       "      <td>True</td>\n",
       "      <td>2022-10-03 12:52:31.589457+0530</td>\n",
       "      <td>None</td>\n",
       "    </tr>\n",
       "    <tr>\n",
       "      <th>7</th>\n",
       "      <td>amp</td>\n",
       "      <td>()</td>\n",
       "      <td>x</td>\n",
       "      <td>5.000000e-01</td>\n",
       "      <td>default</td>\n",
       "      <td>True</td>\n",
       "      <td>2022-10-03 12:52:31.589387+0530</td>\n",
       "      <td>None</td>\n",
       "    </tr>\n",
       "    <tr>\n",
       "      <th>8</th>\n",
       "      <td>amp</td>\n",
       "      <td>()</td>\n",
       "      <td>sx</td>\n",
       "      <td>2.500000e-01</td>\n",
       "      <td>default</td>\n",
       "      <td>True</td>\n",
       "      <td>2022-10-03 12:52:31.589469+0530</td>\n",
       "      <td>None</td>\n",
       "    </tr>\n",
       "    <tr>\n",
       "      <th>9</th>\n",
       "      <td>σ</td>\n",
       "      <td>()</td>\n",
       "      <td>sx</td>\n",
       "      <td>8.000000e+01</td>\n",
       "      <td>default</td>\n",
       "      <td>True</td>\n",
       "      <td>2022-10-03 12:52:31.589483+0530</td>\n",
       "      <td>None</td>\n",
       "    </tr>\n",
       "  </tbody>\n",
       "</table>\n",
       "</div>"
      ],
      "text/plain": [
       "    parameter qubits schedule         value    group  valid  \\\n",
       "0           σ     ()        x  8.000000e+01  default   True   \n",
       "1   meas_freq   (0,)     None  7.425143e+09  default   True   \n",
       "2           β     ()        x  0.000000e+00  default   True   \n",
       "3           β     ()       sx  0.000000e+00  default   True   \n",
       "4  drive_freq   (0,)     None  5.029747e+09  default   True   \n",
       "5    duration     ()       sx  3.200000e+02  default   True   \n",
       "6    duration     ()        x  3.200000e+02  default   True   \n",
       "7         amp     ()        x  5.000000e-01  default   True   \n",
       "8         amp     ()       sx  2.500000e-01  default   True   \n",
       "9           σ     ()       sx  8.000000e+01  default   True   \n",
       "\n",
       "                         date_time exp_id  \n",
       "0  2022-10-03 12:52:31.589444+0530   None  \n",
       "1  2022-10-03 12:52:31.682703+0530   None  \n",
       "2  2022-10-03 12:52:31.589429+0530   None  \n",
       "3  2022-10-03 12:52:31.589506+0530   None  \n",
       "4  2022-10-03 12:52:31.682596+0530   None  \n",
       "5  2022-10-03 12:52:31.589495+0530   None  \n",
       "6  2022-10-03 12:52:31.589457+0530   None  \n",
       "7  2022-10-03 12:52:31.589387+0530   None  \n",
       "8  2022-10-03 12:52:31.589469+0530   None  \n",
       "9  2022-10-03 12:52:31.589483+0530   None  "
      ]
     },
     "execution_count": 74,
     "metadata": {},
     "output_type": "execute_result"
    }
   ],
   "source": [
    "pd.DataFrame(**cals.parameters_table(qubit_list=[qubit, ()]))"
   ]
  },
  {
   "cell_type": "code",
   "execution_count": 75,
   "id": "502aef29",
   "metadata": {},
   "outputs": [],
   "source": [
    "freq01_estimate = backend.defaults().qubit_freq_est[qubit]\n",
    "frequencies = np.linspace(freq01_estimate -15e6, freq01_estimate + 15e6, 51)\n",
    "spec = RoughFrequencyCal(qubit, cals, frequencies, backend=backend)\n",
    "spec.set_experiment_options(amp=0.005)"
   ]
  },
  {
   "cell_type": "code",
   "execution_count": 76,
   "id": "91184061",
   "metadata": {},
   "outputs": [
    {
     "data": {
      "image/png": "[encoded data removed]",
      "text/plain": [
       "<Figure size 544.852x200.667 with 1 Axes>"
      ]
     },
     "execution_count": 76,
     "metadata": {},
     "output_type": "execute_result"
    }
   ],
   "source": [
    "from qiskit_experiments.library.calibration import RoughXSXAmplitudeCal\n",
    "rabi = RoughXSXAmplitudeCal(qubit, cals, backend=backend, amplitudes=np.linspace(-0.1, 0.1, 51))\n",
    "rabi.circuits()[0].draw(\"mpl\")"
   ]
  },
  {
   "cell_type": "code",
   "execution_count": 30,
   "id": "4cde578d",
   "metadata": {},
   "outputs": [
    {
     "name": "stdout",
     "output_type": "stream",
     "text": [
      "<InstructionScheduleMap(1Q instructions:\n",
      "  q0: {'u2', 'u1', 'sx', 'u3', 'measure', 'id', 'x', 'rz'}\n",
      "  q1: {'u2', 'u1', 'sx', 'u3', 'measure', 'id', 'x', 'rz'}\n",
      "  q2: {'u2', 'u1', 'sx', 'u3', 'measure', 'id', 'x', 'rz'}\n",
      "  q3: {'u2', 'u1', 'sx', 'u3', 'measure', 'id', 'x', 'rz'}\n",
      "  q4: {'u2', 'u1', 'sx', 'u3', 'measure', 'id', 'x', 'rz'}\n",
      "Multi qubit instructions:\n",
      "  (0, 1): {'cx'}\n",
      "  (1, 0): {'cx'}\n",
      "  (1, 2): {'cx'}\n",
      "  (1, 3): {'cx'}\n",
      "  (2, 1): {'cx'}\n",
      "  (3, 1): {'cx'}\n",
      "  (3, 4): {'cx'}\n",
      "  (4, 3): {'cx'}\n",
      "  (0, 1, 2, 3, 4): {'measure'}\n",
      ")>\n"
     ]
    }
   ],
   "source": [
    "print(hardware_backend.defaults().instruction_schedule_map)\n"
   ]
  },
  {
   "cell_type": "code",
   "execution_count": 58,
   "id": "ca243681",
   "metadata": {},
   "outputs": [
    {
     "data": {
      "text/plain": [
       "dict_keys([(0,), (1,), (2,), (3,), (4,)])"
      ]
     },
     "execution_count": 58,
     "metadata": {},
     "output_type": "execute_result"
    }
   ],
   "source": [
    "hardware_backend.defaults().instruction_schedule_map._map['x'].keys()#__dict__.keys()#.get('x',0)\n"
   ]
  },
  {
   "cell_type": "code",
   "execution_count": 44,
   "id": "457d3bd3",
   "metadata": {},
   "outputs": [],
   "source": [
    "from qiskit.pulse import InstructionScheduleMap"
   ]
  },
  {
   "cell_type": "code",
   "execution_count": 62,
   "id": "5cadf9ec",
   "metadata": {},
   "outputs": [
    {
     "ename": "TypeError",
     "evalue": "add() missing 3 required positional arguments: 'instruction', 'qubits', and 'schedule'",
     "output_type": "error",
     "traceback": [
      "\u001b[0;31m---------------------------------------------------------------------------\u001b[0m",
      "\u001b[0;31mTypeError\u001b[0m                                 Traceback (most recent call last)",
      "\u001b[0;32m/tmp/ipykernel_1509/2902240942.py\u001b[0m in \u001b[0;36m<cell line: 2>\u001b[0;34m()\u001b[0m\n\u001b[1;32m      1\u001b[0m \u001b[0mjaka\u001b[0m \u001b[0;34m=\u001b[0m \u001b[0mInstructionScheduleMap\u001b[0m\u001b[0;34m(\u001b[0m\u001b[0;34m)\u001b[0m\u001b[0;34m\u001b[0m\u001b[0;34m\u001b[0m\u001b[0m\n\u001b[0;32m----> 2\u001b[0;31m \u001b[0mjaka\u001b[0m\u001b[0;34m.\u001b[0m\u001b[0madd\u001b[0m\u001b[0;34m(\u001b[0m\u001b[0;34m)\u001b[0m\u001b[0;34m\u001b[0m\u001b[0;34m\u001b[0m\u001b[0m\n\u001b[0m",
      "\u001b[0;31mTypeError\u001b[0m: add() missing 3 required positional arguments: 'instruction', 'qubits', and 'schedule'"
     ]
    }
   ],
   "source": [
    "jaka = InstructionScheduleMap()\n",
    "jaka.add()"
   ]
  },
  {
   "cell_type": "code",
   "execution_count": null,
   "id": "8a61e759",
   "metadata": {},
   "outputs": [],
   "source": []
  },
  {
   "cell_type": "code",
   "execution_count": 77,
   "id": "95e2326a",
   "metadata": {},
   "outputs": [
    {
     "name": "stderr",
     "output_type": "stream",
     "text": [
      "/tmp/ipykernel_1509/1942755241.py:16: DeprecationWarning: The QuantumCircuit.combine() method is being deprecated. Use the compose() method which is more flexible w.r.t circuit register compatibility.\n",
      "  qc = circuit_spec0.combine(circuit_rabi0)\n",
      "/tmp/ipykernel_1509/1942755241.py:17: DeprecationWarning: The QuantumCircuit.combine() method is being deprecated. Use the compose() method which is more flexible w.r.t circuit register compatibility.\n",
      "  qc = qc.combine(circuit_spec5)\n",
      "/tmp/ipykernel_1509/1942755241.py:18: DeprecationWarning: The QuantumCircuit.combine() method is being deprecated. Use the compose() method which is more flexible w.r.t circuit register compatibility.\n",
      "  qc = qc.combine(circuit_rabi5)\n"
     ]
    },
    {
     "data": {
      "text/html": [
       "<pre style=\"word-wrap: normal;white-space: pre;background: #fff0;line-height: 1.1;font-family: &quot;Courier New&quot;,Courier,monospace\">           ┌───────────────────┐ ░ ┌─┐┌────────────┐ ░ ┌─┐┌───────────────────┐»\n",
       "        q: ┤ Spec(-15000000.0) ├─░─┤M├┤ Rabi(-0.1) ├─░─┤M├┤ Spec(-12000000.0) ├»\n",
       "           └───────────────────┘ ░ └╥┘└────────────┘ ░ └╥┘└───────────────────┘»\n",
       "measure: 1/═════════════════════════╩═══════════════════╩══════════════════════»\n",
       "                                    0                   0                      »\n",
       "«            ░ ┌─┐┌─────────────┐ ░ ┌─┐\n",
       "«        q: ─░─┤M├┤ Rabi(-0.08) ├─░─┤M├\n",
       "«            ░ └╥┘└─────────────┘ ░ └╥┘\n",
       "«measure: 1/════╩════════════════════╩═\n",
       "«               0                    0 </pre>"
      ],
      "text/plain": [
       "           ┌───────────────────┐ ░ ┌─┐┌────────────┐ ░ ┌─┐┌───────────────────┐»\n",
       "        q: ┤ Spec(-15000000.0) ├─░─┤M├┤ Rabi(-0.1) ├─░─┤M├┤ Spec(-12000000.0) ├»\n",
       "           └───────────────────┘ ░ └╥┘└────────────┘ ░ └╥┘└───────────────────┘»\n",
       "measure: 1/═════════════════════════╩═══════════════════╩══════════════════════»\n",
       "                                    0                   0                      »\n",
       "«            ░ ┌─┐┌─────────────┐ ░ ┌─┐\n",
       "«        q: ─░─┤M├┤ Rabi(-0.08) ├─░─┤M├\n",
       "«            ░ └╥┘└─────────────┘ ░ └╥┘\n",
       "«measure: 1/════╩════════════════════╩═\n",
       "«               0                    0 "
      ]
     },
     "execution_count": 77,
     "metadata": {},
     "output_type": "execute_result"
    }
   ],
   "source": [
    "qc = QuantumCircuit(1,1)\n",
    "\n",
    "circuit_spec0 = spec.circuits()[0]\n",
    "circuit_spec5 = spec.circuits()[5]\n",
    "\n",
    "circuit_rabi0 = rabi.circuits()[0]\n",
    "circuit_rabi5 = rabi.circuits()[5]\n",
    "\n",
    "# qc.append(circuit_spec0, [0])\n",
    "# qc.append(circuit_rabi0, [0])\n",
    "\n",
    "# qc.append(circuit_spec5, [0])\n",
    "# qc.append(circuit_rabi5, [0])\n",
    "# qc.measure(0,0)\n",
    "# qc.draw('mpl')\n",
    "qc = circuit_spec0.combine(circuit_rabi0)\n",
    "qc = qc.combine(circuit_spec5)\n",
    "qc = qc.combine(circuit_rabi5)\n",
    "qc.draw()"
   ]
  },
  {
   "cell_type": "code",
   "execution_count": null,
   "id": "2b7b3aae",
   "metadata": {},
   "outputs": [],
   "source": []
  },
  {
   "cell_type": "code",
   "execution_count": null,
   "id": "d26238da",
   "metadata": {},
   "outputs": [],
   "source": []
  },
  {
   "cell_type": "code",
   "execution_count": 78,
   "id": "693961b1",
   "metadata": {},
   "outputs": [
    {
     "data": {
      "text/plain": [
       "[ShiftFrequency(-15000000, DriveChannel(0)),\n",
       " Play(GaussianSquare(duration=1072, amp=(0.005+0j), sigma=256.0, width=0.0), DriveChannel(0)),\n",
       " ShiftFrequency(15000000, DriveChannel(0)),\n",
       " Play(Drag(duration=320, amp=(-0.1+0j), sigma=80, beta=0), DriveChannel(0)),\n",
       " ShiftFrequency(-12000000, DriveChannel(0)),\n",
       " Play(GaussianSquare(duration=1072, amp=(0.005+0j), sigma=256.0, width=0.0), DriveChannel(0)),\n",
       " ShiftFrequency(12000000, DriveChannel(0)),\n",
       " Play(Drag(duration=320, amp=(-0.08+0j), sigma=80, beta=0), DriveChannel(0))]"
      ]
     },
     "execution_count": 78,
     "metadata": {},
     "output_type": "execute_result"
    }
   ],
   "source": [
    "[item[1] for item in schedule(qc, backend).filter(channels=[DriveChannel(0)]).instructions]"
   ]
  },
  {
   "cell_type": "code",
   "execution_count": 135,
   "id": "01522e5b",
   "metadata": {},
   "outputs": [
    {
     "data": {
      "text/plain": [
       "((0, ShiftFrequency(-12000000, DriveChannel(0))),\n",
       " (0,\n",
       "  Play(GaussianSquare(duration=1072, amp=(0.005+0j), sigma=256.0, width=0.0), DriveChannel(0))),\n",
       " (1072, ShiftFrequency(12000000, DriveChannel(0))),\n",
       " (1072, Acquire(22400, AcquireChannel(0), MemorySlot(0))),\n",
       " (1072,\n",
       "  Play(GaussianSquare(duration=22400, amp=(0.008884250867537706-0.023368142556109493j), sigma=64, width=22144, name='M_m0'), MeasureChannel(0), name='M_m0')),\n",
       " (23472, Delay(1680, MeasureChannel(0))),\n",
       " (25152,\n",
       "  Play(Drag(duration=320, amp=(-0.1+0j), sigma=80, beta=0), DriveChannel(0))),\n",
       " (25472, Acquire(22400, AcquireChannel(0), MemorySlot(0))),\n",
       " (25472,\n",
       "  Play(GaussianSquare(duration=22400, amp=(0.008884250867537706-0.023368142556109493j), sigma=64, width=22144, name='M_m0'), MeasureChannel(0), name='M_m0')),\n",
       " (47872, Delay(1680, MeasureChannel(0))))"
      ]
     },
     "execution_count": 135,
     "metadata": {},
     "output_type": "execute_result"
    }
   ],
   "source": [
    "schedule(cc, hardware_backend).instructions"
   ]
  },
  {
   "cell_type": "code",
   "execution_count": 24,
   "id": "bd9ff343",
   "metadata": {},
   "outputs": [
    {
     "data": {
      "text/plain": [
       "ScheduleBlock(Play(Drag(duration=320, amp=(0.25+0j), sigma=80, beta=0), DriveChannel(0)), name=\"sx\", transform=AlignLeft())"
      ]
     },
     "execution_count": 24,
     "metadata": {},
     "output_type": "execute_result"
    }
   ],
   "source": [
    "cals.get_schedule(\"sx\", qubit)"
   ]
  },
  {
   "cell_type": "code",
   "execution_count": 25,
   "id": "95d75c23",
   "metadata": {},
   "outputs": [
    {
     "data": {
      "text/plain": [
       "ScheduleBlock(Play(Drag(duration=320, amp=(0.5+0j), sigma=80, beta=0), DriveChannel(0)), name=\"x\", transform=AlignLeft())"
      ]
     },
     "execution_count": 25,
     "metadata": {},
     "output_type": "execute_result"
    }
   ],
   "source": [
    "cals.get_schedule(\"x\", qubit)"
   ]
  },
  {
   "cell_type": "code",
   "execution_count": 26,
   "id": "62b1318f",
   "metadata": {},
   "outputs": [
    {
     "data": {
      "text/plain": [
       "ScheduleBlock(Play(Drag(duration=320, amp=0.5j, sigma=80, beta=0), DriveChannel(0)), name=\"y\", transform=AlignLeft())"
      ]
     },
     "execution_count": 26,
     "metadata": {},
     "output_type": "execute_result"
    }
   ],
   "source": [
    "cals.get_schedule(\"y\", qubit)"
   ]
  },
  {
   "cell_type": "markdown",
   "id": "addeda59",
   "metadata": {},
   "source": [
    "## 3. Saving and loading calibrations\n",
    "\n",
    "The values of the calibrated parameters can be saved to a `.csv` file and reloaded at a later point in time.  "
   ]
  },
  {
   "cell_type": "code",
   "execution_count": null,
   "id": "317994db",
   "metadata": {},
   "outputs": [],
   "source": [
    "cals.save(file_type=\"csv\", overwrite=True, file_prefix=\"Lima\")"
   ]
  },
  {
   "cell_type": "markdown",
   "id": "b384d6d0",
   "metadata": {},
   "source": [
    "After saving the values of the parameters you may restart your kernel. If you do so, you will only need to run the following cell to recover the state of your calibrations. Since the schedules are currently not stored we need to call our `setup_cals` function to populate an instance of `Calibrations` with the template schedules. By contrast, the value of the parameters will be recovered from the file."
   ]
  },
  {
   "cell_type": "code",
   "execution_count": 28,
   "id": "24256b82",
   "metadata": {},
   "outputs": [],
   "source": [
    "cals = Calibrations.from_backend(backend, library)\n",
    "cals.load_parameter_values(file_name=\"Limaparameter_values.csv\")"
   ]
  },
  {
   "cell_type": "code",
   "execution_count": 29,
   "id": "80ca665c",
   "metadata": {},
   "outputs": [
    {
     "data": {
      "text/html": [
       "<div>\n",
       "<style scoped>\n",
       "    .dataframe tbody tr th:only-of-type {\n",
       "        vertical-align: middle;\n",
       "    }\n",
       "\n",
       "    .dataframe tbody tr th {\n",
       "        vertical-align: top;\n",
       "    }\n",
       "\n",
       "    .dataframe thead th {\n",
       "        text-align: right;\n",
       "    }\n",
       "</style>\n",
       "<table border=\"1\" class=\"dataframe\">\n",
       "  <thead>\n",
       "    <tr style=\"text-align: right;\">\n",
       "      <th></th>\n",
       "      <th>parameter</th>\n",
       "      <th>qubits</th>\n",
       "      <th>schedule</th>\n",
       "      <th>value</th>\n",
       "      <th>group</th>\n",
       "      <th>valid</th>\n",
       "      <th>date_time</th>\n",
       "      <th>exp_id</th>\n",
       "    </tr>\n",
       "  </thead>\n",
       "  <tbody>\n",
       "    <tr>\n",
       "      <th>0</th>\n",
       "      <td>amp</td>\n",
       "      <td>(0,)</td>\n",
       "      <td>sx</td>\n",
       "      <td>0.031225+0.000000j</td>\n",
       "      <td>default</td>\n",
       "      <td>True</td>\n",
       "      <td>2022-07-14 15:14:35.606000-0400</td>\n",
       "      <td>273991e1-0985-43d8-9ad2-d9d4738bc1fb</td>\n",
       "    </tr>\n",
       "    <tr>\n",
       "      <th>1</th>\n",
       "      <td>amp</td>\n",
       "      <td>(0,)</td>\n",
       "      <td>x</td>\n",
       "      <td>0.062450+0.000000j</td>\n",
       "      <td>default</td>\n",
       "      <td>True</td>\n",
       "      <td>2022-07-14 15:14:35.606000-0400</td>\n",
       "      <td>273991e1-0985-43d8-9ad2-d9d4738bc1fb</td>\n",
       "    </tr>\n",
       "    <tr>\n",
       "      <th>2</th>\n",
       "      <td>amp</td>\n",
       "      <td>()</td>\n",
       "      <td>sx</td>\n",
       "      <td>0.250000+0.000000j</td>\n",
       "      <td>default</td>\n",
       "      <td>True</td>\n",
       "      <td>2022-07-14 15:14:51.580671-0400</td>\n",
       "      <td>None</td>\n",
       "    </tr>\n",
       "    <tr>\n",
       "      <th>3</th>\n",
       "      <td>amp</td>\n",
       "      <td>()</td>\n",
       "      <td>x</td>\n",
       "      <td>0.500000+0.000000j</td>\n",
       "      <td>default</td>\n",
       "      <td>True</td>\n",
       "      <td>2022-07-14 15:14:51.580614-0400</td>\n",
       "      <td>None</td>\n",
       "    </tr>\n",
       "  </tbody>\n",
       "</table>\n",
       "</div>"
      ],
      "text/plain": [
       "  parameter qubits schedule               value    group  valid  \\\n",
       "0       amp   (0,)       sx  0.031225+0.000000j  default   True   \n",
       "1       amp   (0,)        x  0.062450+0.000000j  default   True   \n",
       "2       amp     ()       sx  0.250000+0.000000j  default   True   \n",
       "3       amp     ()        x  0.500000+0.000000j  default   True   \n",
       "\n",
       "                         date_time                                exp_id  \n",
       "0  2022-07-14 15:14:35.606000-0400  273991e1-0985-43d8-9ad2-d9d4738bc1fb  \n",
       "1  2022-07-14 15:14:35.606000-0400  273991e1-0985-43d8-9ad2-d9d4738bc1fb  \n",
       "2  2022-07-14 15:14:51.580671-0400                                  None  \n",
       "3  2022-07-14 15:14:51.580614-0400                                  None  "
      ]
     },
     "execution_count": 29,
     "metadata": {},
     "output_type": "execute_result"
    }
   ],
   "source": [
    "pd.DataFrame(**cals.parameters_table(qubit_list=[qubit, ()], parameters=\"amp\"))"
   ]
  },
  {
   "cell_type": "markdown",
   "id": "7d1f127f",
   "metadata": {},
   "source": [
    "## 4. Calibrating the value of the DRAG coefficient\n",
    "\n",
    "A Derivative Removal by Adiabatic Gate (DRAG) pulse is designed to minimize leakage\n",
    "to a neighbouring transition. It is a standard pulse with an additional derivative\n",
    "component. It is designed to reduce the frequency spectrum of a normal pulse near\n",
    "the $|1\\rangle$ - $|2\\rangle$ transition, reducing the chance of leakage\n",
    "to the $|2\\rangle$ state. The optimal value of the DRAG parameter is chosen to\n",
    "minimize both leakage and phase errors resulting from the AC Stark shift.\n",
    "The pulse envelope is $f(t) = \\Omega_x(t) + j \\beta \\frac{\\rm d}{{\\rm d }t} \\Omega_x(t)$.\n",
    "Here, $\\Omega_x$ is the envelop of the in-phase component of the pulse and\n",
    "$\\beta$ is the strength of the quadrature which we refer to as the DRAG\n",
    "parameter and seek to calibrate in this experiment. \n",
    "The DRAG calibration will run\n",
    "several series of circuits. In a given circuit a Rp(β) - Rm(β) block is repeated\n",
    "$N$ times. Here, Rp is a rotation with a positive angle and Rm is the same rotation\n",
    "with a negative amplitude."
   ]
  },
  {
   "cell_type": "code",
   "execution_count": 138,
   "id": "74edd0ee",
   "metadata": {},
   "outputs": [],
   "source": [
    "from qiskit_experiments.library import RoughDragCal"
   ]
  },
  {
   "cell_type": "code",
   "execution_count": 139,
   "id": "0f4a2433",
   "metadata": {},
   "outputs": [
    {
     "data": {
      "text/plain": [
       "<qiskit_experiments.calibration_management.calibrations.Calibrations at 0x7f45407e6cd0>"
      ]
     },
     "execution_count": 139,
     "metadata": {},
     "output_type": "execute_result"
    }
   ],
   "source": [
    "cals"
   ]
  },
  {
   "cell_type": "code",
   "execution_count": 140,
   "id": "fac11c93",
   "metadata": {},
   "outputs": [],
   "source": [
    "cal_drag = RoughDragCal(qubit, cals, backend=backend, betas=np.linspace(-20, 20, 25))"
   ]
  },
  {
   "cell_type": "code",
   "execution_count": 141,
   "id": "3a337cf4",
   "metadata": {},
   "outputs": [
    {
     "data": {
      "image/png": "[encoded data removed]",
      "text/plain": [
       "<Figure size 2300.69x451.5 with 1 Axes>"
      ]
     },
     "execution_count": 141,
     "metadata": {},
     "output_type": "execute_result"
    }
   ],
   "source": [
    "cal_drag.set_experiment_options(reps=[3, 5, 7])\n",
    "\n",
    "cal_drag.circuits()[5].draw(output='mpl')"
   ]
  },
  {
   "cell_type": "code",
   "execution_count": 142,
   "id": "6d3a1a58",
   "metadata": {},
   "outputs": [],
   "source": [
    "cirq = cal_drag.circuits()[5]#.draw(output='mpl')"
   ]
  },
  {
   "cell_type": "code",
   "execution_count": 146,
   "id": "491bae41",
   "metadata": {},
   "outputs": [
    {
     "data": {
      "text/plain": [
       "{Play(Drag(duration=320, amp=(0.5+0j), sigma=80, beta=-11.666667), DriveChannel(0)),\n",
       " ShiftPhase(-3.1415926536, DriveChannel(0))}"
      ]
     },
     "execution_count": 146,
     "metadata": {},
     "output_type": "execute_result"
    }
   ],
   "source": [
    "set([item[1] for item in schedule(cirq, hardware_backend).filter(channels=[DriveChannel(0)]).instructions])"
   ]
  },
  {
   "cell_type": "code",
   "execution_count": 148,
   "id": "fcc228aa",
   "metadata": {},
   "outputs": [
    {
     "data": {
      "text/plain": [
       "{Play(Drag(duration=320, amp=(0.5+0j), sigma=80, beta=-11.666667), DriveChannel(0)),\n",
       " ShiftPhase(-3.1415926536, DriveChannel(0))}"
      ]
     },
     "execution_count": 148,
     "metadata": {},
     "output_type": "execute_result"
    }
   ],
   "source": [
    "set(\n",
    "    [\n",
    "        item[1]\n",
    "        for item in schedule(cirq, backend)\n",
    "        .filter(channels=[DriveChannel(0)])\n",
    "        .instructions\n",
    "    ]\n",
    ")"
   ]
  },
  {
   "cell_type": "code",
   "execution_count": null,
   "id": "b5c2fc11",
   "metadata": {},
   "outputs": [],
   "source": []
  },
  {
   "cell_type": "code",
   "execution_count": 32,
   "id": "1ccbff9b",
   "metadata": {},
   "outputs": [
    {
     "data": {
      "text/plain": [
       "{(0,\n",
       "  Play(Drag(duration=320, amp=(0.5+0j), sigma=80, beta=-11.666667), DriveChannel(0))),\n",
       " (1280,\n",
       "  Play(Drag(duration=320, amp=(0.5+0j), sigma=80, beta=-11.666667), DriveChannel(0))),\n",
       " (1280, ShiftPhase(-3.1415926536, ControlChannel(1))),\n",
       " (1280, ShiftPhase(-3.1415926536, DriveChannel(0))),\n",
       " (1600,\n",
       "  Play(Drag(duration=320, amp=(0.5+0j), sigma=80, beta=-11.666667), DriveChannel(0))),\n",
       " (1600, ShiftPhase(-3.1415926536, ControlChannel(1))),\n",
       " (1600, ShiftPhase(-3.1415926536, DriveChannel(0))),\n",
       " (1920, Acquire(22400, AcquireChannel(0), MemorySlot(0))),\n",
       " (1920,\n",
       "  Play(GaussianSquare(duration=22400, amp=(0.008884250867537706-0.023368142556109493j), sigma=64, width=22144, name='M_m0'), MeasureChannel(0), name='M_m0')),\n",
       " (1920, ShiftPhase(-3.1415926536, ControlChannel(1))),\n",
       " (1920, ShiftPhase(-3.1415926536, DriveChannel(0))),\n",
       " (24320, Delay(1680, MeasureChannel(0))),\n",
       " (320,\n",
       "  Play(Drag(duration=320, amp=(0.5+0j), sigma=80, beta=-11.666667), DriveChannel(0))),\n",
       " (320, ShiftPhase(-3.1415926536, ControlChannel(1))),\n",
       " (320, ShiftPhase(-3.1415926536, DriveChannel(0))),\n",
       " (640,\n",
       "  Play(Drag(duration=320, amp=(0.5+0j), sigma=80, beta=-11.666667), DriveChannel(0))),\n",
       " (640, ShiftPhase(-3.1415926536, ControlChannel(1))),\n",
       " (640, ShiftPhase(-3.1415926536, DriveChannel(0))),\n",
       " (960,\n",
       "  Play(Drag(duration=320, amp=(0.5+0j), sigma=80, beta=-11.666667), DriveChannel(0))),\n",
       " (960, ShiftPhase(-3.1415926536, ControlChannel(1))),\n",
       " (960, ShiftPhase(-3.1415926536, DriveChannel(0)))}"
      ]
     },
     "execution_count": 32,
     "metadata": {},
     "output_type": "execute_result"
    }
   ],
   "source": [
    "set(schedule(cirq, hardware_backend).instructions)"
   ]
  },
  {
   "cell_type": "code",
   "execution_count": 47,
   "id": "26c91b2d",
   "metadata": {},
   "outputs": [
    {
     "data": {
      "text/plain": [
       "Schedule((0, Play(Drag(duration=320, amp=(0.5+0j), sigma=80, beta=-11.666667), DriveChannel(0))), (320, ShiftPhase(-3.1415926536, DriveChannel(0))), (320, ShiftPhase(-3.1415926536, ControlChannel(1))), (320, Play(Drag(duration=320, amp=(0.5+0j), sigma=80, beta=-11.666667), DriveChannel(0))), (640, ShiftPhase(-3.1415926536, DriveChannel(0))), (640, ShiftPhase(-3.1415926536, ControlChannel(1))), (640, Play(Drag(duration=320, amp=(0.5+0j), sigma=80, beta=-11.666667), DriveChannel(0))), (960, ShiftPhase(-3.1415926536, DriveChannel(0))), (960, ShiftPhase(-3.1415926536, ControlChannel(1))), (960, Play(Drag(duration=320, amp=(0.5+0j), sigma=80, beta=-11.666667), DriveChannel(0))), (1280, ShiftPhase(-3.1415926536, DriveChannel(0))), (1280, ShiftPhase(-3.1415926536, ControlChannel(1))), (1280, Play(Drag(duration=320, amp=(0.5+0j), sigma=80, beta=-11.666667), DriveChannel(0))), (1600, ShiftPhase(-3.1415926536, DriveChannel(0))), (1600, ShiftPhase(-3.1415926536, ControlChannel(1))), (1600, Play(Drag(duration=320, amp=(0.5+0j), sigma=80, beta=-11.666667), DriveChannel(0))), (1920, ShiftPhase(-3.1415926536, DriveChannel(0))), (1920, ShiftPhase(-3.1415926536, ControlChannel(1))), (1920, Acquire(22400, AcquireChannel(0), MemorySlot(0))), (1920, Play(GaussianSquare(duration=22400, amp=(0.008884250867537706-0.023368142556109493j), sigma=64, width=22144, name='M_m0'), MeasureChannel(0), name='M_m0')), (24320, Delay(1680, MeasureChannel(0))), name=\"circuit-378\")"
      ]
     },
     "execution_count": 47,
     "metadata": {},
     "output_type": "execute_result"
    }
   ],
   "source": [
    "sch = schedule(cirq, hardware_backend)\n",
    "sch"
   ]
  },
  {
   "cell_type": "code",
   "execution_count": 38,
   "id": "011ebb1b",
   "metadata": {},
   "outputs": [
    {
     "data": {
      "text/plain": [
       "dict_items([('Drag(x)', {((0,), (-11.666667,)): ScheduleBlock(Play(Drag(duration=320, amp=(0.5+0j), sigma=80, beta=-11.666667), DriveChannel(0)), name=\"x\", transform=AlignLeft())})])"
      ]
     },
     "execution_count": 38,
     "metadata": {},
     "output_type": "execute_result"
    }
   ],
   "source": [
    "cirq.calibrations.keys()"
   ]
  },
  {
   "cell_type": "code",
   "execution_count": null,
   "id": "1f7b3988",
   "metadata": {},
   "outputs": [],
   "source": []
  },
  {
   "cell_type": "code",
   "execution_count": 33,
   "id": "c3958dff",
   "metadata": {
    "scrolled": false
   },
   "outputs": [],
   "source": [
    "drag_data = cal_drag.run().block_for_results()"
   ]
  },
  {
   "cell_type": "code",
   "execution_count": 34,
   "id": "3a6430f4",
   "metadata": {},
   "outputs": [
    {
     "data": {
      "image/png": "[encoded data removed]",
      "text/plain": [
       "<qiskit_experiments.framework.experiment_data.FigureData at 0x14e4f7be0>"
      ]
     },
     "execution_count": 34,
     "metadata": {},
     "output_type": "execute_result"
    }
   ],
   "source": [
    "drag_data.figure(0)"
   ]
  },
  {
   "cell_type": "code",
   "execution_count": 35,
   "id": "dc39db70",
   "metadata": {},
   "outputs": [
    {
     "name": "stdout",
     "output_type": "stream",
     "text": [
      "AnalysisResult\n",
      "- name: beta\n",
      "- value: 0.909+/-0.007\n",
      "- χ²: 3.4576970514589824\n",
      "- quality: bad\n",
      "- device_components: ['Q0']\n",
      "- verified: False\n"
     ]
    }
   ],
   "source": [
    "print(drag_data.analysis_results(\"beta\"))"
   ]
  },
  {
   "cell_type": "code",
   "execution_count": 36,
   "id": "f02bd7a6",
   "metadata": {},
   "outputs": [
    {
     "data": {
      "text/html": [
       "<div>\n",
       "<style scoped>\n",
       "    .dataframe tbody tr th:only-of-type {\n",
       "        vertical-align: middle;\n",
       "    }\n",
       "\n",
       "    .dataframe tbody tr th {\n",
       "        vertical-align: top;\n",
       "    }\n",
       "\n",
       "    .dataframe thead th {\n",
       "        text-align: right;\n",
       "    }\n",
       "</style>\n",
       "<table border=\"1\" class=\"dataframe\">\n",
       "  <thead>\n",
       "    <tr style=\"text-align: right;\">\n",
       "      <th></th>\n",
       "      <th>parameter</th>\n",
       "      <th>qubits</th>\n",
       "      <th>schedule</th>\n",
       "      <th>value</th>\n",
       "      <th>group</th>\n",
       "      <th>valid</th>\n",
       "      <th>date_time</th>\n",
       "      <th>exp_id</th>\n",
       "    </tr>\n",
       "  </thead>\n",
       "  <tbody>\n",
       "    <tr>\n",
       "      <th>0</th>\n",
       "      <td>β</td>\n",
       "      <td>()</td>\n",
       "      <td>sx</td>\n",
       "      <td>0.000000</td>\n",
       "      <td>default</td>\n",
       "      <td>True</td>\n",
       "      <td>2022-07-14 15:14:51.580660-0400</td>\n",
       "      <td>None</td>\n",
       "    </tr>\n",
       "    <tr>\n",
       "      <th>1</th>\n",
       "      <td>β</td>\n",
       "      <td>()</td>\n",
       "      <td>x</td>\n",
       "      <td>0.000000</td>\n",
       "      <td>default</td>\n",
       "      <td>True</td>\n",
       "      <td>2022-07-14 15:14:51.580628-0400</td>\n",
       "      <td>None</td>\n",
       "    </tr>\n",
       "    <tr>\n",
       "      <th>2</th>\n",
       "      <td>β</td>\n",
       "      <td>(0,)</td>\n",
       "      <td>x</td>\n",
       "      <td>0.908745</td>\n",
       "      <td>default</td>\n",
       "      <td>True</td>\n",
       "      <td>2022-07-14 15:25:35.434000-0400</td>\n",
       "      <td>d809cd2d-9487-449f-b0cd-21a4a048cb1c</td>\n",
       "    </tr>\n",
       "  </tbody>\n",
       "</table>\n",
       "</div>"
      ],
      "text/plain": [
       "  parameter qubits schedule     value    group  valid  \\\n",
       "0         β     ()       sx  0.000000  default   True   \n",
       "1         β     ()        x  0.000000  default   True   \n",
       "2         β   (0,)        x  0.908745  default   True   \n",
       "\n",
       "                         date_time                                exp_id  \n",
       "0  2022-07-14 15:14:51.580660-0400                                  None  \n",
       "1  2022-07-14 15:14:51.580628-0400                                  None  \n",
       "2  2022-07-14 15:25:35.434000-0400  d809cd2d-9487-449f-b0cd-21a4a048cb1c  "
      ]
     },
     "execution_count": 36,
     "metadata": {},
     "output_type": "execute_result"
    }
   ],
   "source": [
    "pd.DataFrame(**cals.parameters_table(qubit_list=[qubit, ()], parameters=\"β\"))"
   ]
  },
  {
   "cell_type": "markdown",
   "id": "00ae061c",
   "metadata": {},
   "source": [
    "## 5. Fine amplitude calibration\n",
    "\n",
    "The `FineAmplitude` calibration experiment repeats $N$ times a gate with a pulse\n",
    "to amplify the under or over-rotations in the gate to determine the optimal amplitude.\n",
    "The circuits that are run have a custom gate with the pulse schedule attached to it\n",
    "through the calibrations."
   ]
  },
  {
   "cell_type": "code",
   "execution_count": 19,
   "id": "20ab91f2",
   "metadata": {},
   "outputs": [],
   "source": [
    "from qiskit_experiments.library.calibration.fine_amplitude import FineXAmplitudeCal"
   ]
  },
  {
   "cell_type": "code",
   "execution_count": 20,
   "id": "bfb3124b",
   "metadata": {},
   "outputs": [],
   "source": [
    "amp_x_cal = FineXAmplitudeCal(qubit, cals, backend=backend, schedule_name=\"x\")"
   ]
  },
  {
   "cell_type": "code",
   "execution_count": 21,
   "id": "45be82ae",
   "metadata": {},
   "outputs": [],
   "source": [
    "cirq = amp_x_cal.circuits()[5]"
   ]
  },
  {
   "cell_type": "code",
   "execution_count": 22,
   "id": "731b9365",
   "metadata": {},
   "outputs": [
    {
     "data": {
      "text/plain": [
       "{}"
      ]
     },
     "execution_count": 22,
     "metadata": {},
     "output_type": "execute_result"
    }
   ],
   "source": [
    "cirq.calibrations"
   ]
  },
  {
   "cell_type": "code",
   "execution_count": 66,
   "id": "fe5ceeb6",
   "metadata": {},
   "outputs": [
    {
     "data": {
      "text/plain": [
       "Schedule((0, Play(Drag(duration=160, amp=(0.05885442398385131+0.0014884595452533136j), sigma=40, beta=0.544902413403091, name='X90p_d0'), DriveChannel(0), name='X90p_d0')), (160, Play(Drag(duration=160, amp=(0.11867831026704413+0j), sigma=40, beta=0.5505000724609678, name='Xp_d0'), DriveChannel(0), name='Xp_d0')), (320, Play(Drag(duration=160, amp=(0.11867831026704413+0j), sigma=40, beta=0.5505000724609678, name='Xp_d0'), DriveChannel(0), name='Xp_d0')), (480, Play(Drag(duration=160, amp=(0.11867831026704413+0j), sigma=40, beta=0.5505000724609678, name='Xp_d0'), DriveChannel(0), name='Xp_d0')), (640, Play(Drag(duration=160, amp=(0.11867831026704413+0j), sigma=40, beta=0.5505000724609678, name='Xp_d0'), DriveChannel(0), name='Xp_d0')), (800, Acquire(22400, AcquireChannel(0), MemorySlot(0))), (800, Play(GaussianSquare(duration=22400, amp=(0.008884250867537706-0.023368142556109493j), sigma=64, width=22144, name='M_m0'), MeasureChannel(0), name='M_m0')), (23200, Delay(1680, MeasureChannel(0))), name=\"circuit-506\")"
      ]
     },
     "execution_count": 66,
     "metadata": {},
     "output_type": "execute_result"
    }
   ],
   "source": [
    "schedule(cirq, backend)"
   ]
  },
  {
   "cell_type": "code",
   "execution_count": null,
   "id": "40f8a3cc",
   "metadata": {},
   "outputs": [],
   "source": []
  },
  {
   "cell_type": "code",
   "execution_count": null,
   "id": "a40e6d22",
   "metadata": {},
   "outputs": [],
   "source": []
  },
  {
   "cell_type": "code",
   "execution_count": 54,
   "id": "c6127e65",
   "metadata": {},
   "outputs": [
    {
     "ename": "NameError",
     "evalue": "name 'plt' is not defined",
     "output_type": "error",
     "traceback": [
      "\u001b[0;31m---------------------------------------------------------------------------\u001b[0m",
      "\u001b[0;31mNameError\u001b[0m                                 Traceback (most recent call last)",
      "\u001b[0;32m/tmp/ipykernel_892/3337483548.py\u001b[0m in \u001b[0;36m<cell line: 1>\u001b[0;34m()\u001b[0m\n\u001b[0;32m----> 1\u001b[0;31m \u001b[0mplt\u001b[0m\u001b[0;34m\u001b[0m\u001b[0;34m\u001b[0m\u001b[0m\n\u001b[0m\u001b[1;32m      2\u001b[0m \u001b[0;34m\u001b[0m\u001b[0m\n\u001b[1;32m      3\u001b[0m \u001b[0mamp_x_cal\u001b[0m\u001b[0;34m.\u001b[0m\u001b[0mcircuits\u001b[0m\u001b[0;34m(\u001b[0m\u001b[0;34m)\u001b[0m\u001b[0;34m[\u001b[0m\u001b[0;36m0\u001b[0m\u001b[0;34m]\u001b[0m\u001b[0;34m.\u001b[0m\u001b[0mdraw\u001b[0m\u001b[0;34m(\u001b[0m\u001b[0moutput\u001b[0m\u001b[0;34m=\u001b[0m\u001b[0;34m\"mpl\"\u001b[0m\u001b[0;34m)\u001b[0m\u001b[0;34m\u001b[0m\u001b[0;34m\u001b[0m\u001b[0m\n",
      "\u001b[0;31mNameError\u001b[0m: name 'plt' is not defined"
     ]
    }
   ],
   "source": [
    "import matplotlib.pyplot as plt\n",
    "\n",
    "plt.subplots(3,1)\n",
    "\n",
    "amp_x_cal.circuits()[0].draw(output=\"mpl\")"
   ]
  },
  {
   "cell_type": "code",
   "execution_count": null,
   "id": "7f04ccca",
   "metadata": {},
   "outputs": [],
   "source": [
    "amp_x_cal.circuits()[1].draw(output=\"mpl\")"
   ]
  },
  {
   "cell_type": "code",
   "execution_count": 40,
   "id": "24067164",
   "metadata": {},
   "outputs": [],
   "source": [
    "data_fine = amp_x_cal.run().block_for_results()"
   ]
  },
  {
   "cell_type": "code",
   "execution_count": 41,
   "id": "076bed0c",
   "metadata": {},
   "outputs": [
    {
     "data": {
      "image/png": "[encoded data removed]",
      "text/plain": [
       "<qiskit_experiments.framework.experiment_data.FigureData at 0x147e5c460>"
      ]
     },
     "execution_count": 41,
     "metadata": {},
     "output_type": "execute_result"
    }
   ],
   "source": [
    "data_fine.figure(0)"
   ]
  },
  {
   "cell_type": "code",
   "execution_count": 42,
   "id": "cf2cc09a",
   "metadata": {},
   "outputs": [
    {
     "name": "stdout",
     "output_type": "stream",
     "text": [
      "AnalysisResult\n",
      "- name: d_theta\n",
      "- value: 0.0212+/-0.0005\n",
      "- χ²: 9.42123821511291\n",
      "- quality: bad\n",
      "- device_components: ['Q0']\n",
      "- verified: False\n"
     ]
    }
   ],
   "source": [
    "print(data_fine.analysis_results(\"d_theta\"))"
   ]
  },
  {
   "cell_type": "markdown",
   "id": "367c2e1f",
   "metadata": {},
   "source": [
    "The cell below shows how the amplitude is updated based on the error in the rotation angle measured by the `FineXAmplitude` experiment. Note that this calculation is automatically done by the `Amplitude.update` function."
   ]
  },
  {
   "cell_type": "code",
   "execution_count": 43,
   "id": "81adf659",
   "metadata": {},
   "outputs": [
    {
     "name": "stdout",
     "output_type": "stream",
     "text": [
      "The ideal angle is 3.14 rad. We measured a deviation of 0.021 rad.\n",
      "Thus, scale the 0.0620+0.0000j pulse amplitude by 0.993 to obtain 0.06162+0.00000j.\n"
     ]
    }
   ],
   "source": [
    "dtheta = data_fine.analysis_results(\"d_theta\").value.nominal_value\n",
    "target_angle = np.pi\n",
    "scale = target_angle / (target_angle + dtheta)\n",
    "pulse_amp = cals.get_parameter_value(\"amp\", qubit, \"x\")\n",
    "print(f\"The ideal angle is {target_angle:.2f} rad. We measured a deviation of {dtheta:.3f} rad.\")\n",
    "print(f\"Thus, scale the {pulse_amp:.4f} pulse amplitude by {scale:.3f} to obtain {pulse_amp*scale:.5f}.\")"
   ]
  },
  {
   "cell_type": "markdown",
   "id": "97c69c65",
   "metadata": {},
   "source": [
    "Observe, once again, that the calibrations have automatically been updated."
   ]
  },
  {
   "cell_type": "code",
   "execution_count": 44,
   "id": "81e7f3de",
   "metadata": {},
   "outputs": [
    {
     "data": {
      "text/html": [
       "<div>\n",
       "<style scoped>\n",
       "    .dataframe tbody tr th:only-of-type {\n",
       "        vertical-align: middle;\n",
       "    }\n",
       "\n",
       "    .dataframe tbody tr th {\n",
       "        vertical-align: top;\n",
       "    }\n",
       "\n",
       "    .dataframe thead th {\n",
       "        text-align: right;\n",
       "    }\n",
       "</style>\n",
       "<table border=\"1\" class=\"dataframe\">\n",
       "  <thead>\n",
       "    <tr style=\"text-align: right;\">\n",
       "      <th></th>\n",
       "      <th>parameter</th>\n",
       "      <th>qubits</th>\n",
       "      <th>schedule</th>\n",
       "      <th>value</th>\n",
       "      <th>group</th>\n",
       "      <th>valid</th>\n",
       "      <th>date_time</th>\n",
       "      <th>exp_id</th>\n",
       "    </tr>\n",
       "  </thead>\n",
       "  <tbody>\n",
       "    <tr>\n",
       "      <th>0</th>\n",
       "      <td>amp</td>\n",
       "      <td>(0,)</td>\n",
       "      <td>sx</td>\n",
       "      <td>0.031225+0.000000j</td>\n",
       "      <td>default</td>\n",
       "      <td>True</td>\n",
       "      <td>2022-07-14 15:14:35.606000-0400</td>\n",
       "      <td>273991e1-0985-43d8-9ad2-d9d4738bc1fb</td>\n",
       "    </tr>\n",
       "    <tr>\n",
       "      <th>1</th>\n",
       "      <td>amp</td>\n",
       "      <td>(0,)</td>\n",
       "      <td>x</td>\n",
       "      <td>0.062032+0.000000j</td>\n",
       "      <td>default</td>\n",
       "      <td>True</td>\n",
       "      <td>2022-07-14 15:33:45.470000-0400</td>\n",
       "      <td>f175c8ae-2db8-4f4a-9856-8b0da99ba563</td>\n",
       "    </tr>\n",
       "    <tr>\n",
       "      <th>2</th>\n",
       "      <td>amp</td>\n",
       "      <td>()</td>\n",
       "      <td>sx</td>\n",
       "      <td>0.250000+0.000000j</td>\n",
       "      <td>default</td>\n",
       "      <td>True</td>\n",
       "      <td>2022-07-14 15:14:51.580671-0400</td>\n",
       "      <td>None</td>\n",
       "    </tr>\n",
       "    <tr>\n",
       "      <th>3</th>\n",
       "      <td>amp</td>\n",
       "      <td>()</td>\n",
       "      <td>x</td>\n",
       "      <td>0.500000+0.000000j</td>\n",
       "      <td>default</td>\n",
       "      <td>True</td>\n",
       "      <td>2022-07-14 15:14:51.580614-0400</td>\n",
       "      <td>None</td>\n",
       "    </tr>\n",
       "  </tbody>\n",
       "</table>\n",
       "</div>"
      ],
      "text/plain": [
       "  parameter qubits schedule               value    group  valid  \\\n",
       "0       amp   (0,)       sx  0.031225+0.000000j  default   True   \n",
       "1       amp   (0,)        x  0.062032+0.000000j  default   True   \n",
       "2       amp     ()       sx  0.250000+0.000000j  default   True   \n",
       "3       amp     ()        x  0.500000+0.000000j  default   True   \n",
       "\n",
       "                         date_time                                exp_id  \n",
       "0  2022-07-14 15:14:35.606000-0400  273991e1-0985-43d8-9ad2-d9d4738bc1fb  \n",
       "1  2022-07-14 15:33:45.470000-0400  f175c8ae-2db8-4f4a-9856-8b0da99ba563  \n",
       "2  2022-07-14 15:14:51.580671-0400                                  None  \n",
       "3  2022-07-14 15:14:51.580614-0400                                  None  "
      ]
     },
     "execution_count": 44,
     "metadata": {},
     "output_type": "execute_result"
    }
   ],
   "source": [
    "pd.DataFrame(**cals.parameters_table(qubit_list=[qubit, ()], parameters=\"amp\"))"
   ]
  },
  {
   "cell_type": "markdown",
   "id": "114a92a9",
   "metadata": {},
   "source": [
    "To check that we have managed to reduce the error in the rotation angle we will run the fine amplitude calibration experiment once again."
   ]
  },
  {
   "cell_type": "code",
   "execution_count": 45,
   "id": "84146c1a",
   "metadata": {},
   "outputs": [],
   "source": [
    "data_fine2 = amp_x_cal.run().block_for_results()"
   ]
  },
  {
   "cell_type": "code",
   "execution_count": 46,
   "id": "5218f8e0",
   "metadata": {},
   "outputs": [
    {
     "data": {
      "image/png": "[encoded data removed]",
      "text/plain": [
       "<qiskit_experiments.framework.experiment_data.FigureData at 0x147d80190>"
      ]
     },
     "execution_count": 46,
     "metadata": {},
     "output_type": "execute_result"
    }
   ],
   "source": [
    "data_fine2.figure(0)"
   ]
  },
  {
   "cell_type": "markdown",
   "id": "2fbc466a",
   "metadata": {},
   "source": [
    "As can be seen from the data above and the analysis result below we have managed to reduce the error in the rotation angle ${\\rm d}\\theta$."
   ]
  },
  {
   "cell_type": "code",
   "execution_count": 47,
   "id": "25ddccd3",
   "metadata": {},
   "outputs": [
    {
     "name": "stdout",
     "output_type": "stream",
     "text": [
      "AnalysisResult\n",
      "- name: d_theta\n",
      "- value: 0.0059+/-0.0005\n",
      "- χ²: 14.235087428889651\n",
      "- quality: bad\n",
      "- device_components: ['Q0']\n",
      "- verified: False\n"
     ]
    }
   ],
   "source": [
    "print(data_fine2.analysis_results(\"d_theta\"))"
   ]
  },
  {
   "cell_type": "markdown",
   "id": "a4935730",
   "metadata": {},
   "source": [
    "### Fine amplitude calibration of the $\\pi/2$ rotation\n",
    "\n",
    "We now wish to calibrate the amplitude of the $\\pi/2$ rotation."
   ]
  },
  {
   "cell_type": "code",
   "execution_count": 25,
   "id": "50423105",
   "metadata": {},
   "outputs": [],
   "source": [
    "from qiskit_experiments.library.calibration.fine_amplitude import FineSXAmplitudeCal"
   ]
  },
  {
   "cell_type": "code",
   "execution_count": 26,
   "id": "a075eacb",
   "metadata": {},
   "outputs": [],
   "source": [
    "amp_sx_cal = FineSXAmplitudeCal(qubit, cals, backend=backend, schedule_name=\"sx\")"
   ]
  },
  {
   "cell_type": "code",
   "execution_count": 27,
   "id": "3d38a13f",
   "metadata": {},
   "outputs": [
    {
     "data": {
      "image/png": "[encoded data removed]",
      "text/plain": [
       "<Figure size 770.731x200.667 with 1 Axes>"
      ]
     },
     "execution_count": 27,
     "metadata": {},
     "output_type": "execute_result"
    }
   ],
   "source": [
    "amp_sx_cal.circuits()[5].draw(output=\"mpl\")"
   ]
  },
  {
   "cell_type": "code",
   "execution_count": null,
   "id": "9c8da558",
   "metadata": {},
   "outputs": [],
   "source": []
  },
  {
   "cell_type": "code",
   "execution_count": 51,
   "id": "6c00c3f5",
   "metadata": {},
   "outputs": [],
   "source": [
    "data_fine_sx = amp_sx_cal.run().block_for_results()"
   ]
  },
  {
   "cell_type": "code",
   "execution_count": 52,
   "id": "0117cb2d",
   "metadata": {},
   "outputs": [
    {
     "data": {
      "image/png": "[encoded data removed]",
      "text/plain": [
       "<qiskit_experiments.framework.experiment_data.FigureData at 0x147fc6190>"
      ]
     },
     "execution_count": 52,
     "metadata": {},
     "output_type": "execute_result"
    }
   ],
   "source": [
    "data_fine_sx.figure(0)"
   ]
  },
  {
   "cell_type": "code",
   "execution_count": 53,
   "id": "3d6416eb",
   "metadata": {},
   "outputs": [
    {
     "name": "stdout",
     "output_type": "stream",
     "text": [
      "AnalysisResult\n",
      "- name: @Parameters_FineAmplitudeAnalysis\n",
      "- value: CurveFitResult:\n",
      " - fitting method: least_squares\n",
      " - number of sub-models: 2\n",
      "  * F_spam cal.(x) = amp / 2 * (2 * x - 1) + base\n",
      "  * F_fine amp.(x) = amp / 2 * cos((d_theta + angle_per_gate) * x - phase_offset)...\n",
      " - success: True\n",
      " - number of function evals: 4\n",
      " - degree of freedom: 11\n",
      " - chi-square: 151.8690392576554\n",
      " - reduced chi-square: 13.806276296150491\n",
      " - Akaike info crit.: 39.37545730432373\n",
      " - Bayesian info crit.: 41.292629293169504\n",
      " - init params:\n",
      "  * amp = 0.9575106223444139\n",
      "  * base = 0.48712821794551364\n",
      "  * d_theta = 0.01609675454624555\n",
      "  * angle_per_gate = 1.5707963267948966\n",
      "  * phase_offset = 3.141592653589793\n",
      " - fit params:\n",
      "  * amp = 0.9577757484044117 ± 0.0030085604459862336\n",
      "  * base = 0.48725465793313366 ± 0.0013044949734525495\n",
      "  * d_theta = 0.017888140290864118 ± 0.0003383997071097267\n",
      "  * angle_per_gate = 1.5707963267948966 ± 0.0\n",
      "  * phase_offset = 3.141592653589793 ± 0.0\n",
      " - correlations:\n",
      "  * (amp, d_theta) = -0.22302123064374882\n",
      "  * (base, d_theta) = -0.18796538515909572\n",
      "  * (amp, base) = 0.5175856247793784\n",
      "- quality: bad\n",
      "- device_components: ['Q0']\n",
      "- verified: False\n"
     ]
    }
   ],
   "source": [
    "print(data_fine_sx.analysis_results(0))"
   ]
  },
  {
   "cell_type": "code",
   "execution_count": 54,
   "id": "5d5a1131",
   "metadata": {},
   "outputs": [
    {
     "name": "stdout",
     "output_type": "stream",
     "text": [
      "AnalysisResult\n",
      "- name: d_theta\n",
      "- value: 0.01789+/-0.00034\n",
      "- χ²: 13.806276296150491\n",
      "- quality: bad\n",
      "- device_components: ['Q0']\n",
      "- verified: False\n"
     ]
    }
   ],
   "source": [
    "print(data_fine_sx.analysis_results(\"d_theta\"))"
   ]
  },
  {
   "cell_type": "markdown",
   "id": "72571816",
   "metadata": {},
   "source": [
    "The parameter value is reflected in the calibrations."
   ]
  },
  {
   "cell_type": "code",
   "execution_count": 55,
   "id": "ae984c47",
   "metadata": {},
   "outputs": [
    {
     "data": {
      "text/html": [
       "<div>\n",
       "<style scoped>\n",
       "    .dataframe tbody tr th:only-of-type {\n",
       "        vertical-align: middle;\n",
       "    }\n",
       "\n",
       "    .dataframe tbody tr th {\n",
       "        vertical-align: top;\n",
       "    }\n",
       "\n",
       "    .dataframe thead th {\n",
       "        text-align: right;\n",
       "    }\n",
       "</style>\n",
       "<table border=\"1\" class=\"dataframe\">\n",
       "  <thead>\n",
       "    <tr style=\"text-align: right;\">\n",
       "      <th></th>\n",
       "      <th>parameter</th>\n",
       "      <th>qubits</th>\n",
       "      <th>schedule</th>\n",
       "      <th>value</th>\n",
       "      <th>group</th>\n",
       "      <th>valid</th>\n",
       "      <th>date_time</th>\n",
       "      <th>exp_id</th>\n",
       "    </tr>\n",
       "  </thead>\n",
       "  <tbody>\n",
       "    <tr>\n",
       "      <th>0</th>\n",
       "      <td>amp</td>\n",
       "      <td>(0,)</td>\n",
       "      <td>sx</td>\n",
       "      <td>0.030873+0.000000j</td>\n",
       "      <td>default</td>\n",
       "      <td>True</td>\n",
       "      <td>2022-07-14 15:48:35.561000-0400</td>\n",
       "      <td>8975dc2f-4c33-4320-9cad-55078d42a509</td>\n",
       "    </tr>\n",
       "    <tr>\n",
       "      <th>1</th>\n",
       "      <td>amp</td>\n",
       "      <td>(0,)</td>\n",
       "      <td>x</td>\n",
       "      <td>0.061915+0.000000j</td>\n",
       "      <td>default</td>\n",
       "      <td>True</td>\n",
       "      <td>2022-07-14 15:42:25.570000-0400</td>\n",
       "      <td>3473321c-f37a-4933-9c99-821cff0c2f5f</td>\n",
       "    </tr>\n",
       "    <tr>\n",
       "      <th>2</th>\n",
       "      <td>amp</td>\n",
       "      <td>()</td>\n",
       "      <td>sx</td>\n",
       "      <td>0.250000+0.000000j</td>\n",
       "      <td>default</td>\n",
       "      <td>True</td>\n",
       "      <td>2022-07-14 15:14:51.580671-0400</td>\n",
       "      <td>None</td>\n",
       "    </tr>\n",
       "    <tr>\n",
       "      <th>3</th>\n",
       "      <td>amp</td>\n",
       "      <td>()</td>\n",
       "      <td>x</td>\n",
       "      <td>0.500000+0.000000j</td>\n",
       "      <td>default</td>\n",
       "      <td>True</td>\n",
       "      <td>2022-07-14 15:14:51.580614-0400</td>\n",
       "      <td>None</td>\n",
       "    </tr>\n",
       "  </tbody>\n",
       "</table>\n",
       "</div>"
      ],
      "text/plain": [
       "  parameter qubits schedule               value    group  valid  \\\n",
       "0       amp   (0,)       sx  0.030873+0.000000j  default   True   \n",
       "1       amp   (0,)        x  0.061915+0.000000j  default   True   \n",
       "2       amp     ()       sx  0.250000+0.000000j  default   True   \n",
       "3       amp     ()        x  0.500000+0.000000j  default   True   \n",
       "\n",
       "                         date_time                                exp_id  \n",
       "0  2022-07-14 15:48:35.561000-0400  8975dc2f-4c33-4320-9cad-55078d42a509  \n",
       "1  2022-07-14 15:42:25.570000-0400  3473321c-f37a-4933-9c99-821cff0c2f5f  \n",
       "2  2022-07-14 15:14:51.580671-0400                                  None  \n",
       "3  2022-07-14 15:14:51.580614-0400                                  None  "
      ]
     },
     "execution_count": 55,
     "metadata": {},
     "output_type": "execute_result"
    }
   ],
   "source": [
    "pd.DataFrame(**cals.parameters_table(qubit_list=[qubit, ()], parameters=\"amp\"))"
   ]
  },
  {
   "cell_type": "code",
   "execution_count": 56,
   "id": "f7cb5878",
   "metadata": {},
   "outputs": [
    {
     "data": {
      "text/plain": [
       "ScheduleBlock(Play(Drag(duration=320, amp=(0.0308733757+0j), sigma=80, beta=0), DriveChannel(0)), name=\"sx\", transform=AlignLeft())"
      ]
     },
     "execution_count": 56,
     "metadata": {},
     "output_type": "execute_result"
    }
   ],
   "source": [
    "cals.get_schedule(\"sx\", qubit)"
   ]
  },
  {
   "cell_type": "code",
   "execution_count": 57,
   "id": "f45f6482",
   "metadata": {},
   "outputs": [
    {
     "data": {
      "text/plain": [
       "ScheduleBlock(Play(Drag(duration=320, amp=(0.0619148338+0j), sigma=80, beta=0.9087453946), DriveChannel(0)), name=\"x\", transform=AlignLeft())"
      ]
     },
     "execution_count": 57,
     "metadata": {},
     "output_type": "execute_result"
    }
   ],
   "source": [
    "cals.get_schedule(\"x\", qubit)"
   ]
  },
  {
   "cell_type": "code",
   "execution_count": 58,
   "id": "68f6e469",
   "metadata": {},
   "outputs": [
    {
     "data": {
      "text/plain": [
       "ScheduleBlock(Play(Drag(duration=320, amp=0.0619148338j, sigma=80, beta=0.9087453946), DriveChannel(0)), name=\"y\", transform=AlignLeft())"
      ]
     },
     "execution_count": 58,
     "metadata": {},
     "output_type": "execute_result"
    }
   ],
   "source": [
    "cals.get_schedule(\"y\", qubit)"
   ]
  },
  {
   "cell_type": "code",
   "execution_count": 59,
   "id": "8c8369d4",
   "metadata": {},
   "outputs": [
    {
     "data": {
      "text/html": [
       "<div style='width: 100%; background-color:#d5d9e0;padding-left: 10px; padding-bottom: 10px; padding-right: 10px; padding-top: 5px'><h3>This code is a part of Qiskit</h3><p>&copy; Copyright IBM 2017, 2022.</p><p>This code is licensed under the Apache License, Version 2.0. You may<br>obtain a copy of this license in the LICENSE.txt file in the root directory<br> of this source tree or at http://www.apache.org/licenses/LICENSE-2.0.<p>Any modifications or derivative works of this code must retain this<br>copyright notice, and modified files need to carry a notice indicating<br>that they have been altered from the originals.</p></div>"
      ],
      "text/plain": [
       "<IPython.core.display.HTML object>"
      ]
     },
     "metadata": {},
     "output_type": "display_data"
    }
   ],
   "source": [
    "import qiskit.tools.jupyter\n",
    "%qiskit_copyright"
   ]
  }
 ],
 "metadata": {
  "kernelspec": {
   "display_name": "Python 3 (ipykernel)",
   "language": "python",
   "name": "python3"
  },
  "language_info": {
   "codemirror_mode": {
    "name": "ipython",
    "version": 3
   },
   "file_extension": ".py",
   "mimetype": "text/x-python",
   "name": "python",
   "nbconvert_exporter": "python",
   "pygments_lexer": "ipython3",
   "version": "3.8.13"
  },
  "varInspector": {
   "cols": {
    "lenName": 16,
    "lenType": 16,
    "lenVar": 40
   },
   "kernels_config": {
    "python": {
     "delete_cmd_postfix": "",
     "delete_cmd_prefix": "del ",
     "library": "var_list.py",
     "varRefreshCmd": "print(var_dic_list())"
    },
    "r": {
     "delete_cmd_postfix": ") ",
     "delete_cmd_prefix": "rm(",
     "library": "var_list.r",
     "varRefreshCmd": "cat(var_dic_list()) "
    }
   },
   "types_to_exclude": [
    "module",
    "function",
    "builtin_function_or_method",
    "instance",
    "_Feature"
   ],
   "window_display": false
  },
  "vscode": {
   "interpreter": {
    "hash": "787f1dba2b6edbabee498f9e44be5f3c798b35e56e6755c95aa892a611bb84f2"
   }
  }
 },
 "nbformat": 4,
 "nbformat_minor": 5
}
