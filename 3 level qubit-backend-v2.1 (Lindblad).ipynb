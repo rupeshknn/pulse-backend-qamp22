{
 "cells": [
  {
   "cell_type": "code",
   "execution_count": 2,
   "id": "55437f0c",
   "metadata": {
    "ExecuteTime": {
     "end_time": "2022-09-22T10:11:48.511227Z",
     "start_time": "2022-09-22T10:11:48.504008Z"
    }
   },
   "outputs": [],
   "source": [
    "import datetime\n",
    "import numpy as np\n",
    "import pandas as pd\n",
    "from matplotlib import pyplot as plt\n",
    "\n",
    "plt.rcParams[\"font.size\"] = 16\n",
    "\n",
    "from qiskit import QuantumCircuit, IBMQ, schedule\n",
    "import qiskit.pulse as pulse\n",
    "from qiskit.quantum_info.states import Statevector\n",
    "from qiskit_dynamics import Solver, Signal\n",
    "from qiskit_dynamics.pulse import InstructionToSignals\n",
    "from qiskit.providers import BackendV2, QubitProperties\n",
    "from qiskit.providers.options import Options\n",
    "from qiskit.transpiler import Target\n",
    "\n",
    "\n",
    "from qiskit.providers.models import PulseDefaults\n",
    "from qiskit.qobj.pulse_qobj import PulseLibraryItem, PulseQobjInstruction\n",
    "from qiskit.providers.models.pulsedefaults import Command\n",
    "\n",
    "from qiskit_experiments.exceptions import QiskitError\n",
    "from qiskit.result import Result\n",
    "from qiskit.quantum_info import Statevector"
   ]
  },
  {
   "cell_type": "code",
   "execution_count": 3,
   "id": "c922bee0",
   "metadata": {},
   "outputs": [],
   "source": [
    "IBMQ.load_account()\n",
    "provider = IBMQ.get_provider(hub=\"ibm-q\", group=\"open\", project=\"main\")\n",
    "h_backend = provider.get_backend(\"ibmq_lima\")"
   ]
  },
  {
   "cell_type": "code",
   "execution_count": 10,
   "id": "0b67df13",
   "metadata": {},
   "outputs": [],
   "source": [
    "qubit_frequency= 5e9\n",
    "anharmonicity= -0.25e9\n",
    "lambda_1= 1e9\n",
    "lambda_2= 0.8e9\n",
    "\n",
    "\n",
    "\n",
    "qubit_frequency_02 = 2 * qubit_frequency + anharmonicity\n",
    "ket0 = np.array([[1, 0, 0]]).T\n",
    "ket1 = np.array([[0, 1, 0]]).T\n",
    "ket2 = np.array([[0, 0, 1]]).T\n",
    "\n",
    "sigma_m1 = ket0 @ ket1.T.conj()\n",
    "sigma_m2 = ket1 @ ket2.T.conj()\n",
    "\n",
    "sigma_p1 = sigma_m1.T.conj()\n",
    "sigma_p2 = sigma_m2.T.conj()\n",
    "\n",
    "p1 = ket1 @ ket1.T.conj()\n",
    "p2 = ket2 @ ket2.T.conj()\n",
    "\n",
    "drift = 2 * np.pi * (qubit_frequency * p1 + qubit_frequency_02 * p2)\n",
    "control = [\n",
    "    2\n",
    "    * np.pi\n",
    "    * (lambda_1 * (sigma_p1 + sigma_m1) + lambda_2 * (sigma_p2 + sigma_m2))\n",
    "]\n",
    "r_frame = 2 * np.pi * qubit_frequency * (p1 + 2 * p2)"
   ]
  },
  {
   "cell_type": "code",
   "execution_count": 20,
   "id": "a74767d6",
   "metadata": {},
   "outputs": [],
   "source": [
    "# construct the solver\n",
    "hamiltonian_solver = Solver(\n",
    "    static_hamiltonian=drift,\n",
    "    hamiltonian_operators=control,\n",
    "    rotating_frame=r_frame,\n",
    "    rwa_cutoff_freq=1.9 * qubit_frequency,\n",
    "    rwa_carrier_freqs=[qubit_frequency],\n",
    ")"
   ]
  },
  {
   "cell_type": "code",
   "execution_count": 24,
   "id": "115ae483",
   "metadata": {},
   "outputs": [],
   "source": [
    "y0 = Statevector([1.0, 0.0, 0.0])\n",
    "dt = 0.1\n",
    "area = 0.42\n",
    "sigma = 5  # ns\n",
    "amp = area / sigma\n",
    "sigma = sigma / dt  # ns\n",
    "\n",
    "duration = np.math.ceil(sigma * 5)\n",
    "T = duration * dt  # ns"
   ]
  },
  {
   "cell_type": "code",
   "execution_count": null,
   "id": "c763c359",
   "metadata": {},
   "outputs": [],
   "source": [
    "with pulse.build(backend) as schedule:\n",
    "    pulse.shift_phase(np.pi, channel)"
   ]
  },
  {
   "cell_type": "code",
   "execution_count": null,
   "id": "7eb02488",
   "metadata": {},
   "outputs": [],
   "source": []
  },
  {
   "cell_type": "code",
   "execution_count": 44,
   "id": "58042ce7",
   "metadata": {},
   "outputs": [],
   "source": [
    "converter = InstructionToSignals(dt, carriers={\"d0\": qubit_frequency})\n",
    "def make_signal(duration, amp, sigma, w, dt=dt):\n",
    "\n",
    "    with pulse.build(name=\"spec\") as spec:\n",
    "        shift = w - qubit_frequency\n",
    "        print(shift)\n",
    "        pulse.ShiftFrequency(shift, pulse.DriveChannel(0))\n",
    "        pulse.play(\n",
    "            pulse.Gaussian(duration=duration, amp=amp, sigma=sigma),\n",
    "            pulse.DriveChannel(0),\n",
    "        )\n",
    "        pulse.ShiftFrequency(-shift, pulse.DriveChannel(0))\n",
    "        \n",
    "    signals = converter.get_signals(spec)\n",
    "    return signals  , spec.draw()"
   ]
  },
  {
   "cell_type": "code",
   "execution_count": 45,
   "id": "63910a79",
   "metadata": {},
   "outputs": [
    {
     "name": "stdout",
     "output_type": "stream",
     "text": [
      "500000000.0\n"
     ]
    },
    {
     "data": {
      "image/png": "[encoded data removed]",
      "text/plain": [
       "<Figure size 1300x165 with 1 Axes>"
      ]
     },
     "execution_count": 45,
     "metadata": {},
     "output_type": "execute_result"
    }
   ],
   "source": [
    "make_signal(duration, amp, sigma, qubit_frequency*1.1, dt=dt)[1]"
   ]
  },
  {
   "cell_type": "code",
   "execution_count": null,
   "id": "82ef91e4",
   "metadata": {},
   "outputs": [],
   "source": []
  },
  {
   "cell_type": "code",
   "execution_count": 28,
   "id": "56b0ac29",
   "metadata": {},
   "outputs": [
    {
     "ename": "TypeError",
     "evalue": "play() missing 1 required positional argument: 'channel'",
     "output_type": "error",
     "traceback": [
      "\u001b[0;31m---------------------------------------------------------------------------\u001b[0m",
      "\u001b[0;31mTypeError\u001b[0m                                 Traceback (most recent call last)",
      "\u001b[0;32m/tmp/ipykernel_30337/576828770.py\u001b[0m in \u001b[0;36m<cell line: 1>\u001b[0;34m()\u001b[0m\n\u001b[1;32m      3\u001b[0m     \u001b[0my0\u001b[0m\u001b[0;34m=\u001b[0m\u001b[0my0\u001b[0m\u001b[0;34m,\u001b[0m\u001b[0;34m\u001b[0m\u001b[0;34m\u001b[0m\u001b[0m\n\u001b[1;32m      4\u001b[0m     \u001b[0mt_eval\u001b[0m\u001b[0;34m=\u001b[0m\u001b[0;34m[\u001b[0m\u001b[0mT\u001b[0m\u001b[0;34m]\u001b[0m\u001b[0;34m,\u001b[0m\u001b[0;34m\u001b[0m\u001b[0;34m\u001b[0m\u001b[0m\n\u001b[0;32m----> 5\u001b[0;31m     \u001b[0msignals\u001b[0m\u001b[0;34m=\u001b[0m\u001b[0mmake_signal\u001b[0m\u001b[0;34m(\u001b[0m\u001b[0mduration\u001b[0m\u001b[0;34m,\u001b[0m \u001b[0mamp\u001b[0m\u001b[0;34m,\u001b[0m \u001b[0msigma\u001b[0m\u001b[0;34m,\u001b[0m \u001b[0mqubit_frequency\u001b[0m\u001b[0;34m,\u001b[0m \u001b[0mdt\u001b[0m\u001b[0;34m=\u001b[0m\u001b[0mdt\u001b[0m\u001b[0;34m)\u001b[0m\u001b[0;34m,\u001b[0m\u001b[0;34m\u001b[0m\u001b[0;34m\u001b[0m\u001b[0m\n\u001b[0m\u001b[1;32m      6\u001b[0m     \u001b[0mmethod\u001b[0m\u001b[0;34m=\u001b[0m\u001b[0;34m\"RK23\"\u001b[0m\u001b[0;34m,\u001b[0m\u001b[0;34m\u001b[0m\u001b[0;34m\u001b[0m\u001b[0m\n\u001b[1;32m      7\u001b[0m ).y[0]\n",
      "\u001b[0;32m/tmp/ipykernel_30337/2251723565.py\u001b[0m in \u001b[0;36mmake_signal\u001b[0;34m(duration, amp, sigma, w, dt)\u001b[0m\n\u001b[1;32m      4\u001b[0m     \u001b[0;32mwith\u001b[0m \u001b[0mpulse\u001b[0m\u001b[0;34m.\u001b[0m\u001b[0mbuild\u001b[0m\u001b[0;34m(\u001b[0m\u001b[0mname\u001b[0m\u001b[0;34m=\u001b[0m\u001b[0;34m\"spec\"\u001b[0m\u001b[0;34m)\u001b[0m \u001b[0;32mas\u001b[0m \u001b[0mspec\u001b[0m\u001b[0;34m:\u001b[0m\u001b[0;34m\u001b[0m\u001b[0;34m\u001b[0m\u001b[0m\n\u001b[1;32m      5\u001b[0m         \u001b[0mshift\u001b[0m \u001b[0;34m=\u001b[0m \u001b[0mqubit_frequency\u001b[0m \u001b[0;34m-\u001b[0m \u001b[0mw\u001b[0m\u001b[0;34m\u001b[0m\u001b[0;34m\u001b[0m\u001b[0m\n\u001b[0;32m----> 6\u001b[0;31m         \u001b[0mpulse\u001b[0m\u001b[0;34m.\u001b[0m\u001b[0mplay\u001b[0m\u001b[0;34m(\u001b[0m\u001b[0mpulse\u001b[0m\u001b[0;34m.\u001b[0m\u001b[0mShiftFrequency\u001b[0m\u001b[0;34m(\u001b[0m\u001b[0mshift\u001b[0m\u001b[0;34m,\u001b[0m \u001b[0mpulse\u001b[0m\u001b[0;34m.\u001b[0m\u001b[0mDriveChannel\u001b[0m\u001b[0;34m(\u001b[0m\u001b[0;36m0\u001b[0m\u001b[0;34m)\u001b[0m\u001b[0;34m)\u001b[0m\u001b[0;34m)\u001b[0m\u001b[0;34m\u001b[0m\u001b[0;34m\u001b[0m\u001b[0m\n\u001b[0m\u001b[1;32m      7\u001b[0m         pulse.play(\n\u001b[1;32m      8\u001b[0m             \u001b[0mpulse\u001b[0m\u001b[0;34m.\u001b[0m\u001b[0mGaussian\u001b[0m\u001b[0;34m(\u001b[0m\u001b[0mduration\u001b[0m\u001b[0;34m=\u001b[0m\u001b[0mduration\u001b[0m\u001b[0;34m,\u001b[0m \u001b[0mamp\u001b[0m\u001b[0;34m=\u001b[0m\u001b[0mamp\u001b[0m\u001b[0;34m,\u001b[0m \u001b[0msigma\u001b[0m\u001b[0;34m=\u001b[0m\u001b[0msigma\u001b[0m\u001b[0;34m)\u001b[0m\u001b[0;34m,\u001b[0m\u001b[0;34m\u001b[0m\u001b[0;34m\u001b[0m\u001b[0m\n",
      "\u001b[0;31mTypeError\u001b[0m: play() missing 1 required positional argument: 'channel'"
     ]
    }
   ],
   "source": [
    "result = hamiltonian_solver.solve(\n",
    "    t_span=[0.0, T],\n",
    "    y0=y0,\n",
    "    t_eval=[T],\n",
    "    signals=make_signal(duration, amp, sigma, qubit_frequency, dt=dt),\n",
    "    method=\"RK23\",\n",
    ").y[0]"
   ]
  },
  {
   "cell_type": "code",
   "execution_count": null,
   "id": "fa278b45",
   "metadata": {},
   "outputs": [],
   "source": []
  }
 ],
 "metadata": {
  "kernelspec": {
   "display_name": "Python 3 (ipykernel)",
   "language": "python",
   "name": "python3"
  },
  "language_info": {
   "codemirror_mode": {
    "name": "ipython",
    "version": 3
   },
   "file_extension": ".py",
   "mimetype": "text/x-python",
   "name": "python",
   "nbconvert_exporter": "python",
   "pygments_lexer": "ipython3",
   "version": "3.8.13"
  },
  "latex_envs": {
   "LaTeX_envs_menu_present": true,
   "autoclose": true,
   "autocomplete": true,
   "bibliofile": "biblio.bib",
   "cite_by": "apalike",
   "current_citInitial": 1,
   "eqLabelWithNumbers": true,
   "eqNumInitial": 1,
   "hotkeys": {
    "equation": "ctrl-shift-e"
   },
   "labels_anchors": false,
   "latex_user_defs": false,
   "report_style_numbering": false,
   "user_envs_cfg": false
  },
  "varInspector": {
   "cols": {
    "lenName": 16,
    "lenType": 16,
    "lenVar": 40
   },
   "kernels_config": {
    "python": {
     "delete_cmd_postfix": "",
     "delete_cmd_prefix": "del ",
     "library": "var_list.py",
     "varRefreshCmd": "print(var_dic_list())"
    },
    "r": {
     "delete_cmd_postfix": ") ",
     "delete_cmd_prefix": "rm(",
     "library": "var_list.r",
     "varRefreshCmd": "cat(var_dic_list()) "
    }
   },
   "oldHeight": 165.85,
   "position": {
    "height": "187.85px",
    "left": "21.2px",
    "right": "20px",
    "top": "8px",
    "width": "555px"
   },
   "types_to_exclude": [
    "module",
    "function",
    "builtin_function_or_method",
    "instance",
    "_Feature"
   ],
   "varInspector_section_display": "block",
   "window_display": false
  }
 },
 "nbformat": 4,
 "nbformat_minor": 5
}
