{
 "cells": [
  {
   "cell_type": "code",
   "execution_count": 1,
   "id": "55437f0c",
   "metadata": {
    "ExecuteTime": {
     "end_time": "2022-09-22T10:11:48.511227Z",
     "start_time": "2022-09-22T10:11:48.504008Z"
    }
   },
   "outputs": [],
   "source": [
    "import datetime\n",
    "import numpy as np\n",
    "import pandas as pd\n",
    "from matplotlib import pyplot as plt\n",
    "\n",
    "plt.rcParams[\"font.size\"] = 16\n",
    "\n",
    "from qiskit import QuantumCircuit, IBMQ, schedule\n",
    "import qiskit.pulse as pulse\n",
    "from qiskit.quantum_info.states import Statevector, DensityMatrix\n",
    "from qiskit_dynamics import Solver, Signal\n",
    "from qiskit_dynamics.pulse import InstructionToSignals\n",
    "from qiskit.providers import BackendV2, QubitProperties\n",
    "from qiskit.providers.options import Options\n",
    "from qiskit.transpiler import Target\n",
    "\n",
    "\n",
    "from qiskit.providers.models import PulseDefaults\n",
    "from qiskit.qobj.pulse_qobj import PulseLibraryItem, PulseQobjInstruction\n",
    "from qiskit.providers.models.pulsedefaults import Command\n",
    "\n",
    "from qiskit_experiments.exceptions import QiskitError\n",
    "from qiskit.result import Result\n",
    "from qiskit.quantum_info import Statevector"
   ]
  },
  {
   "cell_type": "code",
   "execution_count": 2,
   "id": "c922bee0",
   "metadata": {},
   "outputs": [],
   "source": [
    "# IBMQ.load_account()\n",
    "# provider = IBMQ.get_provider(hub=\"ibm-q\", group=\"open\", project=\"main\")\n",
    "# h_backend = provider.get_backend(\"ibmq_lima\")"
   ]
  },
  {
   "cell_type": "code",
   "execution_count": 169,
   "id": "0b67df13",
   "metadata": {},
   "outputs": [],
   "source": [
    "qubit_frequency= 5e9\n",
    "anharmonicity= -0.25e9\n",
    "lambda_1= 1e9\n",
    "lambda_2= 0.8e9\n",
    "gamma_1 = 0.01e9\n",
    "\n",
    "qubit_frequency_02 = 2 * qubit_frequency + anharmonicity\n",
    "ket0 = np.array([[1, 0, 0]]).T\n",
    "ket1 = np.array([[0, 1, 0]]).T\n",
    "ket2 = np.array([[0, 0, 1]]).T\n",
    "\n",
    "sigma_m1 = ket0 @ ket1.T.conj()\n",
    "sigma_m2 = ket1 @ ket2.T.conj()\n",
    "\n",
    "sigma_p1 = sigma_m1.T.conj()\n",
    "sigma_p2 = sigma_m2.T.conj()\n",
    "\n",
    "p1 = ket1 @ ket1.T.conj()\n",
    "p2 = ket2 @ ket2.T.conj()\n",
    "\n",
    "s_p = ket0 @ ket1.T\n",
    "\n",
    "drift = 2 * np.pi * (qubit_frequency * p1 + qubit_frequency_02 * p2)\n",
    "control = [\n",
    "    2\n",
    "    * np.pi\n",
    "    * (lambda_1 * (sigma_p1 + sigma_m1) + lambda_2 * (sigma_p2 + sigma_m2))\n",
    "]\n",
    "r_frame = 2 * np.pi * qubit_frequency * (p1 + 2 * p2)\n",
    "\n",
    "# construct the solver\n",
    "hamiltonian_solver = Solver(\n",
    "    static_hamiltonian=drift,\n",
    "    hamiltonian_operators=control,\n",
    "    static_dissipators=[np.sqrt(gamma_1) * s_p],\n",
    "    rotating_frame=r_frame,\n",
    "    rwa_cutoff_freq=1.9 * qubit_frequency,\n",
    "    rwa_carrier_freqs=[qubit_frequency],\n",
    "    evaluation_mode = \"dense_vectorized\"\n",
    ")"
   ]
  },
  {
   "cell_type": "code",
   "execution_count": 170,
   "id": "2e43badc",
   "metadata": {},
   "outputs": [],
   "source": [
    "# hamiltonian_solver.model.evaluate(0)"
   ]
  },
  {
   "cell_type": "code",
   "execution_count": 177,
   "id": "115ae483",
   "metadata": {},
   "outputs": [],
   "source": [
    "y0 = np.eye(9)#DensityMatrix(ket0 @ ket0.T) #Statevector([1.0, 0.0, 0.0])\n",
    "dt = 0.1*1e-9\n",
    "sigma = 40\n",
    "amp =  0.05833786\n",
    "duration = 160\n",
    "T = duration * dt"
   ]
  },
  {
   "cell_type": "code",
   "execution_count": 178,
   "id": "2168f793",
   "metadata": {},
   "outputs": [],
   "source": [
    "\n",
    "# Gamma_2 = 0.1e9\n",
    "\n",
    "# y0 = DensityMatrix.from_label('0')\n"
   ]
  },
  {
   "cell_type": "code",
   "execution_count": 179,
   "id": "58042ce7",
   "metadata": {},
   "outputs": [],
   "source": [
    "converter = InstructionToSignals(dt, carriers={\"d0\": qubit_frequency})\n",
    "def make_signal(duration, amp, sigma, w, dt=dt):\n",
    "\n",
    "    with pulse.build(name=\"spec\") as spec:\n",
    "        shift = w - qubit_frequency\n",
    "        pulse.shift_frequency(shift, pulse.DriveChannel(0))\n",
    "        pulse.play(\n",
    "            pulse.Gaussian(duration=duration, amp=amp, sigma=sigma),\n",
    "            pulse.DriveChannel(0),\n",
    "        )\n",
    "        pulse.shift_frequency(-shift, pulse.DriveChannel(0))\n",
    "\n",
    "    signals = converter.get_signals(spec)\n",
    "    return signals, spec.draw()"
   ]
  },
  {
   "cell_type": "code",
   "execution_count": 180,
   "id": "63910a79",
   "metadata": {},
   "outputs": [
    {
     "data": {
      "image/png": "[encoded data removed]",
      "text/plain": [
       "<Figure size 1300x165 with 1 Axes>"
      ]
     },
     "execution_count": 180,
     "metadata": {},
     "output_type": "execute_result"
    }
   ],
   "source": [
    "make_signal(duration, amp, sigma, qubit_frequency*1.1, dt=dt)[1]"
   ]
  },
  {
   "cell_type": "code",
   "execution_count": 181,
   "id": "56b0ac29",
   "metadata": {},
   "outputs": [],
   "source": [
    "result = hamiltonian_solver.solve(\n",
    "    t_span=[0.0, T*2],\n",
    "    y0=y0,\n",
    "#     t_eval=[T],\n",
    "    signals=make_signal(duration, amp, sigma, qubit_frequency, dt=dt)[0],\n",
    "    method=\"RK23\",\n",
    ").y"
   ]
  },
  {
   "cell_type": "code",
   "execution_count": 195,
   "id": "86d24f54",
   "metadata": {},
   "outputs": [
    {
     "data": {
      "text/plain": [
       "(148, 9, 9)"
      ]
     },
     "execution_count": 195,
     "metadata": {},
     "output_type": "execute_result"
    }
   ],
   "source": [
    "result.shape"
   ]
  },
  {
   "cell_type": "code",
   "execution_count": 191,
   "id": "62a2f2e3",
   "metadata": {},
   "outputs": [
    {
     "data": {
      "text/plain": [
       "array([[1],\n",
       "       [0],\n",
       "       [0],\n",
       "       [0],\n",
       "       [0],\n",
       "       [0],\n",
       "       [0],\n",
       "       [0],\n",
       "       [0]])"
      ]
     },
     "execution_count": 191,
     "metadata": {},
     "output_type": "execute_result"
    }
   ],
   "source": [
    "rho_g = ket0 @ ket0.T\n",
    "gs_vec = rho_g.T.reshape(9, 1)\n",
    "gs_vec"
   ]
  },
  {
   "cell_type": "code",
   "execution_count": 214,
   "id": "d50645a1",
   "metadata": {},
   "outputs": [],
   "source": [
    "result_vec = [DensityMatrix((res @ gs_vec).reshape(3,3)) for res in result]"
   ]
  },
  {
   "cell_type": "code",
   "execution_count": 205,
   "id": "17f5e0f7",
   "metadata": {},
   "outputs": [
    {
     "data": {
      "text/plain": [
       "array([[ 2.04165570e-01-4.68287822e-18j],\n",
       "       [-2.89451500e-02-2.56898857e-02j],\n",
       "       [ 1.40484883e-04-1.11167061e-04j],\n",
       "       [-2.89451500e-02+2.56898857e-02j],\n",
       "       [ 7.95812647e-01+4.49409759e-18j],\n",
       "       [-7.56649603e-04+3.51776950e-03j],\n",
       "       [ 1.40484883e-04+1.11167061e-04j],\n",
       "       [-7.56649603e-04-3.51776950e-03j],\n",
       "       [ 2.17831512e-05+1.34393491e-19j]])"
      ]
     },
     "execution_count": 205,
     "metadata": {},
     "output_type": "execute_result"
    }
   ],
   "source": [
    "(result[-1] @ gs_vec)"
   ]
  },
  {
   "cell_type": "code",
   "execution_count": 232,
   "id": "67682625",
   "metadata": {},
   "outputs": [
    {
     "data": {
      "text/plain": [
       "{'0': 1000}"
      ]
     },
     "execution_count": 232,
     "metadata": {},
     "output_type": "execute_result"
    }
   ],
   "source": [
    "DensityMatrix((result[1] @ gs_vec).reshape(3,3)).sample_counts(1000)"
   ]
  },
  {
   "cell_type": "code",
   "execution_count": 235,
   "id": "b5ae0379",
   "metadata": {},
   "outputs": [
    {
     "data": {
      "text/plain": [
       "array([9.99990123e-01, 9.87659661e-06, 1.50534807e-11])"
      ]
     },
     "execution_count": 235,
     "metadata": {},
     "output_type": "execute_result"
    }
   ],
   "source": [
    "DensityMatrix((result[10] @ gs_vec).reshape(3,3)).probabilities()"
   ]
  },
  {
   "cell_type": "code",
   "execution_count": 241,
   "id": "63b6b74f",
   "metadata": {},
   "outputs": [
    {
     "data": {
      "text/plain": [
       "-4.078938109209721"
      ]
     },
     "execution_count": 241,
     "metadata": {},
     "output_type": "execute_result"
    }
   ],
   "source": [
    "np.log10(83.38e-6)\n"
   ]
  },
  {
   "cell_type": "code",
   "execution_count": 239,
   "id": "497b9992",
   "metadata": {},
   "outputs": [],
   "source": [
    "b = a / np.trace(a)"
   ]
  },
  {
   "cell_type": "code",
   "execution_count": 240,
   "id": "e8027e19",
   "metadata": {},
   "outputs": [
    {
     "data": {
      "text/plain": [
       "1.0"
      ]
     },
     "execution_count": 240,
     "metadata": {},
     "output_type": "execute_result"
    }
   ],
   "source": [
    "np.trace(b)"
   ]
  },
  {
   "cell_type": "code",
   "execution_count": 215,
   "id": "ba68c98f",
   "metadata": {},
   "outputs": [],
   "source": [
    "probs = np.array([den.probabilities() for den in result_vec])"
   ]
  },
  {
   "cell_type": "code",
   "execution_count": 216,
   "id": "645ead33",
   "metadata": {},
   "outputs": [
    {
     "data": {
      "text/plain": [
       "[<matplotlib.lines.Line2D at 0x7fe5019f4f40>,\n",
       " <matplotlib.lines.Line2D at 0x7fe5019f4fa0>,\n",
       " <matplotlib.lines.Line2D at 0x7fe5019f4fd0>]"
      ]
     },
     "execution_count": 216,
     "metadata": {},
     "output_type": "execute_result"
    },
    {
     "data": {
      "image/png": "[encoded data removed]",
      "text/plain": [
       "<Figure size 640x480 with 1 Axes>"
      ]
     },
     "metadata": {},
     "output_type": "display_data"
    }
   ],
   "source": [
    "plt.plot(probs)"
   ]
  },
  {
   "cell_type": "code",
   "execution_count": null,
   "id": "0f27e5c5",
   "metadata": {},
   "outputs": [],
   "source": []
  }
 ],
 "metadata": {
  "kernelspec": {
   "display_name": "Python 3 (ipykernel)",
   "language": "python",
   "name": "python3"
  },
  "language_info": {
   "codemirror_mode": {
    "name": "ipython",
    "version": 3
   },
   "file_extension": ".py",
   "mimetype": "text/x-python",
   "name": "python",
   "nbconvert_exporter": "python",
   "pygments_lexer": "ipython3",
   "version": "3.9.13"
  },
  "latex_envs": {
   "LaTeX_envs_menu_present": true,
   "autoclose": true,
   "autocomplete": true,
   "bibliofile": "biblio.bib",
   "cite_by": "apalike",
   "current_citInitial": 1,
   "eqLabelWithNumbers": true,
   "eqNumInitial": 1,
   "hotkeys": {
    "equation": "ctrl-shift-e"
   },
   "labels_anchors": false,
   "latex_user_defs": false,
   "report_style_numbering": false,
   "user_envs_cfg": false
  },
  "varInspector": {
   "cols": {
    "lenName": 16,
    "lenType": 16,
    "lenVar": 40
   },
   "kernels_config": {
    "python": {
     "delete_cmd_postfix": "",
     "delete_cmd_prefix": "del ",
     "library": "var_list.py",
     "varRefreshCmd": "print(var_dic_list())"
    },
    "r": {
     "delete_cmd_postfix": ") ",
     "delete_cmd_prefix": "rm(",
     "library": "var_list.r",
     "varRefreshCmd": "cat(var_dic_list()) "
    }
   },
   "oldHeight": 165.85,
   "position": {
    "height": "187.85px",
    "left": "21.2px",
    "right": "20px",
    "top": "8px",
    "width": "555px"
   },
   "types_to_exclude": [
    "module",
    "function",
    "builtin_function_or_method",
    "instance",
    "_Feature"
   ],
   "varInspector_section_display": "block",
   "window_display": false
  }
 },
 "nbformat": 4,
 "nbformat_minor": 5
}
