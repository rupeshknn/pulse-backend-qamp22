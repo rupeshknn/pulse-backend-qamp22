{
 "cells": [
  {
   "cell_type": "code",
   "execution_count": 1,
   "id": "55437f0c",
   "metadata": {
    "ExecuteTime": {
     "end_time": "2022-09-22T10:11:48.511227Z",
     "start_time": "2022-09-22T10:11:48.504008Z"
    }
   },
   "outputs": [],
   "source": [
    "import datetime\n",
    "import numpy as np\n",
    "import pandas as pd\n",
    "from matplotlib import pyplot as plt\n",
    "\n",
    "plt.rcParams[\"font.size\"] = 16\n",
    "\n",
    "from qiskit import QuantumCircuit, IBMQ, schedule\n",
    "import qiskit.pulse as pulse\n",
    "from qiskit.quantum_info.states import Statevector\n",
    "from qiskit_dynamics import Solver, Signal\n",
    "from qiskit_dynamics.pulse import InstructionToSignals\n",
    "from qiskit.providers import BackendV2, QubitProperties\n",
    "from qiskit.providers.options import Options\n",
    "from qiskit.transpiler import Target\n",
    "\n",
    "\n",
    "from qiskit.providers.models import PulseDefaults\n",
    "from qiskit.qobj.pulse_qobj import PulseLibraryItem, PulseQobjInstruction\n",
    "from qiskit.providers.models.pulsedefaults import Command\n",
    "\n",
    "from qiskit_experiments.exceptions import QiskitError"
   ]
  },
  {
   "cell_type": "code",
   "execution_count": null,
   "id": "232ec470",
   "metadata": {},
   "outputs": [],
   "source": []
  },
  {
   "cell_type": "code",
   "execution_count": 11,
   "id": "c45db9af",
   "metadata": {},
   "outputs": [
    {
     "data": {
      "text/plain": [
       "{'_data': {},\n",
       " 'name': 'x',\n",
       " 'qubits': [4],\n",
       " 'sequence': [PulseQobjInstruction(name=\"parametric_pulse\", t0=0, ch=\"d4\", label=\"Xp_d4\", pulse_shape=\"drag\", parameters={'amp': (0.1271611988628385+0j), 'beta': -1.6630804730223419, 'duration': 160, 'sigma': 40})]}"
      ]
     },
     "execution_count": 11,
     "metadata": {},
     "output_type": "execute_result"
    }
   ],
   "source": [
    "h_backend.defaults().__dict__['cmd_def'][-1].__dict__"
   ]
  },
  {
   "cell_type": "code",
   "execution_count": 2,
   "id": "c922bee0",
   "metadata": {},
   "outputs": [],
   "source": [
    "IBMQ.load_account()\n",
    "provider = IBMQ.get_provider(hub=\"ibm-q\", group=\"open\", project=\"main\")\n",
    "h_backend = provider.get_backend(\"ibmq_lima\")"
   ]
  },
  {
   "cell_type": "code",
   "execution_count": 37,
   "id": "9993be7a",
   "metadata": {},
   "outputs": [],
   "source": [
    "from qiskit.result import Result\n"
   ]
  },
  {
   "cell_type": "code",
   "execution_count": 71,
   "id": "3b689d54",
   "metadata": {},
   "outputs": [],
   "source": [
    "library = FixedFrequencyTransmon(default_values={\"duration\": 320})\n",
    "cals = Calibrations.from_backend(h_backend, libraries=[library])\n",
    "\n",
    "freq01_estimate = h_backend.defaults().qubit_freq_est[qubit]\n",
    "frequencies = np.linspace(freq01_estimate -15e6, freq01_estimate + 15e6, 51)\n",
    "spec = RoughFrequencyCal(qubit, cals, frequencies, backend=h_backend)\n",
    "spec.set_experiment_options(amp=0.005)"
   ]
  },
  {
   "cell_type": "code",
   "execution_count": 72,
   "id": "0d603393",
   "metadata": {},
   "outputs": [],
   "source": [
    "from qiskit_experiments.framework import ExperimentData"
   ]
  },
  {
   "cell_type": "code",
   "execution_count": 73,
   "id": "cc035e12",
   "metadata": {},
   "outputs": [],
   "source": [
    "edata = ExperimentData(experiment=spec, backend=h_backend)\n",
    "edata.add_jobs([h_backend.retrieve_job('632969595ccea74170944a3e')])"
   ]
  },
  {
   "cell_type": "code",
   "execution_count": 75,
   "id": "6185ab5a",
   "metadata": {},
   "outputs": [
    {
     "data": {
      "text/plain": [
       "[{'memory': [[-807775370215424.0, -1612842763550720.0]],\n",
       "  'job_id': '632969595ccea74170944a3e',\n",
       "  'metadata': {'experiment_type': 'RoughFrequencyCal',\n",
       "   'qubits': [0],\n",
       "   'xval': 5014741873.154,\n",
       "   'unit': 'Hz',\n",
       "   'schedule': 'ScheduleBlock(ShiftFrequency(frequency, DriveChannel(0)), Play(GaussianSquare(duration=1072, amp=(0.005+0j), sigma=256.0, width=0.0), DriveChannel(0)), ShiftFrequency(-1.0*frequency, DriveChannel(0)), name=\"spectroscopy\", transform=AlignLeft())'},\n",
       "  'shots': 4000,\n",
       "  'meas_level': 1,\n",
       "  'meas_return': 'avg'},\n",
       " {'memory': [[-805294221295616.0, -1606381253689344.0]],\n",
       "  'job_id': '632969595ccea74170944a3e',\n",
       "  'metadata': {'experiment_type': 'RoughFrequencyCal',\n",
       "   'qubits': [0],\n",
       "   'xval': 5015341873.154,\n",
       "   'unit': 'Hz',\n",
       "   'schedule': 'ScheduleBlock(ShiftFrequency(frequency, DriveChannel(0)), Play(GaussianSquare(duration=1072, amp=(0.005+0j), sigma=256.0, width=0.0), DriveChannel(0)), ShiftFrequency(-1.0*frequency, DriveChannel(0)), name=\"spectroscopy\", transform=AlignLeft())'},\n",
       "  'shots': 4000,\n",
       "  'meas_level': 1,\n",
       "  'meas_return': 'avg'},\n",
       " {'memory': [[-804819761627136.0, -1604045999439872.0]],\n",
       "  'job_id': '632969595ccea74170944a3e',\n",
       "  'metadata': {'experiment_type': 'RoughFrequencyCal',\n",
       "   'qubits': [0],\n",
       "   'xval': 5015941873.154,\n",
       "   'unit': 'Hz',\n",
       "   'schedule': 'ScheduleBlock(ShiftFrequency(frequency, DriveChannel(0)), Play(GaussianSquare(duration=1072, amp=(0.005+0j), sigma=256.0, width=0.0), DriveChannel(0)), ShiftFrequency(-1.0*frequency, DriveChannel(0)), name=\"spectroscopy\", transform=AlignLeft())'},\n",
       "  'shots': 4000,\n",
       "  'meas_level': 1,\n",
       "  'meas_return': 'avg'},\n",
       " {'memory': [[-815337129902080.0, -1607577402081280.0]],\n",
       "  'job_id': '632969595ccea74170944a3e',\n",
       "  'metadata': {'experiment_type': 'RoughFrequencyCal',\n",
       "   'qubits': [0],\n",
       "   'xval': 5016541873.154,\n",
       "   'unit': 'Hz',\n",
       "   'schedule': 'ScheduleBlock(ShiftFrequency(frequency, DriveChannel(0)), Play(GaussianSquare(duration=1072, amp=(0.005+0j), sigma=256.0, width=0.0), DriveChannel(0)), ShiftFrequency(-1.0*frequency, DriveChannel(0)), name=\"spectroscopy\", transform=AlignLeft())'},\n",
       "  'shots': 4000,\n",
       "  'meas_level': 1,\n",
       "  'meas_return': 'avg'},\n",
       " {'memory': [[-807529282011136.0, -1607749066555392.0]],\n",
       "  'job_id': '632969595ccea74170944a3e',\n",
       "  'metadata': {'experiment_type': 'RoughFrequencyCal',\n",
       "   'qubits': [0],\n",
       "   'xval': 5017141873.154,\n",
       "   'unit': 'Hz',\n",
       "   'schedule': 'ScheduleBlock(ShiftFrequency(frequency, DriveChannel(0)), Play(GaussianSquare(duration=1072, amp=(0.005+0j), sigma=256.0, width=0.0), DriveChannel(0)), ShiftFrequency(-1.0*frequency, DriveChannel(0)), name=\"spectroscopy\", transform=AlignLeft())'},\n",
       "  'shots': 4000,\n",
       "  'meas_level': 1,\n",
       "  'meas_return': 'avg'},\n",
       " {'memory': [[-810794128244736.0, -1611155512492032.0]],\n",
       "  'job_id': '632969595ccea74170944a3e',\n",
       "  'metadata': {'experiment_type': 'RoughFrequencyCal',\n",
       "   'qubits': [0],\n",
       "   'xval': 5017741873.154,\n",
       "   'unit': 'Hz',\n",
       "   'schedule': 'ScheduleBlock(ShiftFrequency(frequency, DriveChannel(0)), Play(GaussianSquare(duration=1072, amp=(0.005+0j), sigma=256.0, width=0.0), DriveChannel(0)), ShiftFrequency(-1.0*frequency, DriveChannel(0)), name=\"spectroscopy\", transform=AlignLeft())'},\n",
       "  'shots': 4000,\n",
       "  'meas_level': 1,\n",
       "  'meas_return': 'avg'},\n",
       " {'memory': [[-797857753858048.0, -1601249438859264.0]],\n",
       "  'job_id': '632969595ccea74170944a3e',\n",
       "  'metadata': {'experiment_type': 'RoughFrequencyCal',\n",
       "   'qubits': [0],\n",
       "   'xval': 5018341873.154,\n",
       "   'unit': 'Hz',\n",
       "   'schedule': 'ScheduleBlock(ShiftFrequency(frequency, DriveChannel(0)), Play(GaussianSquare(duration=1072, amp=(0.005+0j), sigma=256.0, width=0.0), DriveChannel(0)), ShiftFrequency(-1.0*frequency, DriveChannel(0)), name=\"spectroscopy\", transform=AlignLeft())'},\n",
       "  'shots': 4000,\n",
       "  'meas_level': 1,\n",
       "  'meas_return': 'avg'},\n",
       " {'memory': [[-802091584978944.0, -1606680022351872.0]],\n",
       "  'job_id': '632969595ccea74170944a3e',\n",
       "  'metadata': {'experiment_type': 'RoughFrequencyCal',\n",
       "   'qubits': [0],\n",
       "   'xval': 5018941873.154,\n",
       "   'unit': 'Hz',\n",
       "   'schedule': 'ScheduleBlock(ShiftFrequency(frequency, DriveChannel(0)), Play(GaussianSquare(duration=1072, amp=(0.005+0j), sigma=256.0, width=0.0), DriveChannel(0)), ShiftFrequency(-1.0*frequency, DriveChannel(0)), name=\"spectroscopy\", transform=AlignLeft())'},\n",
       "  'shots': 4000,\n",
       "  'meas_level': 1,\n",
       "  'meas_return': 'avg'},\n",
       " {'memory': [[-803184788373504.0, -1604432814931968.0]],\n",
       "  'job_id': '632969595ccea74170944a3e',\n",
       "  'metadata': {'experiment_type': 'RoughFrequencyCal',\n",
       "   'qubits': [0],\n",
       "   'xval': 5019541873.154,\n",
       "   'unit': 'Hz',\n",
       "   'schedule': 'ScheduleBlock(ShiftFrequency(frequency, DriveChannel(0)), Play(GaussianSquare(duration=1072, amp=(0.005+0j), sigma=256.0, width=0.0), DriveChannel(0)), ShiftFrequency(-1.0*frequency, DriveChannel(0)), name=\"spectroscopy\", transform=AlignLeft())'},\n",
       "  'shots': 4000,\n",
       "  'meas_level': 1,\n",
       "  'meas_return': 'avg'},\n",
       " {'memory': [[-807721683124224.0, -1606874638057472.0]],\n",
       "  'job_id': '632969595ccea74170944a3e',\n",
       "  'metadata': {'experiment_type': 'RoughFrequencyCal',\n",
       "   'qubits': [0],\n",
       "   'xval': 5020141873.154,\n",
       "   'unit': 'Hz',\n",
       "   'schedule': 'ScheduleBlock(ShiftFrequency(frequency, DriveChannel(0)), Play(GaussianSquare(duration=1072, amp=(0.005+0j), sigma=256.0, width=0.0), DriveChannel(0)), ShiftFrequency(-1.0*frequency, DriveChannel(0)), name=\"spectroscopy\", transform=AlignLeft())'},\n",
       "  'shots': 4000,\n",
       "  'meas_level': 1,\n",
       "  'meas_return': 'avg'},\n",
       " {'memory': [[-805603593158656.0, -1606706597462016.0]],\n",
       "  'job_id': '632969595ccea74170944a3e',\n",
       "  'metadata': {'experiment_type': 'RoughFrequencyCal',\n",
       "   'qubits': [0],\n",
       "   'xval': 5020741873.154,\n",
       "   'unit': 'Hz',\n",
       "   'schedule': 'ScheduleBlock(ShiftFrequency(frequency, DriveChannel(0)), Play(GaussianSquare(duration=1072, amp=(0.005+0j), sigma=256.0, width=0.0), DriveChannel(0)), ShiftFrequency(-1.0*frequency, DriveChannel(0)), name=\"spectroscopy\", transform=AlignLeft())'},\n",
       "  'shots': 4000,\n",
       "  'meas_level': 1,\n",
       "  'meas_return': 'avg'},\n",
       " {'memory': [[-809828968562688.0, -1606205965336576.0]],\n",
       "  'job_id': '632969595ccea74170944a3e',\n",
       "  'metadata': {'experiment_type': 'RoughFrequencyCal',\n",
       "   'qubits': [0],\n",
       "   'xval': 5021341873.154,\n",
       "   'unit': 'Hz',\n",
       "   'schedule': 'ScheduleBlock(ShiftFrequency(frequency, DriveChannel(0)), Play(GaussianSquare(duration=1072, amp=(0.005+0j), sigma=256.0, width=0.0), DriveChannel(0)), ShiftFrequency(-1.0*frequency, DriveChannel(0)), name=\"spectroscopy\", transform=AlignLeft())'},\n",
       "  'shots': 4000,\n",
       "  'meas_level': 1,\n",
       "  'meas_return': 'avg'},\n",
       " {'memory': [[-803526506708992.0, -1605690435043328.0]],\n",
       "  'job_id': '632969595ccea74170944a3e',\n",
       "  'metadata': {'experiment_type': 'RoughFrequencyCal',\n",
       "   'qubits': [0],\n",
       "   'xval': 5021941873.154,\n",
       "   'unit': 'Hz',\n",
       "   'schedule': 'ScheduleBlock(ShiftFrequency(frequency, DriveChannel(0)), Play(GaussianSquare(duration=1072, amp=(0.005+0j), sigma=256.0, width=0.0), DriveChannel(0)), ShiftFrequency(-1.0*frequency, DriveChannel(0)), name=\"spectroscopy\", transform=AlignLeft())'},\n",
       "  'shots': 4000,\n",
       "  'meas_level': 1,\n",
       "  'meas_return': 'avg'},\n",
       " {'memory': [[-812061948903424.0, -1607199847612416.0]],\n",
       "  'job_id': '632969595ccea74170944a3e',\n",
       "  'metadata': {'experiment_type': 'RoughFrequencyCal',\n",
       "   'qubits': [0],\n",
       "   'xval': 5022541873.154,\n",
       "   'unit': 'Hz',\n",
       "   'schedule': 'ScheduleBlock(ShiftFrequency(frequency, DriveChannel(0)), Play(GaussianSquare(duration=1072, amp=(0.005+0j), sigma=256.0, width=0.0), DriveChannel(0)), ShiftFrequency(-1.0*frequency, DriveChannel(0)), name=\"spectroscopy\", transform=AlignLeft())'},\n",
       "  'shots': 4000,\n",
       "  'meas_level': 1,\n",
       "  'meas_return': 'avg'},\n",
       " {'memory': [[-805890080899072.0, -1604092304556032.0]],\n",
       "  'job_id': '632969595ccea74170944a3e',\n",
       "  'metadata': {'experiment_type': 'RoughFrequencyCal',\n",
       "   'qubits': [0],\n",
       "   'xval': 5023141873.154,\n",
       "   'unit': 'Hz',\n",
       "   'schedule': 'ScheduleBlock(ShiftFrequency(frequency, DriveChannel(0)), Play(GaussianSquare(duration=1072, amp=(0.005+0j), sigma=256.0, width=0.0), DriveChannel(0)), ShiftFrequency(-1.0*frequency, DriveChannel(0)), name=\"spectroscopy\", transform=AlignLeft())'},\n",
       "  'shots': 4000,\n",
       "  'meas_level': 1,\n",
       "  'meas_return': 'avg'},\n",
       " {'memory': [[-802406459768832.0, -1604060897607680.0]],\n",
       "  'job_id': '632969595ccea74170944a3e',\n",
       "  'metadata': {'experiment_type': 'RoughFrequencyCal',\n",
       "   'qubits': [0],\n",
       "   'xval': 5023741873.154,\n",
       "   'unit': 'Hz',\n",
       "   'schedule': 'ScheduleBlock(ShiftFrequency(frequency, DriveChannel(0)), Play(GaussianSquare(duration=1072, amp=(0.005+0j), sigma=256.0, width=0.0), DriveChannel(0)), ShiftFrequency(-1.0*frequency, DriveChannel(0)), name=\"spectroscopy\", transform=AlignLeft())'},\n",
       "  'shots': 4000,\n",
       "  'meas_level': 1,\n",
       "  'meas_return': 'avg'},\n",
       " {'memory': [[-774307508649984.0, -1602678991880192.0]],\n",
       "  'job_id': '632969595ccea74170944a3e',\n",
       "  'metadata': {'experiment_type': 'RoughFrequencyCal',\n",
       "   'qubits': [0],\n",
       "   'xval': 5024341873.154,\n",
       "   'unit': 'Hz',\n",
       "   'schedule': 'ScheduleBlock(ShiftFrequency(frequency, DriveChannel(0)), Play(GaussianSquare(duration=1072, amp=(0.005+0j), sigma=256.0, width=0.0), DriveChannel(0)), ShiftFrequency(-1.0*frequency, DriveChannel(0)), name=\"spectroscopy\", transform=AlignLeft())'},\n",
       "  'shots': 4000,\n",
       "  'meas_level': 1,\n",
       "  'meas_return': 'avg'},\n",
       " {'memory': [[-756494400225280.0, -1605455822454784.0]],\n",
       "  'job_id': '632969595ccea74170944a3e',\n",
       "  'metadata': {'experiment_type': 'RoughFrequencyCal',\n",
       "   'qubits': [0],\n",
       "   'xval': 5024941873.154,\n",
       "   'unit': 'Hz',\n",
       "   'schedule': 'ScheduleBlock(ShiftFrequency(frequency, DriveChannel(0)), Play(GaussianSquare(duration=1072, amp=(0.005+0j), sigma=256.0, width=0.0), DriveChannel(0)), ShiftFrequency(-1.0*frequency, DriveChannel(0)), name=\"spectroscopy\", transform=AlignLeft())'},\n",
       "  'shots': 4000,\n",
       "  'meas_level': 1,\n",
       "  'meas_return': 'avg'},\n",
       " {'memory': [[-717412882186240.0, -1608906962894848.0]],\n",
       "  'job_id': '632969595ccea74170944a3e',\n",
       "  'metadata': {'experiment_type': 'RoughFrequencyCal',\n",
       "   'qubits': [0],\n",
       "   'xval': 5025541873.154,\n",
       "   'unit': 'Hz',\n",
       "   'schedule': 'ScheduleBlock(ShiftFrequency(frequency, DriveChannel(0)), Play(GaussianSquare(duration=1072, amp=(0.005+0j), sigma=256.0, width=0.0), DriveChannel(0)), ShiftFrequency(-1.0*frequency, DriveChannel(0)), name=\"spectroscopy\", transform=AlignLeft())'},\n",
       "  'shots': 4000,\n",
       "  'meas_level': 1,\n",
       "  'meas_return': 'avg'},\n",
       " {'memory': [[-670713233014784.0, -1615133860167680.0]],\n",
       "  'job_id': '632969595ccea74170944a3e',\n",
       "  'metadata': {'experiment_type': 'RoughFrequencyCal',\n",
       "   'qubits': [0],\n",
       "   'xval': 5026141873.154,\n",
       "   'unit': 'Hz',\n",
       "   'schedule': 'ScheduleBlock(ShiftFrequency(frequency, DriveChannel(0)), Play(GaussianSquare(duration=1072, amp=(0.005+0j), sigma=256.0, width=0.0), DriveChannel(0)), ShiftFrequency(-1.0*frequency, DriveChannel(0)), name=\"spectroscopy\", transform=AlignLeft())'},\n",
       "  'shots': 4000,\n",
       "  'meas_level': 1,\n",
       "  'meas_return': 'avg'},\n",
       " {'memory': [[-631146652106752.0, -1612601574293504.0]],\n",
       "  'job_id': '632969595ccea74170944a3e',\n",
       "  'metadata': {'experiment_type': 'RoughFrequencyCal',\n",
       "   'qubits': [0],\n",
       "   'xval': 5026741873.154,\n",
       "   'unit': 'Hz',\n",
       "   'schedule': 'ScheduleBlock(ShiftFrequency(frequency, DriveChannel(0)), Play(GaussianSquare(duration=1072, amp=(0.005+0j), sigma=256.0, width=0.0), DriveChannel(0)), ShiftFrequency(-1.0*frequency, DriveChannel(0)), name=\"spectroscopy\", transform=AlignLeft())'},\n",
       "  'shots': 4000,\n",
       "  'meas_level': 1,\n",
       "  'meas_return': 'avg'},\n",
       " {'memory': [[-567714347220992.0, -1614445054787584.0]],\n",
       "  'job_id': '632969595ccea74170944a3e',\n",
       "  'metadata': {'experiment_type': 'RoughFrequencyCal',\n",
       "   'qubits': [0],\n",
       "   'xval': 5027341873.154,\n",
       "   'unit': 'Hz',\n",
       "   'schedule': 'ScheduleBlock(ShiftFrequency(frequency, DriveChannel(0)), Play(GaussianSquare(duration=1072, amp=(0.005+0j), sigma=256.0, width=0.0), DriveChannel(0)), ShiftFrequency(-1.0*frequency, DriveChannel(0)), name=\"spectroscopy\", transform=AlignLeft())'},\n",
       "  'shots': 4000,\n",
       "  'meas_level': 1,\n",
       "  'meas_return': 'avg'},\n",
       " {'memory': [[-535102727651328.0, -1621138492882944.0]],\n",
       "  'job_id': '632969595ccea74170944a3e',\n",
       "  'metadata': {'experiment_type': 'RoughFrequencyCal',\n",
       "   'qubits': [0],\n",
       "   'xval': 5027941873.154,\n",
       "   'unit': 'Hz',\n",
       "   'schedule': 'ScheduleBlock(ShiftFrequency(frequency, DriveChannel(0)), Play(GaussianSquare(duration=1072, amp=(0.005+0j), sigma=256.0, width=0.0), DriveChannel(0)), ShiftFrequency(-1.0*frequency, DriveChannel(0)), name=\"spectroscopy\", transform=AlignLeft())'},\n",
       "  'shots': 4000,\n",
       "  'meas_level': 1,\n",
       "  'meas_return': 'avg'},\n",
       " {'memory': [[-514632074657792.0, -1621169899831296.0]],\n",
       "  'job_id': '632969595ccea74170944a3e',\n",
       "  'metadata': {'experiment_type': 'RoughFrequencyCal',\n",
       "   'qubits': [0],\n",
       "   'xval': 5028541873.154,\n",
       "   'unit': 'Hz',\n",
       "   'schedule': 'ScheduleBlock(ShiftFrequency(frequency, DriveChannel(0)), Play(GaussianSquare(duration=1072, amp=(0.005+0j), sigma=256.0, width=0.0), DriveChannel(0)), ShiftFrequency(-1.0*frequency, DriveChannel(0)), name=\"spectroscopy\", transform=AlignLeft())'},\n",
       "  'shots': 4000,\n",
       "  'meas_level': 1,\n",
       "  'meas_return': 'avg'},\n",
       " {'memory': [[-489406389551104.0, -1620525252083712.0]],\n",
       "  'job_id': '632969595ccea74170944a3e',\n",
       "  'metadata': {'experiment_type': 'RoughFrequencyCal',\n",
       "   'qubits': [0],\n",
       "   'xval': 5029141873.154,\n",
       "   'unit': 'Hz',\n",
       "   'schedule': 'ScheduleBlock(ShiftFrequency(frequency, DriveChannel(0)), Play(GaussianSquare(duration=1072, amp=(0.005+0j), sigma=256.0, width=0.0), DriveChannel(0)), ShiftFrequency(-1.0*frequency, DriveChannel(0)), name=\"spectroscopy\", transform=AlignLeft())'},\n",
       "  'shots': 4000,\n",
       "  'meas_level': 1,\n",
       "  'meas_return': 'avg'},\n",
       " {'memory': [[-517314214625280.0, -1617691781627904.0]],\n",
       "  'job_id': '632969595ccea74170944a3e',\n",
       "  'metadata': {'experiment_type': 'RoughFrequencyCal',\n",
       "   'qubits': [0],\n",
       "   'xval': 5029741873.154,\n",
       "   'unit': 'Hz',\n",
       "   'schedule': 'ScheduleBlock(ShiftFrequency(frequency, DriveChannel(0)), Play(GaussianSquare(duration=1072, amp=(0.005+0j), sigma=256.0, width=0.0), DriveChannel(0)), ShiftFrequency(-1.0*frequency, DriveChannel(0)), name=\"spectroscopy\", transform=AlignLeft())'},\n",
       "  'shots': 4000,\n",
       "  'meas_level': 1,\n",
       "  'meas_return': 'avg'},\n",
       " {'memory': [[-521587874856960.0, -1617058408169472.0]],\n",
       "  'job_id': '632969595ccea74170944a3e',\n",
       "  'metadata': {'experiment_type': 'RoughFrequencyCal',\n",
       "   'qubits': [0],\n",
       "   'xval': 5030341873.154,\n",
       "   'unit': 'Hz',\n",
       "   'schedule': 'ScheduleBlock(ShiftFrequency(frequency, DriveChannel(0)), Play(GaussianSquare(duration=1072, amp=(0.005+0j), sigma=256.0, width=0.0), DriveChannel(0)), ShiftFrequency(-1.0*frequency, DriveChannel(0)), name=\"spectroscopy\", transform=AlignLeft())'},\n",
       "  'shots': 4000,\n",
       "  'meas_level': 1,\n",
       "  'meas_return': 'avg'},\n",
       " {'memory': [[-553048040538112.0, -1615017224962048.0]],\n",
       "  'job_id': '632969595ccea74170944a3e',\n",
       "  'metadata': {'experiment_type': 'RoughFrequencyCal',\n",
       "   'qubits': [0],\n",
       "   'xval': 5030941873.154,\n",
       "   'unit': 'Hz',\n",
       "   'schedule': 'ScheduleBlock(ShiftFrequency(frequency, DriveChannel(0)), Play(GaussianSquare(duration=1072, amp=(0.005+0j), sigma=256.0, width=0.0), DriveChannel(0)), ShiftFrequency(-1.0*frequency, DriveChannel(0)), name=\"spectroscopy\", transform=AlignLeft())'},\n",
       "  'shots': 4000,\n",
       "  'meas_level': 1,\n",
       "  'meas_return': 'avg'},\n",
       " {'memory': [[-593823050760192.0, -1627709524410368.0]],\n",
       "  'job_id': '632969595ccea74170944a3e',\n",
       "  'metadata': {'experiment_type': 'RoughFrequencyCal',\n",
       "   'qubits': [0],\n",
       "   'xval': 5031541873.154,\n",
       "   'unit': 'Hz',\n",
       "   'schedule': 'ScheduleBlock(ShiftFrequency(frequency, DriveChannel(0)), Play(GaussianSquare(duration=1072, amp=(0.005+0j), sigma=256.0, width=0.0), DriveChannel(0)), ShiftFrequency(-1.0*frequency, DriveChannel(0)), name=\"spectroscopy\", transform=AlignLeft())'},\n",
       "  'shots': 4000,\n",
       "  'meas_level': 1,\n",
       "  'meas_return': 'avg'},\n",
       " {'memory': [[-622228085407744.0, -1618652377907200.0]],\n",
       "  'job_id': '632969595ccea74170944a3e',\n",
       "  'metadata': {'experiment_type': 'RoughFrequencyCal',\n",
       "   'qubits': [0],\n",
       "   'xval': 5032141873.154,\n",
       "   'unit': 'Hz',\n",
       "   'schedule': 'ScheduleBlock(ShiftFrequency(frequency, DriveChannel(0)), Play(GaussianSquare(duration=1072, amp=(0.005+0j), sigma=256.0, width=0.0), DriveChannel(0)), ShiftFrequency(-1.0*frequency, DriveChannel(0)), name=\"spectroscopy\", transform=AlignLeft())'},\n",
       "  'shots': 4000,\n",
       "  'meas_level': 1,\n",
       "  'meas_return': 'avg'},\n",
       " {'memory': [[-668804388487168.0, -1613888185434112.0]],\n",
       "  'job_id': '632969595ccea74170944a3e',\n",
       "  'metadata': {'experiment_type': 'RoughFrequencyCal',\n",
       "   'qubits': [0],\n",
       "   'xval': 5032741873.154,\n",
       "   'unit': 'Hz',\n",
       "   'schedule': 'ScheduleBlock(ShiftFrequency(frequency, DriveChannel(0)), Play(GaussianSquare(duration=1072, amp=(0.005+0j), sigma=256.0, width=0.0), DriveChannel(0)), ShiftFrequency(-1.0*frequency, DriveChannel(0)), name=\"spectroscopy\", transform=AlignLeft())'},\n",
       "  'shots': 4000,\n",
       "  'meas_level': 1,\n",
       "  'meas_return': 'avg'},\n",
       " {'memory': [[-710099693731840.0, -1615590871531520.0]],\n",
       "  'job_id': '632969595ccea74170944a3e',\n",
       "  'metadata': {'experiment_type': 'RoughFrequencyCal',\n",
       "   'qubits': [0],\n",
       "   'xval': 5033341873.154,\n",
       "   'unit': 'Hz',\n",
       "   'schedule': 'ScheduleBlock(ShiftFrequency(frequency, DriveChannel(0)), Play(GaussianSquare(duration=1072, amp=(0.005+0j), sigma=256.0, width=0.0), DriveChannel(0)), ShiftFrequency(-1.0*frequency, DriveChannel(0)), name=\"spectroscopy\", transform=AlignLeft())'},\n",
       "  'shots': 4000,\n",
       "  'meas_level': 1,\n",
       "  'meas_return': 'avg'},\n",
       " {'memory': [[-728068763156480.0, -1614554308018176.0]],\n",
       "  'job_id': '632969595ccea74170944a3e',\n",
       "  'metadata': {'experiment_type': 'RoughFrequencyCal',\n",
       "   'qubits': [0],\n",
       "   'xval': 5033941873.154,\n",
       "   'unit': 'Hz',\n",
       "   'schedule': 'ScheduleBlock(ShiftFrequency(frequency, DriveChannel(0)), Play(GaussianSquare(duration=1072, amp=(0.005+0j), sigma=256.0, width=0.0), DriveChannel(0)), ShiftFrequency(-1.0*frequency, DriveChannel(0)), name=\"spectroscopy\", transform=AlignLeft())'},\n",
       "  'shots': 4000,\n",
       "  'meas_level': 1,\n",
       "  'meas_return': 'avg'},\n",
       " {'memory': [[-754842851082240.0, -1614390293954560.0]],\n",
       "  'job_id': '632969595ccea74170944a3e',\n",
       "  'metadata': {'experiment_type': 'RoughFrequencyCal',\n",
       "   'qubits': [0],\n",
       "   'xval': 5034541873.154,\n",
       "   'unit': 'Hz',\n",
       "   'schedule': 'ScheduleBlock(ShiftFrequency(frequency, DriveChannel(0)), Play(GaussianSquare(duration=1072, amp=(0.005+0j), sigma=256.0, width=0.0), DriveChannel(0)), ShiftFrequency(-1.0*frequency, DriveChannel(0)), name=\"spectroscopy\", transform=AlignLeft())'},\n",
       "  'shots': 4000,\n",
       "  'meas_level': 1,\n",
       "  'meas_return': 'avg'},\n",
       " {'memory': [[-774724925784064.0, -1601004894158848.0]],\n",
       "  'job_id': '632969595ccea74170944a3e',\n",
       "  'metadata': {'experiment_type': 'RoughFrequencyCal',\n",
       "   'qubits': [0],\n",
       "   'xval': 5035141873.154,\n",
       "   'unit': 'Hz',\n",
       "   'schedule': 'ScheduleBlock(ShiftFrequency(frequency, DriveChannel(0)), Play(GaussianSquare(duration=1072, amp=(0.005+0j), sigma=256.0, width=0.0), DriveChannel(0)), ShiftFrequency(-1.0*frequency, DriveChannel(0)), name=\"spectroscopy\", transform=AlignLeft())'},\n",
       "  'shots': 4000,\n",
       "  'meas_level': 1,\n",
       "  'meas_return': 'avg'},\n",
       " {'memory': [[-794890267000832.0, -1604665682690048.0]],\n",
       "  'job_id': '632969595ccea74170944a3e',\n",
       "  'metadata': {'experiment_type': 'RoughFrequencyCal',\n",
       "   'qubits': [0],\n",
       "   'xval': 5035741873.154,\n",
       "   'unit': 'Hz',\n",
       "   'schedule': 'ScheduleBlock(ShiftFrequency(frequency, DriveChannel(0)), Play(GaussianSquare(duration=1072, amp=(0.005+0j), sigma=256.0, width=0.0), DriveChannel(0)), ShiftFrequency(-1.0*frequency, DriveChannel(0)), name=\"spectroscopy\", transform=AlignLeft())'},\n",
       "  'shots': 4000,\n",
       "  'meas_level': 1,\n",
       "  'meas_return': 'avg'},\n",
       " {'memory': [[-803080165654528.0, -1607210719248384.0]],\n",
       "  'job_id': '632969595ccea74170944a3e',\n",
       "  'metadata': {'experiment_type': 'RoughFrequencyCal',\n",
       "   'qubits': [0],\n",
       "   'xval': 5036341873.154,\n",
       "   'unit': 'Hz',\n",
       "   'schedule': 'ScheduleBlock(ShiftFrequency(frequency, DriveChannel(0)), Play(GaussianSquare(duration=1072, amp=(0.005+0j), sigma=256.0, width=0.0), DriveChannel(0)), ShiftFrequency(-1.0*frequency, DriveChannel(0)), name=\"spectroscopy\", transform=AlignLeft())'},\n",
       "  'shots': 4000,\n",
       "  'meas_level': 1,\n",
       "  'meas_return': 'avg'},\n",
       " {'memory': [[-815012725653504.0, -1605007535243264.0]],\n",
       "  'job_id': '632969595ccea74170944a3e',\n",
       "  'metadata': {'experiment_type': 'RoughFrequencyCal',\n",
       "   'qubits': [0],\n",
       "   'xval': 5036941873.154,\n",
       "   'unit': 'Hz',\n",
       "   'schedule': 'ScheduleBlock(ShiftFrequency(frequency, DriveChannel(0)), Play(GaussianSquare(duration=1072, amp=(0.005+0j), sigma=256.0, width=0.0), DriveChannel(0)), ShiftFrequency(-1.0*frequency, DriveChannel(0)), name=\"spectroscopy\", transform=AlignLeft())'},\n",
       "  'shots': 4000,\n",
       "  'meas_level': 1,\n",
       "  'meas_return': 'avg'},\n",
       " {'memory': [[-805757272457216.0, -1605648693329920.0]],\n",
       "  'job_id': '632969595ccea74170944a3e',\n",
       "  'metadata': {'experiment_type': 'RoughFrequencyCal',\n",
       "   'qubits': [0],\n",
       "   'xval': 5037541873.154,\n",
       "   'unit': 'Hz',\n",
       "   'schedule': 'ScheduleBlock(ShiftFrequency(frequency, DriveChannel(0)), Play(GaussianSquare(duration=1072, amp=(0.005+0j), sigma=256.0, width=0.0), DriveChannel(0)), ShiftFrequency(-1.0*frequency, DriveChannel(0)), name=\"spectroscopy\", transform=AlignLeft())'},\n",
       "  'shots': 4000,\n",
       "  'meas_level': 1,\n",
       "  'meas_return': 'avg'},\n",
       " {'memory': [[-806504462548992.0, -1608340429864960.0]],\n",
       "  'job_id': '632969595ccea74170944a3e',\n",
       "  'metadata': {'experiment_type': 'RoughFrequencyCal',\n",
       "   'qubits': [0],\n",
       "   'xval': 5038141873.154,\n",
       "   'unit': 'Hz',\n",
       "   'schedule': 'ScheduleBlock(ShiftFrequency(frequency, DriveChannel(0)), Play(GaussianSquare(duration=1072, amp=(0.005+0j), sigma=256.0, width=0.0), DriveChannel(0)), ShiftFrequency(-1.0*frequency, DriveChannel(0)), name=\"spectroscopy\", transform=AlignLeft())'},\n",
       "  'shots': 4000,\n",
       "  'meas_level': 1,\n",
       "  'meas_return': 'avg'},\n",
       " {'memory': [[-802728582316032.0, -1603730856214528.0]],\n",
       "  'job_id': '632969595ccea74170944a3e',\n",
       "  'metadata': {'experiment_type': 'RoughFrequencyCal',\n",
       "   'qubits': [0],\n",
       "   'xval': 5038741873.154,\n",
       "   'unit': 'Hz',\n",
       "   'schedule': 'ScheduleBlock(ShiftFrequency(frequency, DriveChannel(0)), Play(GaussianSquare(duration=1072, amp=(0.005+0j), sigma=256.0, width=0.0), DriveChannel(0)), ShiftFrequency(-1.0*frequency, DriveChannel(0)), name=\"spectroscopy\", transform=AlignLeft())'},\n",
       "  'shots': 4000,\n",
       "  'meas_level': 1,\n",
       "  'meas_return': 'avg'},\n",
       " {'memory': [[-807923949240320.0, -1604849426759680.0]],\n",
       "  'job_id': '632969595ccea74170944a3e',\n",
       "  'metadata': {'experiment_type': 'RoughFrequencyCal',\n",
       "   'qubits': [0],\n",
       "   'xval': 5039341873.154,\n",
       "   'unit': 'Hz',\n",
       "   'schedule': 'ScheduleBlock(ShiftFrequency(frequency, DriveChannel(0)), Play(GaussianSquare(duration=1072, amp=(0.005+0j), sigma=256.0, width=0.0), DriveChannel(0)), ShiftFrequency(-1.0*frequency, DriveChannel(0)), name=\"spectroscopy\", transform=AlignLeft())'},\n",
       "  'shots': 4000,\n",
       "  'meas_level': 1,\n",
       "  'meas_return': 'avg'},\n",
       " {'memory': [[-811973566529536.0, -1607028048920576.0]],\n",
       "  'job_id': '632969595ccea74170944a3e',\n",
       "  'metadata': {'experiment_type': 'RoughFrequencyCal',\n",
       "   'qubits': [0],\n",
       "   'xval': 5039941873.154,\n",
       "   'unit': 'Hz',\n",
       "   'schedule': 'ScheduleBlock(ShiftFrequency(frequency, DriveChannel(0)), Play(GaussianSquare(duration=1072, amp=(0.005+0j), sigma=256.0, width=0.0), DriveChannel(0)), ShiftFrequency(-1.0*frequency, DriveChannel(0)), name=\"spectroscopy\", transform=AlignLeft())'},\n",
       "  'shots': 4000,\n",
       "  'meas_level': 1,\n",
       "  'meas_return': 'avg'},\n",
       " {'memory': [[-806193211637760.0, -1606639085944832.0]],\n",
       "  'job_id': '632969595ccea74170944a3e',\n",
       "  'metadata': {'experiment_type': 'RoughFrequencyCal',\n",
       "   'qubits': [0],\n",
       "   'xval': 5040541873.154,\n",
       "   'unit': 'Hz',\n",
       "   'schedule': 'ScheduleBlock(ShiftFrequency(frequency, DriveChannel(0)), Play(GaussianSquare(duration=1072, amp=(0.005+0j), sigma=256.0, width=0.0), DriveChannel(0)), ShiftFrequency(-1.0*frequency, DriveChannel(0)), name=\"spectroscopy\", transform=AlignLeft())'},\n",
       "  'shots': 4000,\n",
       "  'meas_level': 1,\n",
       "  'meas_return': 'avg'},\n",
       " {'memory': [[-811682448277504.0, -1599909140627456.0]],\n",
       "  'job_id': '632969595ccea74170944a3e',\n",
       "  'metadata': {'experiment_type': 'RoughFrequencyCal',\n",
       "   'qubits': [0],\n",
       "   'xval': 5041141873.154,\n",
       "   'unit': 'Hz',\n",
       "   'schedule': 'ScheduleBlock(ShiftFrequency(frequency, DriveChannel(0)), Play(GaussianSquare(duration=1072, amp=(0.005+0j), sigma=256.0, width=0.0), DriveChannel(0)), ShiftFrequency(-1.0*frequency, DriveChannel(0)), name=\"spectroscopy\", transform=AlignLeft())'},\n",
       "  'shots': 4000,\n",
       "  'meas_level': 1,\n",
       "  'meas_return': 'avg'},\n",
       " {'memory': [[-810142434066432.0, -1608361233612800.0]],\n",
       "  'job_id': '632969595ccea74170944a3e',\n",
       "  'metadata': {'experiment_type': 'RoughFrequencyCal',\n",
       "   'qubits': [0],\n",
       "   'xval': 5041741873.154,\n",
       "   'unit': 'Hz',\n",
       "   'schedule': 'ScheduleBlock(ShiftFrequency(frequency, DriveChannel(0)), Play(GaussianSquare(duration=1072, amp=(0.005+0j), sigma=256.0, width=0.0), DriveChannel(0)), ShiftFrequency(-1.0*frequency, DriveChannel(0)), name=\"spectroscopy\", transform=AlignLeft())'},\n",
       "  'shots': 4000,\n",
       "  'meas_level': 1,\n",
       "  'meas_return': 'avg'},\n",
       " {'memory': [[-807697792368640.0, -1604229340856320.0]],\n",
       "  'job_id': '632969595ccea74170944a3e',\n",
       "  'metadata': {'experiment_type': 'RoughFrequencyCal',\n",
       "   'qubits': [0],\n",
       "   'xval': 5042341873.154,\n",
       "   'unit': 'Hz',\n",
       "   'schedule': 'ScheduleBlock(ShiftFrequency(frequency, DriveChannel(0)), Play(GaussianSquare(duration=1072, amp=(0.005+0j), sigma=256.0, width=0.0), DriveChannel(0)), ShiftFrequency(-1.0*frequency, DriveChannel(0)), name=\"spectroscopy\", transform=AlignLeft())'},\n",
       "  'shots': 4000,\n",
       "  'meas_level': 1,\n",
       "  'meas_return': 'avg'},\n",
       " {'memory': [[-809809708318720.0, -1607188170670080.0]],\n",
       "  'job_id': '632969595ccea74170944a3e',\n",
       "  'metadata': {'experiment_type': 'RoughFrequencyCal',\n",
       "   'qubits': [0],\n",
       "   'xval': 5042941873.154,\n",
       "   'unit': 'Hz',\n",
       "   'schedule': 'ScheduleBlock(ShiftFrequency(frequency, DriveChannel(0)), Play(GaussianSquare(duration=1072, amp=(0.005+0j), sigma=256.0, width=0.0), DriveChannel(0)), ShiftFrequency(-1.0*frequency, DriveChannel(0)), name=\"spectroscopy\", transform=AlignLeft())'},\n",
       "  'shots': 4000,\n",
       "  'meas_level': 1,\n",
       "  'meas_return': 'avg'},\n",
       " {'memory': [[-808570341818368.0, -1602857501458432.0]],\n",
       "  'job_id': '632969595ccea74170944a3e',\n",
       "  'metadata': {'experiment_type': 'RoughFrequencyCal',\n",
       "   'qubits': [0],\n",
       "   'xval': 5043541873.154,\n",
       "   'unit': 'Hz',\n",
       "   'schedule': 'ScheduleBlock(ShiftFrequency(frequency, DriveChannel(0)), Play(GaussianSquare(duration=1072, amp=(0.005+0j), sigma=256.0, width=0.0), DriveChannel(0)), ShiftFrequency(-1.0*frequency, DriveChannel(0)), name=\"spectroscopy\", transform=AlignLeft())'},\n",
       "  'shots': 4000,\n",
       "  'meas_level': 1,\n",
       "  'meas_return': 'avg'},\n",
       " {'memory': [[-802119502266368.0, -1606300454617088.0]],\n",
       "  'job_id': '632969595ccea74170944a3e',\n",
       "  'metadata': {'experiment_type': 'RoughFrequencyCal',\n",
       "   'qubits': [0],\n",
       "   'xval': 5044141873.154,\n",
       "   'unit': 'Hz',\n",
       "   'schedule': 'ScheduleBlock(ShiftFrequency(frequency, DriveChannel(0)), Play(GaussianSquare(duration=1072, amp=(0.005+0j), sigma=256.0, width=0.0), DriveChannel(0)), ShiftFrequency(-1.0*frequency, DriveChannel(0)), name=\"spectroscopy\", transform=AlignLeft())'},\n",
       "  'shots': 4000,\n",
       "  'meas_level': 1,\n",
       "  'meas_return': 'avg'},\n",
       " {'memory': [[-811609769377792.0, -1612960338280448.0]],\n",
       "  'job_id': '632969595ccea74170944a3e',\n",
       "  'metadata': {'experiment_type': 'RoughFrequencyCal',\n",
       "   'qubits': [0],\n",
       "   'xval': 5044741873.154,\n",
       "   'unit': 'Hz',\n",
       "   'schedule': 'ScheduleBlock(ShiftFrequency(frequency, DriveChannel(0)), Play(GaussianSquare(duration=1072, amp=(0.005+0j), sigma=256.0, width=0.0), DriveChannel(0)), ShiftFrequency(-1.0*frequency, DriveChannel(0)), name=\"spectroscopy\", transform=AlignLeft())'},\n",
       "  'shots': 4000,\n",
       "  'meas_level': 1,\n",
       "  'meas_return': 'avg'}]"
      ]
     },
     "execution_count": 75,
     "metadata": {},
     "output_type": "execute_result"
    }
   ],
   "source": [
    "edata.data()"
   ]
  },
  {
   "cell_type": "code",
   "execution_count": null,
   "id": "b2f77220",
   "metadata": {},
   "outputs": [],
   "source": [
    "{'memory': [[-807775370215424.0, -1612842763550720.0]],\n",
    "  'job_id': '632969595ccea74170944a3e',\n",
    "  'metadata': {'experiment_type': 'RoughFrequencyCal',\n",
    "   'qubits': [0],\n",
    "   'xval': 5014741873.154,\n",
    "   'unit': 'Hz',\n",
    "   'schedule': 'ScheduleBlock(ShiftFrequency(frequency, DriveChannel(0)), Play(GaussianSquare(duration=1072, amp=(0.005+0j), sigma=256.0, width=0.0), DriveChannel(0)), ShiftFrequency(-1.0*frequency, DriveChannel(0)), name=\"spectroscopy\", transform=AlignLeft())'},\n",
    "  'shots': 4000,\n",
    "  'meas_level': 1,\n",
    "  'meas_return': 'avg'}"
   ]
  },
  {
   "cell_type": "code",
   "execution_count": 40,
   "id": "79b87dc8",
   "metadata": {},
   "outputs": [
    {
     "ename": "TypeError",
     "evalue": "__init__() missing 6 required positional arguments: 'backend_name', 'backend_version', 'qobj_id', 'job_id', 'success', and 'results'",
     "output_type": "error",
     "traceback": [
      "\u001b[0;31m---------------------------------------------------------------------------\u001b[0m",
      "\u001b[0;31mTypeError\u001b[0m                                 Traceback (most recent call last)",
      "\u001b[0;32m/tmp/ipykernel_11102/3635881258.py\u001b[0m in \u001b[0;36m<cell line: 1>\u001b[0;34m()\u001b[0m\n\u001b[0;32m----> 1\u001b[0;31m \u001b[0mres\u001b[0m \u001b[0;34m=\u001b[0m \u001b[0mResult\u001b[0m\u001b[0;34m(\u001b[0m\u001b[0;34m)\u001b[0m \u001b[0;31m#.from_dict()\u001b[0m\u001b[0;34m\u001b[0m\u001b[0;34m\u001b[0m\u001b[0m\n\u001b[0m",
      "\u001b[0;31mTypeError\u001b[0m: __init__() missing 6 required positional arguments: 'backend_name', 'backend_version', 'qobj_id', 'job_id', 'success', and 'results'"
     ]
    }
   ],
   "source": [
    "res = Result() #.from_dict()"
   ]
  },
  {
   "cell_type": "code",
   "execution_count": 17,
   "id": "0a205ceb",
   "metadata": {},
   "outputs": [],
   "source": [
    "from qiskit.quantum_info import Statevector"
   ]
  },
  {
   "cell_type": "code",
   "execution_count": 21,
   "id": "e44bb384",
   "metadata": {},
   "outputs": [
    {
     "ename": "AttributeError",
     "evalue": "'Counts' object has no attribute 'count'",
     "output_type": "error",
     "traceback": [
      "\u001b[0;31m---------------------------------------------------------------------------\u001b[0m",
      "\u001b[0;31mAttributeError\u001b[0m                            Traceback (most recent call last)",
      "\u001b[0;32m/tmp/ipykernel_13915/3590267109.py\u001b[0m in \u001b[0;36m<cell line: 1>\u001b[0;34m()\u001b[0m\n\u001b[0;32m----> 1\u001b[0;31m \u001b[0mStatevector\u001b[0m\u001b[0;34m(\u001b[0m\u001b[0;34m[\u001b[0m\u001b[0;36m1\u001b[0m\u001b[0;34m,\u001b[0m\u001b[0;36m0\u001b[0m\u001b[0;34m,\u001b[0m\u001b[0;36m0\u001b[0m\u001b[0;34m]\u001b[0m\u001b[0;34m)\u001b[0m\u001b[0;34m.\u001b[0m\u001b[0msample_counts\u001b[0m\u001b[0;34m(\u001b[0m\u001b[0;36m1000\u001b[0m\u001b[0;34m)\u001b[0m\u001b[0;34m.\u001b[0m\u001b[0mcount\u001b[0m\u001b[0;34m\u001b[0m\u001b[0;34m\u001b[0m\u001b[0m\n\u001b[0m",
      "\u001b[0;31mAttributeError\u001b[0m: 'Counts' object has no attribute 'count'"
     ]
    }
   ],
   "source": [
    "Statevector([1,0,0]).sample_counts(1000)"
   ]
  },
  {
   "cell_type": "code",
   "execution_count": null,
   "id": "94fdf007",
   "metadata": {},
   "outputs": [],
   "source": []
  },
  {
   "cell_type": "code",
   "execution_count": 41,
   "id": "f1e7ba44",
   "metadata": {},
   "outputs": [
    {
     "ename": "TypeError",
     "evalue": "to_dict() missing 1 required positional argument: 'self'",
     "output_type": "error",
     "traceback": [
      "\u001b[0;31m---------------------------------------------------------------------------\u001b[0m",
      "\u001b[0;31mTypeError\u001b[0m                                 Traceback (most recent call last)",
      "\u001b[0;32m/tmp/ipykernel_11102/789783668.py\u001b[0m in \u001b[0;36m<cell line: 1>\u001b[0;34m()\u001b[0m\n\u001b[0;32m----> 1\u001b[0;31m \u001b[0mres\u001b[0m\u001b[0;34m.\u001b[0m\u001b[0mto_dict\u001b[0m\u001b[0;34m(\u001b[0m\u001b[0;34m)\u001b[0m\u001b[0;34m\u001b[0m\u001b[0;34m\u001b[0m\u001b[0m\n\u001b[0m",
      "\u001b[0;31mTypeError\u001b[0m: to_dict() missing 1 required positional argument: 'self'"
     ]
    }
   ],
   "source": [
    "self.options.update_options(**options)\n",
    "shots = self.options.get(\"shots\")\n",
    "meas_level = self.options.get(\"meas_level\")\n",
    "\n",
    "result = {\n",
    "    \"backend_name\": f\"{self.__class__.__name__}\",\n",
    "    \"backend_version\": self.backend_version,\n",
    "    \"qobj_id\": 0,\n",
    "    \"job_id\": 0,\n",
    "    \"success\": True,\n",
    "    \"results\": [],\n",
    "}\n",
    "\n",
    "\n",
    "for idx, circ in enumerate(run_input):\n",
    "#     counts = {}\n",
    "#     for key1, key2 in zip([\"00\", \"01\", \"10\", \"11\"], [\"0x0\", \"0x1\", \"0x2\", \"0x3\"]):\n",
    "#         counts[key1] = sorted_memory[idx][\"memory\"].count(key2)\n",
    "    run_result = {\n",
    "        \"shots\": shots,\n",
    "        \"success\": True,\n",
    "        \"header\": {\"metadata\": circ.metadata},\n",
    "        \"meas_level\": meas_level,\n",
    "        \"data\": {\n",
    "            \"counts\": counts,\n",
    "#             \"memory\": sorted_memory[idx][\"memory\"],\n",
    "        },\n",
    "    }\n",
    "\n",
    "    result[\"results\"].append(run_result)\n",
    "\n"
   ]
  },
  {
   "cell_type": "code",
   "execution_count": 44,
   "id": "de31a515",
   "metadata": {},
   "outputs": [],
   "source": [
    "from qiskit.quantum_info.states import Statevector\n"
   ]
  },
  {
   "cell_type": "code",
   "execution_count": 25,
   "id": "c389600b",
   "metadata": {},
   "outputs": [
    {
     "data": {
      "text/plain": [
       "{'0': 485, '2': 515}"
      ]
     },
     "execution_count": 25,
     "metadata": {},
     "output_type": "execute_result"
    }
   ],
   "source": [
    "Statevector(np.array([1,0,1])/np.linalg.norm(np.array([1,0,1]))).sample_counts(1000)"
   ]
  },
  {
   "cell_type": "code",
   "execution_count": 22,
   "id": "fd874e78",
   "metadata": {},
   "outputs": [
    {
     "ename": "AttributeError",
     "evalue": "'numpy.ndarray' object has no attribute 'count'",
     "output_type": "error",
     "traceback": [
      "\u001b[0;31m---------------------------------------------------------------------------\u001b[0m",
      "\u001b[0;31mAttributeError\u001b[0m                            Traceback (most recent call last)",
      "\u001b[0;32m/tmp/ipykernel_13915/789162387.py\u001b[0m in \u001b[0;36m<cell line: 1>\u001b[0;34m()\u001b[0m\n\u001b[0;32m----> 1\u001b[0;31m \u001b[0mStatevector\u001b[0m\u001b[0;34m(\u001b[0m\u001b[0mnp\u001b[0m\u001b[0;34m.\u001b[0m\u001b[0marray\u001b[0m\u001b[0;34m(\u001b[0m\u001b[0;34m[\u001b[0m\u001b[0;36m1\u001b[0m\u001b[0;34m,\u001b[0m\u001b[0;36m0\u001b[0m\u001b[0;34m,\u001b[0m\u001b[0;36m0\u001b[0m\u001b[0;34m]\u001b[0m\u001b[0;34m)\u001b[0m\u001b[0;34m)\u001b[0m\u001b[0;34m.\u001b[0m\u001b[0msample_memory\u001b[0m\u001b[0;34m(\u001b[0m\u001b[0;36m1000\u001b[0m\u001b[0;34m)\u001b[0m\u001b[0;34m.\u001b[0m\u001b[0mcount\u001b[0m\u001b[0;34m\u001b[0m\u001b[0;34m\u001b[0m\u001b[0m\n\u001b[0m",
      "\u001b[0;31mAttributeError\u001b[0m: 'numpy.ndarray' object has no attribute 'count'"
     ]
    }
   ],
   "source": [
    "Statevector(np.array([1,0,0])).sample_memory(1000)."
   ]
  },
  {
   "cell_type": "code",
   "execution_count": 119,
   "id": "f2e3f9f0",
   "metadata": {},
   "outputs": [
    {
     "data": {
      "text/plain": [
       "qiskit.circuit.quantumcircuitdata.CircuitInstruction"
      ]
     },
     "execution_count": 119,
     "metadata": {},
     "output_type": "execute_result"
    }
   ],
   "source": [
    "qc = QuantumCircuit(1)\n",
    "qc.x(0)\n",
    "type(qc.data[0])"
   ]
  },
  {
   "cell_type": "code",
   "execution_count": 122,
   "id": "520a9724",
   "metadata": {},
   "outputs": [],
   "source": [
    "def _get_info(instruction):\n",
    "    p_dict = instruction.operation\n",
    "    qubit = tuple(int(str(val)[-2]) for val in instruction.qubits)\n",
    "    params = tuple(float(val) for val in p_dict.params)\n",
    "    return qubit, params, p_dict.name"
   ]
  },
  {
   "cell_type": "code",
   "execution_count": 123,
   "id": "255f409c",
   "metadata": {},
   "outputs": [
    {
     "data": {
      "text/plain": [
       "((0,), (), 'x')"
      ]
     },
     "execution_count": 123,
     "metadata": {},
     "output_type": "execute_result"
    }
   ],
   "source": [
    "_get_info(qc.data[0])"
   ]
  },
  {
   "cell_type": "code",
   "execution_count": 31,
   "id": "2445b4a9",
   "metadata": {},
   "outputs": [
    {
     "data": {
      "text/plain": [
       "(array([0, 1]), array([3, 2]))"
      ]
     },
     "execution_count": 31,
     "metadata": {},
     "output_type": "execute_result"
    }
   ],
   "source": [
    "np.unique([1,0,0,0,1], return_counts=True)"
   ]
  },
  {
   "cell_type": "code",
   "execution_count": 32,
   "id": "28f5ef59",
   "metadata": {},
   "outputs": [
    {
     "data": {
      "text/plain": [
       "{0: 3, 1: 2}"
      ]
     },
     "execution_count": 32,
     "metadata": {},
     "output_type": "execute_result"
    }
   ],
   "source": []
  },
  {
   "cell_type": "code",
   "execution_count": null,
   "id": "17af063a",
   "metadata": {},
   "outputs": [],
   "source": []
  },
  {
   "cell_type": "code",
   "execution_count": 131,
   "id": "9d99ccbe",
   "metadata": {},
   "outputs": [],
   "source": [
    "class PulseIQTestBackend(BackendV2):\n",
    "    def __init__(\n",
    "        self, static_hamiltonian, hamiltonian_operators, dt=0.1 * 1e-9, **kwargs\n",
    "    ):\n",
    "        super().__init__(\n",
    "            None,\n",
    "            name=\"PulseBackendV2\",\n",
    "            description=\"A PulseBackend simulator\",\n",
    "            online_date=datetime.datetime.utcnow(),\n",
    "            backend_version=\"0.0.1\",\n",
    "        )\n",
    "\n",
    "        self.static_hamiltonian = static_hamiltonian\n",
    "        self.hamiltonian_operators = hamiltonian_operators\n",
    "        self._solver = Solver(\n",
    "            self.static_hamiltonian, self.hamiltonian_operators, **kwargs\n",
    "        )\n",
    "        self._target = Target(dt=dt, granularity=16)\n",
    "        self.gs = np.zeros(self._solver.model.dim)\n",
    "        self.gs[0] = 1\n",
    "        self.y0 = np.eye(self._solver.model.dim)\n",
    "\n",
    "    @property\n",
    "    def target(self):\n",
    "        return self._target\n",
    "\n",
    "    @property\n",
    "    def max_circuits(self):\n",
    "        return None\n",
    "\n",
    "    def defaults(self):\n",
    "        return self._defaults\n",
    "\n",
    "    @classmethod\n",
    "    def _default_options(cls):\n",
    "        return Options(shots=1024)\n",
    "\n",
    "    @staticmethod\n",
    "    def _get_info(inst):\n",
    "        p_dict = inst.operation\n",
    "        qubit = tuple(int(str(val)[-2]) for val in inst.qubits)\n",
    "        params = tuple(float(val) for val in p_dict.params)\n",
    "        return qubit, params, p_dict.name\n",
    "\n",
    "    def solve(self, schedule_blocks, qubits):\n",
    "\n",
    "        if len(qubits) > 1:\n",
    "            QiskitError(\"TODO multi qubit gates\")\n",
    "        else:\n",
    "            qubit = qubits[0]\n",
    "\n",
    "        signal = converter.get_signals(schedule_blocks)\n",
    "        T = schedule_blocks.duration * self.dt\n",
    "        result = self.hamiltonian_solver.solve(\n",
    "            t_span=[0.0, T],\n",
    "            y0=self.y0,\n",
    "            t_eval=[T],\n",
    "            signals=signal,\n",
    "            method=\"RK23\",\n",
    "        ).y[0]\n",
    "\n",
    "        return result\n",
    "\n",
    "    def run(self, run_inputs, meas_level=0, shots=1024):\n",
    "        \"\"\"Simulates the full pulse schedule\"\"\"\n",
    "\n",
    "        if isinstance(run_inputs, QuantumCircuit):\n",
    "            run_inputs = [run_inputs]\n",
    "\n",
    "        state_vectors = []\n",
    "        experiment_unitaries = {}\n",
    "        \n",
    "        for circuit in run_inputs:\n",
    "            if circuit.calibrations.__len__ == 0:\n",
    "                raise QiskitError(\n",
    "                    \"TODO get schedule using pulse.InstructionScheduleMap\"\n",
    "                )\n",
    "            for name, schedule in circuit.calibrations.items():\n",
    "                for (qubits, params), schedule_block in schedule.items():\n",
    "                    if (name, qubits, params) not in experiment_unitaries:\n",
    "                        experiment_unitaries[(name, qubits, params)] = self.solve(\n",
    "                            schedule_block\n",
    "                        )\n",
    "\n",
    "            psi = self.gs.copy()\n",
    "            for instruction in circuit.data:  # TODO check\n",
    "                qubits, params, inst_name = self._get_info(instruction)  # TODO\n",
    "                if inst_name in [\"barrier\", \"measure\"]:\n",
    "                    continue\n",
    "                unitary = experiment_unitaries[(inst_name, qubits, params)]\n",
    "                psi = unitary @ psi\n",
    "\n",
    "            state_vectors.append(Statevector(psi))\n",
    "\n",
    "        return state_vectors\n",
    "\n",
    "\n",
    "class SingleQubitTestBackend(PulseIQTestBackend):\n",
    "    \"\"\"Construct H in the init\"\"\"\n",
    "\n",
    "    def __init__(self, omega_01, delta, lambda_0, lambda_1):\n",
    "\n",
    "        self._defaults = PulseDefaults.from_dict(\n",
    "            {\n",
    "                \"qubit_freq_est\": [omega_01 / 1e9],\n",
    "                \"meas_freq_est\": [0],\n",
    "                \"buffer\": 0,\n",
    "                \"pulse_library\": [],\n",
    "                \"cmd_def\": [],\n",
    "            }\n",
    "        )\n",
    "        \n",
    "        omega_02 = 2 * omega_01 + delta\n",
    "        ket0 = np.array([[1, 0, 0]]).T\n",
    "        ket1 = np.array([[0, 1, 0]]).T\n",
    "        ket2 = np.array([[0, 0, 1]]).T\n",
    "\n",
    "        sigma_m1 = ket0 @ ket1.T.conj()\n",
    "        sigma_m2 = ket1 @ ket2.T.conj()\n",
    "\n",
    "        sigma_p1 = sigma_m1.T.conj()\n",
    "        sigma_p2 = sigma_m2.T.conj()\n",
    "\n",
    "        p1 = ket1 @ ket1.T.conj()\n",
    "        p2 = ket2 @ ket2.T.conj()\n",
    "\n",
    "        drift = 2 * np.pi * (omega_01 * p1 + omega_02 * p2)\n",
    "        control = [\n",
    "            2\n",
    "            * np.pi\n",
    "            * (lambda_0 * (sigma_p1 + sigma_m1) + lambda_1 * (sigma_p2 + sigma_m2))\n",
    "        ]\n",
    "        r_frame = 2 * np.pi * (omega_01 * p1 + 2 * omega_01 * p2)\n",
    "\n",
    "        super().__init__(\n",
    "            static_hamiltonian=drift,\n",
    "            hamiltonian_operators=control,\n",
    "            rotating_frame=r_frame,\n",
    "            rwa_cutoff_freq=1.9 * omega_01,\n",
    "            rwa_carrier_freqs=[omega_01],\n",
    "        )\n",
    "        \n",
    "        self.converter = InstructionToSignals(self.dt, carriers={\"d0\": omega_01})\n",
    "\n",
    "\n",
    "# class CXTestBackend(PulseIQTestBackend):"
   ]
  },
  {
   "cell_type": "code",
   "execution_count": 1,
   "id": "a90db4d4",
   "metadata": {},
   "outputs": [],
   "source": [
    "%load_ext autoreload\n",
    "%autoreload 2"
   ]
  },
  {
   "cell_type": "code",
   "execution_count": 2,
   "id": "852e04de",
   "metadata": {},
   "outputs": [],
   "source": [
    "import os\n",
    "os.environ[\"QISKIT_IN_PARALLEL\"] = 'TRUE'"
   ]
  },
  {
   "cell_type": "code",
   "execution_count": 39,
   "id": "0cf8d0d9",
   "metadata": {},
   "outputs": [],
   "source": [
    "\n",
    "from qiskit_experiments.test.iq_pulse_backend import SingleQubitTestBackend"
   ]
  },
  {
   "cell_type": "code",
   "execution_count": 40,
   "id": "847b16b1",
   "metadata": {},
   "outputs": [],
   "source": [
    "pulse_backend = SingleQubitTestBackend(5.0e9,-.25e9, 1e9, 0.8e9)"
   ]
  },
  {
   "cell_type": "markdown",
   "id": "5d5314f5",
   "metadata": {},
   "source": [
    "# Calibration Experiments"
   ]
  },
  {
   "cell_type": "code",
   "execution_count": 41,
   "id": "ec9d3d5e",
   "metadata": {},
   "outputs": [],
   "source": [
    "from qiskit_experiments.calibration_management.calibrations import Calibrations\n",
    "from qiskit_experiments.calibration_management.basis_gate_library import (\n",
    "    FixedFrequencyTransmon,\n",
    ")"
   ]
  },
  {
   "cell_type": "markdown",
   "id": "dba8be60",
   "metadata": {},
   "source": [
    "## spectroscopy"
   ]
  },
  {
   "cell_type": "code",
   "execution_count": 42,
   "id": "b7a267cc",
   "metadata": {},
   "outputs": [],
   "source": [
    "from qiskit_experiments.library.calibration.rough_frequency import RoughFrequencyCal\n",
    "\n",
    "qubit = 0\n",
    "library = FixedFrequencyTransmon()\n",
    "cals = Calibrations.from_backend(pulse_backend, libraries=[library])\n",
    "\n",
    "freq01_estimate = pulse_backend.defaults().qubit_freq_est[qubit]\n",
    "frequencies = np.linspace(freq01_estimate - 15e6, freq01_estimate + 15e6, 3)\n",
    "spec = RoughFrequencyCal(qubit, cals, frequencies, backend=pulse_backend)\n",
    "spec.set_experiment_options(amp=0.005)"
   ]
  },
  {
   "cell_type": "code",
   "execution_count": 43,
   "id": "c7f161f2",
   "metadata": {},
   "outputs": [
    {
     "name": "stderr",
     "output_type": "stream",
     "text": [
      "WARNING:qiskit_experiments.framework.experiment_data:Analysis callback failed [Experiment ID: ec42f148-4a70-4fe7-880d-f8d351c4babe][Analysis Callback ID: e313a3d1cb4743ca826d491d6d0b17be]:\n",
      "Traceback (most recent call last):\n",
      "  File \"/home/rupeshknn/projects/qc/pulse-backend-qamp22/qiskit-experiments/qiskit_experiments/data_processing/nodes.py\", line 187, in _format_data\n",
      "    self._n_circs, self._n_shots, self._n_slots, self._n_iq = data.shape\n",
      "ValueError: not enough values to unpack (expected 4, got 2)\n",
      "\n",
      "During handling of the above exception, another exception occurred:\n",
      "\n",
      "Traceback (most recent call last):\n",
      "  File \"/home/rupeshknn/projects/qc/pulse-backend-qamp22/qiskit-experiments/qiskit_experiments/data_processing/nodes.py\", line 191, in _format_data\n",
      "    self._n_circs, self._n_slots, self._n_iq = data.shape\n",
      "ValueError: not enough values to unpack (expected 3, got 2)\n",
      "\n",
      "The above exception was the direct cause of the following exception:\n",
      "\n",
      "Traceback (most recent call last):\n",
      "  File \"/home/rupeshknn/projects/qc/pulse-backend-qamp22/qiskit-experiments/qiskit_experiments/framework/experiment_data.py\", line 885, in _run_analysis_callback\n",
      "    callback(self, **kwargs)\n",
      "  File \"/home/rupeshknn/projects/qc/pulse-backend-qamp22/qiskit-experiments/qiskit_experiments/framework/base_analysis.py\", line 162, in run_analysis\n",
      "    results, figures = analysis._run_analysis(expdata)\n",
      "  File \"/home/rupeshknn/projects/qc/pulse-backend-qamp22/qiskit-experiments/qiskit_experiments/curve_analysis/curve_analysis.py\", line 468, in _run_analysis\n",
      "    self._initialize(experiment_data)\n",
      "  File \"/home/rupeshknn/projects/qc/pulse-backend-qamp22/qiskit-experiments/qiskit_experiments/curve_analysis/base_curve_analysis.py\", line 428, in _initialize\n",
      "    data_processor.train(data=experiment_data.data())\n",
      "  File \"/home/rupeshknn/projects/qc/pulse-backend-qamp22/qiskit-experiments/qiskit_experiments/data_processing/data_processor.py\", line 202, in train\n",
      "    node.train(self._call_internal(data, call_up_to_node=index))\n",
      "  File \"/home/rupeshknn/projects/qc/pulse-backend-qamp22/qiskit-experiments/qiskit_experiments/data_processing/nodes.py\", line 281, in train\n",
      "    data = unp.nominal_values(self._format_data(data))\n",
      "  File \"/home/rupeshknn/projects/qc/pulse-backend-qamp22/qiskit-experiments/qiskit_experiments/data_processing/nodes.py\", line 193, in _format_data\n",
      "    raise DataProcessorError(\n",
      "qiskit_experiments.data_processing.exceptions.DataProcessorError: 'Data given to SVD is not likely level1 data.'\n",
      "\n"
     ]
    },
    {
     "data": {
      "text/plain": [
       "ExperimentData(RoughFrequencyCal, ec42f148-4a70-4fe7-880d-f8d351c4babe, job_ids=[0], metadata=<7 items>)"
      ]
     },
     "execution_count": 43,
     "metadata": {},
     "output_type": "execute_result"
    }
   ],
   "source": [
    "spec.run()"
   ]
  },
  {
   "cell_type": "code",
   "execution_count": 59,
   "id": "9cb7729a",
   "metadata": {},
   "outputs": [
    {
     "name": "stderr",
     "output_type": "stream",
     "text": [
      "WARNING:qiskit_experiments.framework.experiment_data:Unable to retrieve data from job on backend ibmq_lima [Job ID: 6]\n",
      "WARNING:qiskit_experiments.framework.experiment_data:Unable to retrieve data from job on backend ibmq_lima [Job ID: 3]\n",
      "WARNING:qiskit_experiments.framework.experiment_data:Unable to retrieve data from job on backend ibmq_lima [Job ID: 2]\n",
      "WARNING:qiskit_experiments.framework.experiment_data:Unable to retrieve data from job on backend ibmq_lima [Job ID: 9]\n",
      "WARNING:qiskit_experiments.framework.experiment_data:Unable to retrieve data from job on backend ibmq_lima [Job ID: 5]\n",
      "WARNING:qiskit_experiments.framework.experiment_data:Unable to retrieve data from job on backend ibmq_lima [Job ID: c]\n",
      "WARNING:qiskit_experiments.framework.experiment_data:Unable to retrieve data from job on backend ibmq_lima [Job ID: e]\n",
      "WARNING:qiskit_experiments.framework.experiment_data:Unable to retrieve data from job on backend ibmq_lima [Job ID: a]\n",
      "WARNING:qiskit_experiments.framework.experiment_data:Unable to retrieve data from job on backend ibmq_lima [Job ID: 7]\n",
      "WARNING:qiskit_experiments.framework.experiment_data:Unable to retrieve data from job on backend ibmq_lima [Job ID: 4]\n",
      "WARNING:qiskit_experiments.framework.experiment_data:Unable to retrieve data from job on backend ibmq_lima [Job ID: 1]\n",
      "WARNING:qiskit_experiments.framework.experiment_data:Unable to retrieve data from job on backend ibmq_lima [Job ID: 0]\n"
     ]
    },
    {
     "data": {
      "text/plain": [
       "[]"
      ]
     },
     "execution_count": 59,
     "metadata": {},
     "output_type": "execute_result"
    }
   ],
   "source": [
    "edata.data()"
   ]
  },
  {
   "cell_type": "code",
   "execution_count": 77,
   "id": "b30b5967",
   "metadata": {},
   "outputs": [
    {
     "data": {
      "text/plain": [
       "{'memory': [[-807775370215424.0, -1612842763550720.0]],\n",
       " 'job_id': '632969595ccea74170944a3e',\n",
       " 'metadata': {'experiment_type': 'RoughFrequencyCal',\n",
       "  'qubits': [0],\n",
       "  'xval': 5014741873.154,\n",
       "  'unit': 'Hz',\n",
       "  'schedule': 'ScheduleBlock(ShiftFrequency(frequency, DriveChannel(0)), Play(GaussianSquare(duration=1072, amp=(0.005+0j), sigma=256.0, width=0.0), DriveChannel(0)), ShiftFrequency(-1.0*frequency, DriveChannel(0)), name=\"spectroscopy\", transform=AlignLeft())'},\n",
       " 'shots': 4000,\n",
       " 'meas_level': 1,\n",
       " 'meas_return': 'avg'}"
      ]
     },
     "execution_count": 77,
     "metadata": {},
     "output_type": "execute_result"
    }
   ],
   "source": [
    "edata.data()[0]"
   ]
  },
  {
   "cell_type": "code",
   "execution_count": 78,
   "id": "53b8eae7",
   "metadata": {},
   "outputs": [
    {
     "data": {
      "text/plain": [
       "{'counts': {'0': 1024},\n",
       " 'memory': array(['0', '0', '0', ..., '0', '0', '0'], dtype='<U21'),\n",
       " 'job_id': 0,\n",
       " 'metadata': {'experiment_type': 'RoughFrequencyCal',\n",
       "  'qubits': (0,),\n",
       "  'xval': 4985000000.0,\n",
       "  'unit': 'Hz',\n",
       "  'schedule': 'ScheduleBlock(ShiftFrequency(frequency, DriveChannel(0)), Play(GaussianSquare(duration=2384, amp=(0.005+0j), sigma=592.0, width=0.0), DriveChannel(0)), ShiftFrequency(-1.0*frequency, DriveChannel(0)), name=\"spectroscopy\", transform=AlignLeft())'},\n",
       " 'shots': 1024,\n",
       " 'meas_level': <MeasLevel.KERNELED: 1>}"
      ]
     },
     "execution_count": 78,
     "metadata": {},
     "output_type": "execute_result"
    }
   ],
   "source": [
    "data.data()[0]"
   ]
  },
  {
   "cell_type": "code",
   "execution_count": null,
   "id": "05760189",
   "metadata": {},
   "outputs": [],
   "source": []
  },
  {
   "cell_type": "code",
   "execution_count": 16,
   "id": "4737a749",
   "metadata": {},
   "outputs": [
    {
     "ename": "ExperimentEntryNotFound",
     "evalue": "'Analysis result f01 not found.\\nErrors: \\n[Analysis Callback ID: 2bfdececaa894b7cb0f6c753c34d2508]: Analysis callback failed [Experiment ID: 9fb8773b-785c-4130-ac86-350cfccac395][Analysis Callback ID: 2bfdececaa894b7cb0f6c753c34d2508]:\\nTraceback (most recent call last):\\n  File \"/home/rupeshknn/projects/qc/pulse-backend-qamp22/qiskit-experiments/qiskit_experiments/data_processing/data_processor.py\", line 231, in _data_extraction\\n    outcome = datum[self._input_key]\\nKeyError: \\'memory\\'\\n\\nThe above exception was the direct cause of the following exception:\\n\\nTraceback (most recent call last):\\n  File \"/home/rupeshknn/projects/qc/pulse-backend-qamp22/qiskit-experiments/qiskit_experiments/framework/experiment_data.py\", line 885, in _run_analysis_callback\\n    callback(self, **kwargs)\\n  File \"/home/rupeshknn/projects/qc/pulse-backend-qamp22/qiskit-experiments/qiskit_experiments/framework/base_analysis.py\", line 162, in run_analysis\\n    results, figures = analysis._run_analysis(expdata)\\n  File \"/home/rupeshknn/projects/qc/pulse-backend-qamp22/qiskit-experiments/qiskit_experiments/curve_analysis/curve_analysis.py\", line 468, in _run_analysis\\n    self._initialize(experiment_data)\\n  File \"/home/rupeshknn/projects/qc/pulse-backend-qamp22/qiskit-experiments/qiskit_experiments/curve_analysis/base_curve_analysis.py\", line 428, in _initialize\\n    data_processor.train(data=experiment_data.data())\\n  File \"/home/rupeshknn/projects/qc/pulse-backend-qamp22/qiskit-experiments/qiskit_experiments/data_processing/data_processor.py\", line 202, in train\\n    node.train(self._call_internal(data, call_up_to_node=index))\\n  File \"/home/rupeshknn/projects/qc/pulse-backend-qamp22/qiskit-experiments/qiskit_experiments/data_processing/data_processor.py\", line 162, in _call_internal\\n    data = self._data_extraction(data)\\n  File \"/home/rupeshknn/projects/qc/pulse-backend-qamp22/qiskit-experiments/qiskit_experiments/data_processing/data_processor.py\", line 238, in _data_extraction\\n    raise DataProcessorError(\\nqiskit_experiments.data_processing.exceptions.DataProcessorError: \\'The input key memory was not found in the input datum.\\'\\n'",
     "output_type": "error",
     "traceback": [
      "\u001b[0;31m---------------------------------------------------------------------------\u001b[0m",
      "\u001b[0;31mExperimentEntryNotFound\u001b[0m                   Traceback (most recent call last)",
      "\u001b[0;32m/tmp/ipykernel_13915/2403182424.py\u001b[0m in \u001b[0;36m<cell line: 1>\u001b[0;34m()\u001b[0m\n\u001b[0;32m----> 1\u001b[0;31m \u001b[0mspec_data\u001b[0m\u001b[0;34m.\u001b[0m\u001b[0manalysis_results\u001b[0m\u001b[0;34m(\u001b[0m\u001b[0;34m\"f01\"\u001b[0m\u001b[0;34m)\u001b[0m\u001b[0;34m\u001b[0m\u001b[0;34m\u001b[0m\u001b[0m\n\u001b[0m",
      "\u001b[0;32m~/projects/qc/pulse-backend-qamp22/qiskit-experiments/qiskit_experiments/framework/experiment_data.py\u001b[0m in \u001b[0;36manalysis_results\u001b[0;34m(self, index, refresh, block, timeout)\u001b[0m\n\u001b[1;32m   1289\u001b[0m             ]\n\u001b[1;32m   1290\u001b[0m             \u001b[0;32mif\u001b[0m \u001b[0;32mnot\u001b[0m \u001b[0mfiltered\u001b[0m\u001b[0;34m:\u001b[0m\u001b[0;34m\u001b[0m\u001b[0;34m\u001b[0m\u001b[0m\n\u001b[0;32m-> 1291\u001b[0;31m                 \u001b[0;32mraise\u001b[0m \u001b[0mExperimentEntryNotFound\u001b[0m\u001b[0;34m(\u001b[0m\u001b[0m_make_not_found_message\u001b[0m\u001b[0;34m(\u001b[0m\u001b[0mindex\u001b[0m\u001b[0;34m)\u001b[0m\u001b[0;34m)\u001b[0m\u001b[0;34m\u001b[0m\u001b[0;34m\u001b[0m\u001b[0m\n\u001b[0m\u001b[1;32m   1292\u001b[0m             \u001b[0;32mif\u001b[0m \u001b[0mlen\u001b[0m\u001b[0;34m(\u001b[0m\u001b[0mfiltered\u001b[0m\u001b[0;34m)\u001b[0m \u001b[0;34m==\u001b[0m \u001b[0;36m1\u001b[0m\u001b[0;34m:\u001b[0m\u001b[0;34m\u001b[0m\u001b[0;34m\u001b[0m\u001b[0m\n\u001b[1;32m   1293\u001b[0m                 \u001b[0;32mreturn\u001b[0m \u001b[0mfiltered\u001b[0m\u001b[0;34m[\u001b[0m\u001b[0;36m0\u001b[0m\u001b[0;34m]\u001b[0m\u001b[0;34m\u001b[0m\u001b[0;34m\u001b[0m\u001b[0m\n",
      "\u001b[0;31mExperimentEntryNotFound\u001b[0m: 'Analysis result f01 not found.\\nErrors: \\n[Analysis Callback ID: 2bfdececaa894b7cb0f6c753c34d2508]: Analysis callback failed [Experiment ID: 9fb8773b-785c-4130-ac86-350cfccac395][Analysis Callback ID: 2bfdececaa894b7cb0f6c753c34d2508]:\\nTraceback (most recent call last):\\n  File \"/home/rupeshknn/projects/qc/pulse-backend-qamp22/qiskit-experiments/qiskit_experiments/data_processing/data_processor.py\", line 231, in _data_extraction\\n    outcome = datum[self._input_key]\\nKeyError: \\'memory\\'\\n\\nThe above exception was the direct cause of the following exception:\\n\\nTraceback (most recent call last):\\n  File \"/home/rupeshknn/projects/qc/pulse-backend-qamp22/qiskit-experiments/qiskit_experiments/framework/experiment_data.py\", line 885, in _run_analysis_callback\\n    callback(self, **kwargs)\\n  File \"/home/rupeshknn/projects/qc/pulse-backend-qamp22/qiskit-experiments/qiskit_experiments/framework/base_analysis.py\", line 162, in run_analysis\\n    results, figures = analysis._run_analysis(expdata)\\n  File \"/home/rupeshknn/projects/qc/pulse-backend-qamp22/qiskit-experiments/qiskit_experiments/curve_analysis/curve_analysis.py\", line 468, in _run_analysis\\n    self._initialize(experiment_data)\\n  File \"/home/rupeshknn/projects/qc/pulse-backend-qamp22/qiskit-experiments/qiskit_experiments/curve_analysis/base_curve_analysis.py\", line 428, in _initialize\\n    data_processor.train(data=experiment_data.data())\\n  File \"/home/rupeshknn/projects/qc/pulse-backend-qamp22/qiskit-experiments/qiskit_experiments/data_processing/data_processor.py\", line 202, in train\\n    node.train(self._call_internal(data, call_up_to_node=index))\\n  File \"/home/rupeshknn/projects/qc/pulse-backend-qamp22/qiskit-experiments/qiskit_experiments/data_processing/data_processor.py\", line 162, in _call_internal\\n    data = self._data_extraction(data)\\n  File \"/home/rupeshknn/projects/qc/pulse-backend-qamp22/qiskit-experiments/qiskit_experiments/data_processing/data_processor.py\", line 238, in _data_extraction\\n    raise DataProcessorError(\\nqiskit_experiments.data_processing.exceptions.DataProcessorError: \\'The input key memory was not found in the input datum.\\'\\n'"
     ]
    }
   ],
   "source": [
    "spec_data.analysis_results(\"f01\")\n"
   ]
  },
  {
   "cell_type": "code",
   "execution_count": null,
   "id": "5cba902b",
   "metadata": {},
   "outputs": [],
   "source": []
  },
  {
   "cell_type": "code",
   "execution_count": 8,
   "id": "56691e15",
   "metadata": {},
   "outputs": [
    {
     "data": {
      "text/plain": [
       "False"
      ]
     },
     "execution_count": 8,
     "metadata": {},
     "output_type": "execute_result"
    }
   ],
   "source": [
    "os.getenv(\"QISKIT_IN_PARALLEL\", \"FALSE\") == \"FALSE\""
   ]
  },
  {
   "cell_type": "code",
   "execution_count": 10,
   "id": "a4710af8",
   "metadata": {},
   "outputs": [],
   "source": [
    "# from qiskit.providers.fake_provider.fake_openpulse_2q import FakeOpenPulse2Q"
   ]
  },
  {
   "cell_type": "code",
   "execution_count": 66,
   "id": "2fd129b1",
   "metadata": {},
   "outputs": [
    {
     "ename": "KeyboardInterrupt",
     "evalue": "",
     "output_type": "error",
     "traceback": [
      "\u001b[0;31m---------------------------------------------------------------------------\u001b[0m",
      "\u001b[0;31mKeyboardInterrupt\u001b[0m                         Traceback (most recent call last)",
      "\u001b[0;32m<timed exec>\u001b[0m in \u001b[0;36m<module>\u001b[0;34m\u001b[0m\n",
      "\u001b[0;32m~/projects/qc/pulse-backend-qamp22/qiskit-experiments/qiskit_experiments/test/iq_pulse_backend.py\u001b[0m in \u001b[0;36mrun\u001b[0;34m(self, run_input, **options)\u001b[0m\n\u001b[1;32m    151\u001b[0m                 \u001b[0;32mfor\u001b[0m \u001b[0;34m(\u001b[0m\u001b[0mqubits\u001b[0m\u001b[0;34m,\u001b[0m \u001b[0mparams\u001b[0m\u001b[0;34m)\u001b[0m\u001b[0;34m,\u001b[0m \u001b[0mschedule_block\u001b[0m \u001b[0;32min\u001b[0m \u001b[0mschedule\u001b[0m\u001b[0;34m.\u001b[0m\u001b[0mitems\u001b[0m\u001b[0;34m(\u001b[0m\u001b[0;34m)\u001b[0m\u001b[0;34m:\u001b[0m\u001b[0;34m\u001b[0m\u001b[0;34m\u001b[0m\u001b[0m\n\u001b[1;32m    152\u001b[0m                     \u001b[0;32mif\u001b[0m \u001b[0;34m(\u001b[0m\u001b[0mname\u001b[0m\u001b[0;34m,\u001b[0m \u001b[0mqubits\u001b[0m\u001b[0;34m,\u001b[0m \u001b[0mparams\u001b[0m\u001b[0;34m)\u001b[0m \u001b[0;32mnot\u001b[0m \u001b[0;32min\u001b[0m \u001b[0mexperiment_unitaries\u001b[0m\u001b[0;34m:\u001b[0m\u001b[0;34m\u001b[0m\u001b[0;34m\u001b[0m\u001b[0m\n\u001b[0;32m--> 153\u001b[0;31m                         experiment_unitaries[(name, qubits, params)] = self.solve(\n\u001b[0m\u001b[1;32m    154\u001b[0m                             \u001b[0mschedule_block\u001b[0m\u001b[0;34m,\u001b[0m \u001b[0mqubits\u001b[0m\u001b[0;34m\u001b[0m\u001b[0;34m\u001b[0m\u001b[0m\n\u001b[1;32m    155\u001b[0m                         )\n",
      "\u001b[0;32m~/projects/qc/pulse-backend-qamp22/qiskit-experiments/qiskit_experiments/test/iq_pulse_backend.py\u001b[0m in \u001b[0;36msolve\u001b[0;34m(self, schedule_blocks, qubits)\u001b[0m\n\u001b[1;32m    108\u001b[0m         \u001b[0msignal\u001b[0m \u001b[0;34m=\u001b[0m \u001b[0mself\u001b[0m\u001b[0;34m.\u001b[0m\u001b[0mconverter\u001b[0m\u001b[0;34m.\u001b[0m\u001b[0mget_signals\u001b[0m\u001b[0;34m(\u001b[0m\u001b[0mschedule_blocks\u001b[0m\u001b[0;34m)\u001b[0m\u001b[0;34m\u001b[0m\u001b[0;34m\u001b[0m\u001b[0m\n\u001b[1;32m    109\u001b[0m         \u001b[0mtime_f\u001b[0m \u001b[0;34m=\u001b[0m \u001b[0mschedule_blocks\u001b[0m\u001b[0;34m.\u001b[0m\u001b[0mduration\u001b[0m \u001b[0;34m*\u001b[0m \u001b[0mself\u001b[0m\u001b[0;34m.\u001b[0m\u001b[0mdt\u001b[0m\u001b[0;34m\u001b[0m\u001b[0;34m\u001b[0m\u001b[0m\n\u001b[0;32m--> 110\u001b[0;31m         result = self.solver.solve(\n\u001b[0m\u001b[1;32m    111\u001b[0m             \u001b[0mt_span\u001b[0m\u001b[0;34m=\u001b[0m\u001b[0;34m[\u001b[0m\u001b[0;36m0.0\u001b[0m\u001b[0;34m,\u001b[0m \u001b[0mtime_f\u001b[0m\u001b[0;34m]\u001b[0m\u001b[0;34m,\u001b[0m\u001b[0;34m\u001b[0m\u001b[0;34m\u001b[0m\u001b[0m\n\u001b[1;32m    112\u001b[0m             \u001b[0my0\u001b[0m\u001b[0;34m=\u001b[0m\u001b[0mself\u001b[0m\u001b[0;34m.\u001b[0m\u001b[0my_0\u001b[0m\u001b[0;34m,\u001b[0m\u001b[0;34m\u001b[0m\u001b[0;34m\u001b[0m\u001b[0m\n",
      "\u001b[0;32m~/miniconda3/envs/exp/lib/python3.8/site-packages/qiskit_dynamics/solvers/solver_classes.py\u001b[0m in \u001b[0;36msolve\u001b[0;34m(self, t_span, y0, signals, convert_results, **kwargs)\u001b[0m\n\u001b[1;32m    609\u001b[0m             )\n\u001b[1;32m    610\u001b[0m         \u001b[0;32melse\u001b[0m\u001b[0;34m:\u001b[0m\u001b[0;34m\u001b[0m\u001b[0;34m\u001b[0m\u001b[0m\n\u001b[0;32m--> 611\u001b[0;31m             all_results = self._solve_list(\n\u001b[0m\u001b[1;32m    612\u001b[0m                 \u001b[0mt_span_list\u001b[0m\u001b[0;34m=\u001b[0m\u001b[0mt_span_list\u001b[0m\u001b[0;34m,\u001b[0m\u001b[0;34m\u001b[0m\u001b[0;34m\u001b[0m\u001b[0m\n\u001b[1;32m    613\u001b[0m                 \u001b[0my0_list\u001b[0m\u001b[0;34m=\u001b[0m\u001b[0my0_list\u001b[0m\u001b[0;34m,\u001b[0m\u001b[0;34m\u001b[0m\u001b[0;34m\u001b[0m\u001b[0m\n",
      "\u001b[0;32m~/miniconda3/envs/exp/lib/python3.8/site-packages/qiskit_dynamics/solvers/solver_classes.py\u001b[0m in \u001b[0;36m_solve_list\u001b[0;34m(self, t_span_list, y0_list, signals_list, convert_results, **kwargs)\u001b[0m\n\u001b[1;32m    647\u001b[0m             )\n\u001b[1;32m    648\u001b[0m \u001b[0;34m\u001b[0m\u001b[0m\n\u001b[0;32m--> 649\u001b[0;31m             \u001b[0mresults\u001b[0m \u001b[0;34m=\u001b[0m \u001b[0msolve_lmde\u001b[0m\u001b[0;34m(\u001b[0m\u001b[0mgenerator\u001b[0m\u001b[0;34m=\u001b[0m\u001b[0mself\u001b[0m\u001b[0;34m.\u001b[0m\u001b[0mmodel\u001b[0m\u001b[0;34m,\u001b[0m \u001b[0mt_span\u001b[0m\u001b[0;34m=\u001b[0m\u001b[0mt_span\u001b[0m\u001b[0;34m,\u001b[0m \u001b[0my0\u001b[0m\u001b[0;34m=\u001b[0m\u001b[0my0\u001b[0m\u001b[0;34m,\u001b[0m \u001b[0;34m**\u001b[0m\u001b[0mkwargs\u001b[0m\u001b[0;34m)\u001b[0m\u001b[0;34m\u001b[0m\u001b[0;34m\u001b[0m\u001b[0m\n\u001b[0m\u001b[1;32m    650\u001b[0m             \u001b[0mresults\u001b[0m\u001b[0;34m.\u001b[0m\u001b[0my\u001b[0m \u001b[0;34m=\u001b[0m \u001b[0mformat_final_states\u001b[0m\u001b[0;34m(\u001b[0m\u001b[0mresults\u001b[0m\u001b[0;34m.\u001b[0m\u001b[0my\u001b[0m\u001b[0;34m,\u001b[0m \u001b[0mself\u001b[0m\u001b[0;34m.\u001b[0m\u001b[0mmodel\u001b[0m\u001b[0;34m,\u001b[0m \u001b[0my0_input\u001b[0m\u001b[0;34m,\u001b[0m \u001b[0my0_cls\u001b[0m\u001b[0;34m)\u001b[0m\u001b[0;34m\u001b[0m\u001b[0;34m\u001b[0m\u001b[0m\n\u001b[1;32m    651\u001b[0m \u001b[0;34m\u001b[0m\u001b[0m\n",
      "\u001b[0;32m~/miniconda3/envs/exp/lib/python3.8/site-packages/qiskit_dynamics/solvers/solver_functions.py\u001b[0m in \u001b[0;36msolve_lmde\u001b[0;34m(generator, t_span, y0, method, t_eval, **kwargs)\u001b[0m\n\u001b[1;32m    321\u001b[0m                 \u001b[0;32mreturn\u001b[0m \u001b[0mgenerator\u001b[0m\u001b[0;34m(\u001b[0m\u001b[0mt\u001b[0m\u001b[0;34m)\u001b[0m \u001b[0;34m@\u001b[0m \u001b[0my\u001b[0m\u001b[0;34m\u001b[0m\u001b[0;34m\u001b[0m\u001b[0m\n\u001b[1;32m    322\u001b[0m \u001b[0;34m\u001b[0m\u001b[0m\n\u001b[0;32m--> 323\u001b[0;31m         \u001b[0;32mreturn\u001b[0m \u001b[0msolve_ode\u001b[0m\u001b[0;34m(\u001b[0m\u001b[0mrhs\u001b[0m\u001b[0;34m,\u001b[0m \u001b[0mt_span\u001b[0m\u001b[0;34m,\u001b[0m \u001b[0my0\u001b[0m\u001b[0;34m,\u001b[0m \u001b[0mmethod\u001b[0m\u001b[0;34m=\u001b[0m\u001b[0mmethod\u001b[0m\u001b[0;34m,\u001b[0m \u001b[0mt_eval\u001b[0m\u001b[0;34m=\u001b[0m\u001b[0mt_eval\u001b[0m\u001b[0;34m,\u001b[0m \u001b[0;34m**\u001b[0m\u001b[0mkwargs\u001b[0m\u001b[0;34m)\u001b[0m\u001b[0;34m\u001b[0m\u001b[0;34m\u001b[0m\u001b[0m\n\u001b[0m\u001b[1;32m    324\u001b[0m \u001b[0;34m\u001b[0m\u001b[0m\n\u001b[1;32m    325\u001b[0m     \u001b[0;31m# raise error if neither an ODE_METHOD or an LMDE_METHOD\u001b[0m\u001b[0;34m\u001b[0m\u001b[0;34m\u001b[0m\u001b[0;34m\u001b[0m\u001b[0m\n",
      "\u001b[0;32m~/miniconda3/envs/exp/lib/python3.8/site-packages/qiskit_dynamics/solvers/solver_functions.py\u001b[0m in \u001b[0;36msolve_ode\u001b[0;34m(rhs, t_span, y0, method, t_eval, **kwargs)\u001b[0m\n\u001b[1;32m    194\u001b[0m     \u001b[0;31m# solve the problem using specified method\u001b[0m\u001b[0;34m\u001b[0m\u001b[0;34m\u001b[0m\u001b[0;34m\u001b[0m\u001b[0m\n\u001b[1;32m    195\u001b[0m     \u001b[0;32mif\u001b[0m \u001b[0mmethod\u001b[0m \u001b[0;32min\u001b[0m \u001b[0mSOLVE_IVP_METHODS\u001b[0m \u001b[0;32mor\u001b[0m \u001b[0;34m(\u001b[0m\u001b[0misinstance\u001b[0m\u001b[0;34m(\u001b[0m\u001b[0mmethod\u001b[0m\u001b[0;34m,\u001b[0m \u001b[0mtype\u001b[0m\u001b[0;34m)\u001b[0m \u001b[0;32mand\u001b[0m \u001b[0missubclass\u001b[0m\u001b[0;34m(\u001b[0m\u001b[0mmethod\u001b[0m\u001b[0;34m,\u001b[0m \u001b[0mOdeSolver\u001b[0m\u001b[0;34m)\u001b[0m\u001b[0;34m)\u001b[0m\u001b[0;34m:\u001b[0m\u001b[0;34m\u001b[0m\u001b[0;34m\u001b[0m\u001b[0m\n\u001b[0;32m--> 196\u001b[0;31m         \u001b[0mresults\u001b[0m \u001b[0;34m=\u001b[0m \u001b[0mscipy_solve_ivp\u001b[0m\u001b[0;34m(\u001b[0m\u001b[0msolver_rhs\u001b[0m\u001b[0;34m,\u001b[0m \u001b[0mt_span\u001b[0m\u001b[0;34m,\u001b[0m \u001b[0my0\u001b[0m\u001b[0;34m,\u001b[0m \u001b[0mmethod\u001b[0m\u001b[0;34m,\u001b[0m \u001b[0mt_eval\u001b[0m\u001b[0;34m=\u001b[0m\u001b[0mt_eval\u001b[0m\u001b[0;34m,\u001b[0m \u001b[0;34m**\u001b[0m\u001b[0mkwargs\u001b[0m\u001b[0;34m)\u001b[0m\u001b[0;34m\u001b[0m\u001b[0;34m\u001b[0m\u001b[0m\n\u001b[0m\u001b[1;32m    197\u001b[0m     \u001b[0;32melif\u001b[0m \u001b[0misinstance\u001b[0m\u001b[0;34m(\u001b[0m\u001b[0mmethod\u001b[0m\u001b[0;34m,\u001b[0m \u001b[0mstr\u001b[0m\u001b[0;34m)\u001b[0m \u001b[0;32mand\u001b[0m \u001b[0mmethod\u001b[0m \u001b[0;34m==\u001b[0m \u001b[0;34m\"RK4\"\u001b[0m\u001b[0;34m:\u001b[0m\u001b[0;34m\u001b[0m\u001b[0;34m\u001b[0m\u001b[0m\n\u001b[1;32m    198\u001b[0m         \u001b[0mresults\u001b[0m \u001b[0;34m=\u001b[0m \u001b[0mRK4_solver\u001b[0m\u001b[0;34m(\u001b[0m\u001b[0msolver_rhs\u001b[0m\u001b[0;34m,\u001b[0m \u001b[0mt_span\u001b[0m\u001b[0;34m,\u001b[0m \u001b[0my0\u001b[0m\u001b[0;34m,\u001b[0m \u001b[0mt_eval\u001b[0m\u001b[0;34m=\u001b[0m\u001b[0mt_eval\u001b[0m\u001b[0;34m,\u001b[0m \u001b[0;34m**\u001b[0m\u001b[0mkwargs\u001b[0m\u001b[0;34m)\u001b[0m\u001b[0;34m\u001b[0m\u001b[0;34m\u001b[0m\u001b[0m\n",
      "\u001b[0;32m~/miniconda3/envs/exp/lib/python3.8/site-packages/qiskit_dynamics/solvers/scipy_solve_ivp.py\u001b[0m in \u001b[0;36mscipy_solve_ivp\u001b[0;34m(rhs, t_span, y0, method, t_eval, **kwargs)\u001b[0m\n\u001b[1;32m     78\u001b[0m         \u001b[0my0\u001b[0m \u001b[0;34m=\u001b[0m \u001b[0mc2r\u001b[0m\u001b[0;34m(\u001b[0m\u001b[0my0\u001b[0m\u001b[0;34m)\u001b[0m\u001b[0;34m\u001b[0m\u001b[0;34m\u001b[0m\u001b[0m\n\u001b[1;32m     79\u001b[0m \u001b[0;34m\u001b[0m\u001b[0m\n\u001b[0;32m---> 80\u001b[0;31m     \u001b[0mresults\u001b[0m \u001b[0;34m=\u001b[0m \u001b[0msolve_ivp\u001b[0m\u001b[0;34m(\u001b[0m\u001b[0mrhs\u001b[0m\u001b[0;34m,\u001b[0m \u001b[0mt_span\u001b[0m\u001b[0;34m=\u001b[0m\u001b[0mt_span\u001b[0m\u001b[0;34m,\u001b[0m \u001b[0my0\u001b[0m\u001b[0;34m=\u001b[0m\u001b[0my0\u001b[0m\u001b[0;34m.\u001b[0m\u001b[0mdata\u001b[0m\u001b[0;34m,\u001b[0m \u001b[0mt_eval\u001b[0m\u001b[0;34m=\u001b[0m\u001b[0mt_eval\u001b[0m\u001b[0;34m,\u001b[0m \u001b[0mmethod\u001b[0m\u001b[0;34m=\u001b[0m\u001b[0mmethod\u001b[0m\u001b[0;34m,\u001b[0m \u001b[0;34m**\u001b[0m\u001b[0mkwargs\u001b[0m\u001b[0;34m)\u001b[0m\u001b[0;34m\u001b[0m\u001b[0;34m\u001b[0m\u001b[0m\n\u001b[0m\u001b[1;32m     81\u001b[0m     \u001b[0;32mif\u001b[0m \u001b[0membed_real\u001b[0m\u001b[0;34m:\u001b[0m\u001b[0;34m\u001b[0m\u001b[0;34m\u001b[0m\u001b[0m\n\u001b[1;32m     82\u001b[0m         \u001b[0mresults\u001b[0m\u001b[0;34m.\u001b[0m\u001b[0my\u001b[0m \u001b[0;34m=\u001b[0m \u001b[0mr2c\u001b[0m\u001b[0;34m(\u001b[0m\u001b[0mresults\u001b[0m\u001b[0;34m.\u001b[0m\u001b[0my\u001b[0m\u001b[0;34m)\u001b[0m\u001b[0;34m\u001b[0m\u001b[0;34m\u001b[0m\u001b[0m\n",
      "\u001b[0;32m~/miniconda3/envs/exp/lib/python3.8/site-packages/scipy/integrate/_ivp/ivp.py\u001b[0m in \u001b[0;36msolve_ivp\u001b[0;34m(fun, t_span, y0, method, t_eval, dense_output, events, vectorized, args, **options)\u001b[0m\n\u001b[1;32m    587\u001b[0m     \u001b[0mstatus\u001b[0m \u001b[0;34m=\u001b[0m \u001b[0;32mNone\u001b[0m\u001b[0;34m\u001b[0m\u001b[0;34m\u001b[0m\u001b[0m\n\u001b[1;32m    588\u001b[0m     \u001b[0;32mwhile\u001b[0m \u001b[0mstatus\u001b[0m \u001b[0;32mis\u001b[0m \u001b[0;32mNone\u001b[0m\u001b[0;34m:\u001b[0m\u001b[0;34m\u001b[0m\u001b[0;34m\u001b[0m\u001b[0m\n\u001b[0;32m--> 589\u001b[0;31m         \u001b[0mmessage\u001b[0m \u001b[0;34m=\u001b[0m \u001b[0msolver\u001b[0m\u001b[0;34m.\u001b[0m\u001b[0mstep\u001b[0m\u001b[0;34m(\u001b[0m\u001b[0;34m)\u001b[0m\u001b[0;34m\u001b[0m\u001b[0;34m\u001b[0m\u001b[0m\n\u001b[0m\u001b[1;32m    590\u001b[0m \u001b[0;34m\u001b[0m\u001b[0m\n\u001b[1;32m    591\u001b[0m         \u001b[0;32mif\u001b[0m \u001b[0msolver\u001b[0m\u001b[0;34m.\u001b[0m\u001b[0mstatus\u001b[0m \u001b[0;34m==\u001b[0m \u001b[0;34m'finished'\u001b[0m\u001b[0;34m:\u001b[0m\u001b[0;34m\u001b[0m\u001b[0;34m\u001b[0m\u001b[0m\n",
      "\u001b[0;32m~/miniconda3/envs/exp/lib/python3.8/site-packages/scipy/integrate/_ivp/base.py\u001b[0m in \u001b[0;36mstep\u001b[0;34m(self)\u001b[0m\n\u001b[1;32m    179\u001b[0m         \u001b[0;32melse\u001b[0m\u001b[0;34m:\u001b[0m\u001b[0;34m\u001b[0m\u001b[0;34m\u001b[0m\u001b[0m\n\u001b[1;32m    180\u001b[0m             \u001b[0mt\u001b[0m \u001b[0;34m=\u001b[0m \u001b[0mself\u001b[0m\u001b[0;34m.\u001b[0m\u001b[0mt\u001b[0m\u001b[0;34m\u001b[0m\u001b[0;34m\u001b[0m\u001b[0m\n\u001b[0;32m--> 181\u001b[0;31m             \u001b[0msuccess\u001b[0m\u001b[0;34m,\u001b[0m \u001b[0mmessage\u001b[0m \u001b[0;34m=\u001b[0m \u001b[0mself\u001b[0m\u001b[0;34m.\u001b[0m\u001b[0m_step_impl\u001b[0m\u001b[0;34m(\u001b[0m\u001b[0;34m)\u001b[0m\u001b[0;34m\u001b[0m\u001b[0;34m\u001b[0m\u001b[0m\n\u001b[0m\u001b[1;32m    182\u001b[0m \u001b[0;34m\u001b[0m\u001b[0m\n\u001b[1;32m    183\u001b[0m             \u001b[0;32mif\u001b[0m \u001b[0;32mnot\u001b[0m \u001b[0msuccess\u001b[0m\u001b[0;34m:\u001b[0m\u001b[0;34m\u001b[0m\u001b[0;34m\u001b[0m\u001b[0m\n",
      "\u001b[0;32m~/miniconda3/envs/exp/lib/python3.8/site-packages/scipy/integrate/_ivp/rk.py\u001b[0m in \u001b[0;36m_step_impl\u001b[0;34m(self)\u001b[0m\n\u001b[1;32m    142\u001b[0m             \u001b[0mh_abs\u001b[0m \u001b[0;34m=\u001b[0m \u001b[0mnp\u001b[0m\u001b[0;34m.\u001b[0m\u001b[0mabs\u001b[0m\u001b[0;34m(\u001b[0m\u001b[0mh\u001b[0m\u001b[0;34m)\u001b[0m\u001b[0;34m\u001b[0m\u001b[0;34m\u001b[0m\u001b[0m\n\u001b[1;32m    143\u001b[0m \u001b[0;34m\u001b[0m\u001b[0m\n\u001b[0;32m--> 144\u001b[0;31m             y_new, f_new = rk_step(self.fun, t, y, self.f, h, self.A,\n\u001b[0m\u001b[1;32m    145\u001b[0m                                    self.B, self.C, self.K)\n\u001b[1;32m    146\u001b[0m             \u001b[0mscale\u001b[0m \u001b[0;34m=\u001b[0m \u001b[0matol\u001b[0m \u001b[0;34m+\u001b[0m \u001b[0mnp\u001b[0m\u001b[0;34m.\u001b[0m\u001b[0mmaximum\u001b[0m\u001b[0;34m(\u001b[0m\u001b[0mnp\u001b[0m\u001b[0;34m.\u001b[0m\u001b[0mabs\u001b[0m\u001b[0;34m(\u001b[0m\u001b[0my\u001b[0m\u001b[0;34m)\u001b[0m\u001b[0;34m,\u001b[0m \u001b[0mnp\u001b[0m\u001b[0;34m.\u001b[0m\u001b[0mabs\u001b[0m\u001b[0;34m(\u001b[0m\u001b[0my_new\u001b[0m\u001b[0;34m)\u001b[0m\u001b[0;34m)\u001b[0m \u001b[0;34m*\u001b[0m \u001b[0mrtol\u001b[0m\u001b[0;34m\u001b[0m\u001b[0;34m\u001b[0m\u001b[0m\n",
      "\u001b[0;32m~/miniconda3/envs/exp/lib/python3.8/site-packages/scipy/integrate/_ivp/rk.py\u001b[0m in \u001b[0;36mrk_step\u001b[0;34m(fun, t, y, f, h, A, B, C, K)\u001b[0m\n\u001b[1;32m     65\u001b[0m \u001b[0;34m\u001b[0m\u001b[0m\n\u001b[1;32m     66\u001b[0m     \u001b[0my_new\u001b[0m \u001b[0;34m=\u001b[0m \u001b[0my\u001b[0m \u001b[0;34m+\u001b[0m \u001b[0mh\u001b[0m \u001b[0;34m*\u001b[0m \u001b[0mnp\u001b[0m\u001b[0;34m.\u001b[0m\u001b[0mdot\u001b[0m\u001b[0;34m(\u001b[0m\u001b[0mK\u001b[0m\u001b[0;34m[\u001b[0m\u001b[0;34m:\u001b[0m\u001b[0;34m-\u001b[0m\u001b[0;36m1\u001b[0m\u001b[0;34m]\u001b[0m\u001b[0;34m.\u001b[0m\u001b[0mT\u001b[0m\u001b[0;34m,\u001b[0m \u001b[0mB\u001b[0m\u001b[0;34m)\u001b[0m\u001b[0;34m\u001b[0m\u001b[0;34m\u001b[0m\u001b[0m\n\u001b[0;32m---> 67\u001b[0;31m     \u001b[0mf_new\u001b[0m \u001b[0;34m=\u001b[0m \u001b[0mfun\u001b[0m\u001b[0;34m(\u001b[0m\u001b[0mt\u001b[0m \u001b[0;34m+\u001b[0m \u001b[0mh\u001b[0m\u001b[0;34m,\u001b[0m \u001b[0my_new\u001b[0m\u001b[0;34m)\u001b[0m\u001b[0;34m\u001b[0m\u001b[0;34m\u001b[0m\u001b[0m\n\u001b[0m\u001b[1;32m     68\u001b[0m \u001b[0;34m\u001b[0m\u001b[0m\n\u001b[1;32m     69\u001b[0m     \u001b[0mK\u001b[0m\u001b[0;34m[\u001b[0m\u001b[0;34m-\u001b[0m\u001b[0;36m1\u001b[0m\u001b[0;34m]\u001b[0m \u001b[0;34m=\u001b[0m \u001b[0mf_new\u001b[0m\u001b[0;34m\u001b[0m\u001b[0;34m\u001b[0m\u001b[0m\n",
      "\u001b[0;32m~/miniconda3/envs/exp/lib/python3.8/site-packages/scipy/integrate/_ivp/base.py\u001b[0m in \u001b[0;36mfun\u001b[0;34m(t, y)\u001b[0m\n\u001b[1;32m    136\u001b[0m         \u001b[0;32mdef\u001b[0m \u001b[0mfun\u001b[0m\u001b[0;34m(\u001b[0m\u001b[0mt\u001b[0m\u001b[0;34m,\u001b[0m \u001b[0my\u001b[0m\u001b[0;34m)\u001b[0m\u001b[0;34m:\u001b[0m\u001b[0;34m\u001b[0m\u001b[0;34m\u001b[0m\u001b[0m\n\u001b[1;32m    137\u001b[0m             \u001b[0mself\u001b[0m\u001b[0;34m.\u001b[0m\u001b[0mnfev\u001b[0m \u001b[0;34m+=\u001b[0m \u001b[0;36m1\u001b[0m\u001b[0;34m\u001b[0m\u001b[0;34m\u001b[0m\u001b[0m\n\u001b[0;32m--> 138\u001b[0;31m             \u001b[0;32mreturn\u001b[0m \u001b[0mself\u001b[0m\u001b[0;34m.\u001b[0m\u001b[0mfun_single\u001b[0m\u001b[0;34m(\u001b[0m\u001b[0mt\u001b[0m\u001b[0;34m,\u001b[0m \u001b[0my\u001b[0m\u001b[0;34m)\u001b[0m\u001b[0;34m\u001b[0m\u001b[0;34m\u001b[0m\u001b[0m\n\u001b[0m\u001b[1;32m    139\u001b[0m \u001b[0;34m\u001b[0m\u001b[0m\n\u001b[1;32m    140\u001b[0m         \u001b[0mself\u001b[0m\u001b[0;34m.\u001b[0m\u001b[0mfun\u001b[0m \u001b[0;34m=\u001b[0m \u001b[0mfun\u001b[0m\u001b[0;34m\u001b[0m\u001b[0;34m\u001b[0m\u001b[0m\n",
      "\u001b[0;32m~/miniconda3/envs/exp/lib/python3.8/site-packages/scipy/integrate/_ivp/base.py\u001b[0m in \u001b[0;36mfun_wrapped\u001b[0;34m(t, y)\u001b[0m\n\u001b[1;32m     18\u001b[0m \u001b[0;34m\u001b[0m\u001b[0m\n\u001b[1;32m     19\u001b[0m     \u001b[0;32mdef\u001b[0m \u001b[0mfun_wrapped\u001b[0m\u001b[0;34m(\u001b[0m\u001b[0mt\u001b[0m\u001b[0;34m,\u001b[0m \u001b[0my\u001b[0m\u001b[0;34m)\u001b[0m\u001b[0;34m:\u001b[0m\u001b[0;34m\u001b[0m\u001b[0;34m\u001b[0m\u001b[0m\n\u001b[0;32m---> 20\u001b[0;31m         \u001b[0;32mreturn\u001b[0m \u001b[0mnp\u001b[0m\u001b[0;34m.\u001b[0m\u001b[0masarray\u001b[0m\u001b[0;34m(\u001b[0m\u001b[0mfun\u001b[0m\u001b[0;34m(\u001b[0m\u001b[0mt\u001b[0m\u001b[0;34m,\u001b[0m \u001b[0my\u001b[0m\u001b[0;34m)\u001b[0m\u001b[0;34m,\u001b[0m \u001b[0mdtype\u001b[0m\u001b[0;34m=\u001b[0m\u001b[0mdtype\u001b[0m\u001b[0;34m)\u001b[0m\u001b[0;34m\u001b[0m\u001b[0;34m\u001b[0m\u001b[0m\n\u001b[0m\u001b[1;32m     21\u001b[0m \u001b[0;34m\u001b[0m\u001b[0m\n\u001b[1;32m     22\u001b[0m     \u001b[0;32mreturn\u001b[0m \u001b[0mfun_wrapped\u001b[0m\u001b[0;34m,\u001b[0m \u001b[0my0\u001b[0m\u001b[0;34m\u001b[0m\u001b[0;34m\u001b[0m\u001b[0m\n",
      "\u001b[0;32m~/miniconda3/envs/exp/lib/python3.8/site-packages/qiskit_dynamics/type_utils.py\u001b[0m in \u001b[0;36mnew_rhs\u001b[0;34m(t, y)\u001b[0m\n\u001b[1;32m    165\u001b[0m         \u001b[0;32mdef\u001b[0m \u001b[0mnew_rhs\u001b[0m\u001b[0;34m(\u001b[0m\u001b[0mt\u001b[0m\u001b[0;34m,\u001b[0m \u001b[0my\u001b[0m\u001b[0;34m)\u001b[0m\u001b[0;34m:\u001b[0m\u001b[0;34m\u001b[0m\u001b[0;34m\u001b[0m\u001b[0m\n\u001b[1;32m    166\u001b[0m             \u001b[0mouter_y\u001b[0m \u001b[0;34m=\u001b[0m \u001b[0mself\u001b[0m\u001b[0;34m.\u001b[0m\u001b[0minner_to_outer\u001b[0m\u001b[0;34m(\u001b[0m\u001b[0my\u001b[0m\u001b[0;34m)\u001b[0m\u001b[0;34m\u001b[0m\u001b[0;34m\u001b[0m\u001b[0m\n\u001b[0;32m--> 167\u001b[0;31m             \u001b[0mrhs_val\u001b[0m \u001b[0;34m=\u001b[0m \u001b[0mrhs\u001b[0m\u001b[0;34m(\u001b[0m\u001b[0mt\u001b[0m\u001b[0;34m,\u001b[0m \u001b[0mouter_y\u001b[0m\u001b[0;34m)\u001b[0m\u001b[0;34m\u001b[0m\u001b[0;34m\u001b[0m\u001b[0m\n\u001b[0m\u001b[1;32m    168\u001b[0m             \u001b[0;32mreturn\u001b[0m \u001b[0mself\u001b[0m\u001b[0;34m.\u001b[0m\u001b[0mouter_to_inner\u001b[0m\u001b[0;34m(\u001b[0m\u001b[0mrhs_val\u001b[0m\u001b[0;34m)\u001b[0m\u001b[0;34m\u001b[0m\u001b[0;34m\u001b[0m\u001b[0m\n\u001b[1;32m    169\u001b[0m \u001b[0;34m\u001b[0m\u001b[0m\n",
      "\u001b[0;32m~/miniconda3/envs/exp/lib/python3.8/site-packages/qiskit_dynamics/solvers/solver_functions.py\u001b[0m in \u001b[0;36mrhs\u001b[0;34m(t, y)\u001b[0m\n\u001b[1;32m    411\u001b[0m \u001b[0;34m\u001b[0m\u001b[0m\n\u001b[1;32m    412\u001b[0m     \u001b[0;32mdef\u001b[0m \u001b[0mrhs\u001b[0m\u001b[0;34m(\u001b[0m\u001b[0mt\u001b[0m\u001b[0;34m,\u001b[0m \u001b[0my\u001b[0m\u001b[0;34m)\u001b[0m\u001b[0;34m:\u001b[0m\u001b[0;34m\u001b[0m\u001b[0;34m\u001b[0m\u001b[0m\n\u001b[0;32m--> 413\u001b[0;31m         \u001b[0;32mreturn\u001b[0m \u001b[0mgenerator_model\u001b[0m\u001b[0;34m(\u001b[0m\u001b[0mt\u001b[0m\u001b[0;34m,\u001b[0m \u001b[0my\u001b[0m\u001b[0;34m)\u001b[0m\u001b[0;34m\u001b[0m\u001b[0;34m\u001b[0m\u001b[0m\n\u001b[0m\u001b[1;32m    414\u001b[0m \u001b[0;34m\u001b[0m\u001b[0m\n\u001b[1;32m    415\u001b[0m     \u001b[0;32mreturn\u001b[0m \u001b[0mgenerator\u001b[0m\u001b[0;34m,\u001b[0m \u001b[0mrhs\u001b[0m\u001b[0;34m,\u001b[0m \u001b[0my0\u001b[0m\u001b[0;34m,\u001b[0m \u001b[0mmodel_in_frame_basis\u001b[0m\u001b[0;34m\u001b[0m\u001b[0;34m\u001b[0m\u001b[0m\n",
      "\u001b[0;32m~/miniconda3/envs/exp/lib/python3.8/site-packages/qiskit_dynamics/models/generator_model.py\u001b[0m in \u001b[0;36m__call__\u001b[0;34m(self, time, y)\u001b[0m\n\u001b[1;32m    134\u001b[0m             \u001b[0;32mreturn\u001b[0m \u001b[0mself\u001b[0m\u001b[0;34m.\u001b[0m\u001b[0mevaluate\u001b[0m\u001b[0;34m(\u001b[0m\u001b[0mtime\u001b[0m\u001b[0;34m)\u001b[0m\u001b[0;34m\u001b[0m\u001b[0;34m\u001b[0m\u001b[0m\n\u001b[1;32m    135\u001b[0m \u001b[0;34m\u001b[0m\u001b[0m\n\u001b[0;32m--> 136\u001b[0;31m         \u001b[0;32mreturn\u001b[0m \u001b[0mself\u001b[0m\u001b[0;34m.\u001b[0m\u001b[0mevaluate_rhs\u001b[0m\u001b[0;34m(\u001b[0m\u001b[0mtime\u001b[0m\u001b[0;34m,\u001b[0m \u001b[0my\u001b[0m\u001b[0;34m)\u001b[0m\u001b[0;34m\u001b[0m\u001b[0;34m\u001b[0m\u001b[0m\n\u001b[0m\u001b[1;32m    137\u001b[0m \u001b[0;34m\u001b[0m\u001b[0m\n\u001b[1;32m    138\u001b[0m \u001b[0;34m\u001b[0m\u001b[0m\n",
      "\u001b[0;32m~/miniconda3/envs/exp/lib/python3.8/site-packages/qiskit_dynamics/models/hamiltonian_model.py\u001b[0m in \u001b[0;36mevaluate_rhs\u001b[0;34m(self, time, y)\u001b[0m\n\u001b[1;32m    157\u001b[0m \u001b[0;34m\u001b[0m\u001b[0m\n\u001b[1;32m    158\u001b[0m     \u001b[0;32mdef\u001b[0m \u001b[0mevaluate_rhs\u001b[0m\u001b[0;34m(\u001b[0m\u001b[0mself\u001b[0m\u001b[0;34m,\u001b[0m \u001b[0mtime\u001b[0m\u001b[0;34m:\u001b[0m \u001b[0mfloat\u001b[0m\u001b[0;34m,\u001b[0m \u001b[0my\u001b[0m\u001b[0;34m:\u001b[0m \u001b[0mArray\u001b[0m\u001b[0;34m)\u001b[0m \u001b[0;34m->\u001b[0m \u001b[0mArray\u001b[0m\u001b[0;34m:\u001b[0m\u001b[0;34m\u001b[0m\u001b[0;34m\u001b[0m\u001b[0m\n\u001b[0;32m--> 159\u001b[0;31m         \u001b[0;32mreturn\u001b[0m \u001b[0;34m-\u001b[0m\u001b[0;36m1j\u001b[0m \u001b[0;34m*\u001b[0m \u001b[0msuper\u001b[0m\u001b[0;34m(\u001b[0m\u001b[0;34m)\u001b[0m\u001b[0;34m.\u001b[0m\u001b[0mevaluate_rhs\u001b[0m\u001b[0;34m(\u001b[0m\u001b[0mtime\u001b[0m\u001b[0;34m,\u001b[0m \u001b[0my\u001b[0m\u001b[0;34m)\u001b[0m\u001b[0;34m\u001b[0m\u001b[0;34m\u001b[0m\u001b[0m\n\u001b[0m\u001b[1;32m    160\u001b[0m \u001b[0;34m\u001b[0m\u001b[0m\n\u001b[1;32m    161\u001b[0m \u001b[0;34m\u001b[0m\u001b[0m\n",
      "\u001b[0;32m~/miniconda3/envs/exp/lib/python3.8/site-packages/qiskit_dynamics/models/generator_model.py\u001b[0m in \u001b[0;36mevaluate_rhs\u001b[0;34m(self, time, y)\u001b[0m\n\u001b[1;32m    444\u001b[0m         \u001b[0;32mif\u001b[0m \u001b[0mself\u001b[0m\u001b[0;34m.\u001b[0m\u001b[0mrotating_frame\u001b[0m \u001b[0;32mis\u001b[0m \u001b[0;32mnot\u001b[0m \u001b[0;32mNone\u001b[0m\u001b[0;34m:\u001b[0m\u001b[0;34m\u001b[0m\u001b[0;34m\u001b[0m\u001b[0m\n\u001b[1;32m    445\u001b[0m             \u001b[0;31m# First, compute e^{tF}y as a pre-rotation in the frame basis\u001b[0m\u001b[0;34m\u001b[0m\u001b[0;34m\u001b[0m\u001b[0;34m\u001b[0m\u001b[0m\n\u001b[0;32m--> 446\u001b[0;31m             out = self.rotating_frame.state_out_of_frame(\n\u001b[0m\u001b[1;32m    447\u001b[0m                 \u001b[0mtime\u001b[0m\u001b[0;34m,\u001b[0m \u001b[0my\u001b[0m\u001b[0;34m,\u001b[0m \u001b[0my_in_frame_basis\u001b[0m\u001b[0;34m=\u001b[0m\u001b[0mself\u001b[0m\u001b[0;34m.\u001b[0m\u001b[0m_in_frame_basis\u001b[0m\u001b[0;34m,\u001b[0m \u001b[0mreturn_in_frame_basis\u001b[0m\u001b[0;34m=\u001b[0m\u001b[0;32mTrue\u001b[0m\u001b[0;34m\u001b[0m\u001b[0;34m\u001b[0m\u001b[0m\n\u001b[1;32m    448\u001b[0m             )\n",
      "\u001b[0;32m~/miniconda3/envs/exp/lib/python3.8/site-packages/qiskit_dynamics/models/rotating_frame.py\u001b[0m in \u001b[0;36mstate_out_of_frame\u001b[0;34m(self, t, y, y_in_frame_basis, return_in_frame_basis)\u001b[0m\n\u001b[1;32m    295\u001b[0m             \u001b[0mArray\u001b[0m\u001b[0;34m:\u001b[0m \u001b[0mState\u001b[0m \u001b[0mout\u001b[0m \u001b[0mof\u001b[0m \u001b[0mframe\u001b[0m\u001b[0;34m.\u001b[0m\u001b[0;34m\u001b[0m\u001b[0;34m\u001b[0m\u001b[0m\n\u001b[1;32m    296\u001b[0m         \"\"\"\n\u001b[0;32m--> 297\u001b[0;31m         \u001b[0;32mreturn\u001b[0m \u001b[0mself\u001b[0m\u001b[0;34m.\u001b[0m\u001b[0mstate_into_frame\u001b[0m\u001b[0;34m(\u001b[0m\u001b[0;34m-\u001b[0m\u001b[0mt\u001b[0m\u001b[0;34m,\u001b[0m \u001b[0my\u001b[0m\u001b[0;34m,\u001b[0m \u001b[0my_in_frame_basis\u001b[0m\u001b[0;34m,\u001b[0m \u001b[0mreturn_in_frame_basis\u001b[0m\u001b[0;34m)\u001b[0m\u001b[0;34m\u001b[0m\u001b[0;34m\u001b[0m\u001b[0m\n\u001b[0m\u001b[1;32m    298\u001b[0m \u001b[0;34m\u001b[0m\u001b[0m\n\u001b[1;32m    299\u001b[0m     def _conjugate_and_add(\n",
      "\u001b[0;32m~/miniconda3/envs/exp/lib/python3.8/site-packages/qiskit_dynamics/models/rotating_frame.py\u001b[0m in \u001b[0;36mstate_into_frame\u001b[0;34m(self, t, y, y_in_frame_basis, return_in_frame_basis)\u001b[0m\n\u001b[1;32m    254\u001b[0m             \u001b[0mArray\u001b[0m\u001b[0;34m:\u001b[0m \u001b[0mState\u001b[0m \u001b[0;32min\u001b[0m \u001b[0mframe\u001b[0m\u001b[0;34m.\u001b[0m\u001b[0;34m\u001b[0m\u001b[0;34m\u001b[0m\u001b[0m\n\u001b[1;32m    255\u001b[0m         \"\"\"\n\u001b[0;32m--> 256\u001b[0;31m         \u001b[0my\u001b[0m \u001b[0;34m=\u001b[0m \u001b[0mto_numeric_matrix_type\u001b[0m\u001b[0;34m(\u001b[0m\u001b[0my\u001b[0m\u001b[0;34m)\u001b[0m\u001b[0;34m\u001b[0m\u001b[0;34m\u001b[0m\u001b[0m\n\u001b[0m\u001b[1;32m    257\u001b[0m         \u001b[0;32mif\u001b[0m \u001b[0mself\u001b[0m\u001b[0;34m.\u001b[0m\u001b[0m_frame_operator\u001b[0m \u001b[0;32mis\u001b[0m \u001b[0;32mNone\u001b[0m\u001b[0;34m:\u001b[0m\u001b[0;34m\u001b[0m\u001b[0;34m\u001b[0m\u001b[0m\n\u001b[1;32m    258\u001b[0m             \u001b[0;32mreturn\u001b[0m \u001b[0my\u001b[0m\u001b[0;34m\u001b[0m\u001b[0;34m\u001b[0m\u001b[0m\n",
      "\u001b[0;32m~/miniconda3/envs/exp/lib/python3.8/site-packages/qiskit_dynamics/type_utils.py\u001b[0m in \u001b[0;36mto_numeric_matrix_type\u001b[0;34m(op)\u001b[0m\n\u001b[1;32m    476\u001b[0m         \u001b[0;32mreturn\u001b[0m \u001b[0mto_csr\u001b[0m\u001b[0;34m(\u001b[0m\u001b[0mop\u001b[0m\u001b[0;34m.\u001b[0m\u001b[0mdata\u001b[0m\u001b[0;34m)\u001b[0m\u001b[0;34m\u001b[0m\u001b[0;34m\u001b[0m\u001b[0m\n\u001b[1;32m    477\u001b[0m \u001b[0;34m\u001b[0m\u001b[0m\n\u001b[0;32m--> 478\u001b[0;31m     \u001b[0;32melif\u001b[0m \u001b[0misinstance\u001b[0m\u001b[0;34m(\u001b[0m\u001b[0mop\u001b[0m\u001b[0;34m,\u001b[0m \u001b[0mArray\u001b[0m\u001b[0;34m)\u001b[0m\u001b[0;34m:\u001b[0m\u001b[0;34m\u001b[0m\u001b[0;34m\u001b[0m\u001b[0m\n\u001b[0m\u001b[1;32m    479\u001b[0m         \u001b[0;32mreturn\u001b[0m \u001b[0mop\u001b[0m\u001b[0;34m\u001b[0m\u001b[0;34m\u001b[0m\u001b[0m\n\u001b[1;32m    480\u001b[0m     \u001b[0;32melif\u001b[0m \u001b[0misinstance\u001b[0m\u001b[0;34m(\u001b[0m\u001b[0mop\u001b[0m\u001b[0;34m,\u001b[0m \u001b[0mspmatrix\u001b[0m\u001b[0;34m)\u001b[0m\u001b[0;34m:\u001b[0m\u001b[0;34m\u001b[0m\u001b[0;34m\u001b[0m\u001b[0m\n",
      "\u001b[0;31mKeyboardInterrupt\u001b[0m: "
     ]
    }
   ],
   "source": [
    "%%time\n",
    "results = pulse_backend.run(spec.circuits())\n",
    "# spec_prob1 = np.array([psi.probabilities()[1] for psi in results])"
   ]
  },
  {
   "cell_type": "code",
   "execution_count": 8,
   "id": "ee4c361b",
   "metadata": {},
   "outputs": [
    {
     "data": {
      "text/plain": [
       "Text(0, 0.5, 'prob $(|1\\\\rangle)$')"
      ]
     },
     "execution_count": 8,
     "metadata": {},
     "output_type": "execute_result"
    },
    {
     "data": {
      "image/png": "[encoded data removed]",
      "text/plain": [
       "<Figure size 1200x800 with 1 Axes>"
      ]
     },
     "metadata": {},
     "output_type": "display_data"
    }
   ],
   "source": [
    "plt.close()\n",
    "fig, ax = plt.subplots(1, 1, figsize=(12, 8))\n",
    "ax.scatter(frequencies / 1e9, spec_prob1)\n",
    "\n",
    "ax.set_ylim(-0.012, 1.12)\n",
    "ax.set_xlabel(\"$\\omega_D$ (GHz)\")\n",
    "ax.set_ylabel(r\"prob $(|1\\rangle)$\")"
   ]
  },
  {
   "cell_type": "markdown",
   "id": "f4ecb654",
   "metadata": {},
   "source": [
    "## Rabi"
   ]
  },
  {
   "cell_type": "code",
   "execution_count": 9,
   "id": "b0455d60",
   "metadata": {},
   "outputs": [],
   "source": [
    "from qiskit_experiments.library.calibration import RoughXSXAmplitudeCal\n",
    "\n",
    "rabi = RoughXSXAmplitudeCal(\n",
    "    qubit, cals, backend=pulse_backend, amplitudes=np.linspace(-0.1, 0.1, 51)\n",
    ")"
   ]
  },
  {
   "cell_type": "code",
   "execution_count": 10,
   "id": "bd69f19e",
   "metadata": {},
   "outputs": [
    {
     "name": "stdout",
     "output_type": "stream",
     "text": [
      "CPU times: user 11.4 s, sys: 0 ns, total: 11.4 s\n",
      "Wall time: 11.4 s\n"
     ]
    }
   ],
   "source": [
    "%%time\n",
    "results = pulse_backend.run(rabi.circuits())\n",
    "\n",
    "#Analysis\n",
    "rabi_prob1 = np.array([psi.probabilities()[1] for psi in results])"
   ]
  },
  {
   "cell_type": "code",
   "execution_count": 12,
   "id": "49ef092d",
   "metadata": {},
   "outputs": [
    {
     "data": {
      "text/plain": [
       "Text(0, 0.5, 'prob $(|1\\\\rangle)$')"
      ]
     },
     "execution_count": 12,
     "metadata": {},
     "output_type": "execute_result"
    },
    {
     "data": {
      "image/png": "[encoded data removed]",
      "text/plain": [
       "<Figure size 1200x800 with 1 Axes>"
      ]
     },
     "metadata": {},
     "output_type": "display_data"
    }
   ],
   "source": [
    "plt.close()\n",
    "fig, ax = plt.subplots(1, 1, figsize=(12, 8))\n",
    "\n",
    "ax.scatter(rabi.experiment_options.get(\"amplitudes\"), rabi_prob1)\n",
    "ax.set_ylim(-0.012, 1.12)\n",
    "ax.set_xlabel(\"$\\omega_D$ (GHz)\")\n",
    "ax.set_ylabel(r\"prob $(|1\\rangle)$\")"
   ]
  },
  {
   "cell_type": "code",
   "execution_count": null,
   "id": "7be313eb",
   "metadata": {},
   "outputs": [],
   "source": []
  },
  {
   "attachments": {
    "image.png": {
     "image/png": "[encoded data removed]"
    }
   },
   "cell_type": "markdown",
   "id": "67f29f53",
   "metadata": {},
   "source": [
    "![image.png](attachment:image.png)"
   ]
  },
  {
   "cell_type": "code",
   "execution_count": 106,
   "id": "ca9d14fe",
   "metadata": {},
   "outputs": [],
   "source": [
    "from scipy.linalg import expm\n",
    "from sympy import Symbol, Matrix, exp, print_latex"
   ]
  },
  {
   "cell_type": "code",
   "execution_count": 115,
   "id": "57c1004f",
   "metadata": {},
   "outputs": [],
   "source": [
    "theta = Symbol('theta')\n",
    "sz = Matrix([[1, 0, 0], [0, 0.5, 0], [0,0, -1]])\n",
    "m = -1j*theta*sz/2"
   ]
  },
  {
   "cell_type": "code",
   "execution_count": 116,
   "id": "b000fc71",
   "metadata": {},
   "outputs": [
    {
     "data": {
      "text/latex": [
       "$\\displaystyle \\left[\\begin{matrix}1.0 e^{- 0.5 i \\theta} & 0 & 0\\\\0 & 1.0 e^{- 0.25 i \\theta} & 0\\\\0 & 0 & 1.0 e^{0.5 i \\theta}\\end{matrix}\\right]$"
      ],
      "text/plain": [
       "Matrix([\n",
       "[1.0*exp(-0.5*I*theta),                      0,                    0],\n",
       "[                    0, 1.0*exp(-0.25*I*theta),                    0],\n",
       "[                    0,                      0, 1.0*exp(0.5*I*theta)]])"
      ]
     },
     "execution_count": 116,
     "metadata": {},
     "output_type": "execute_result"
    }
   ],
   "source": [
    "mexp = m.exp()\n",
    "mexp"
   ]
  },
  {
   "cell_type": "code",
   "execution_count": 117,
   "id": "36736b76",
   "metadata": {},
   "outputs": [
    {
     "data": {
      "text/latex": [
       "$\\displaystyle \\left[\\begin{matrix}1.0 & 0 & 0\\\\0 & 1.0 e^{0.25 i \\theta} & 0\\\\0 & 0 & 1.0 e^{1.0 i \\theta}\\end{matrix}\\right]$"
      ],
      "text/plain": [
       "Matrix([\n",
       "[1.0,                     0,                    0],\n",
       "[  0, 1.0*exp(0.25*I*theta),                    0],\n",
       "[  0,                     0, 1.0*exp(1.0*I*theta)]])"
      ]
     },
     "execution_count": 117,
     "metadata": {},
     "output_type": "execute_result"
    }
   ],
   "source": [
    "mexp/exp(-1j*theta/2)"
   ]
  },
  {
   "cell_type": "code",
   "execution_count": 108,
   "id": "bcb22e36",
   "metadata": {},
   "outputs": [
    {
     "name": "stdout",
     "output_type": "stream",
     "text": [
      "\\left[\\begin{matrix}1 & 0 & 0\\\\0 & 0.5 & 0\\\\0 & 0 & -1\\end{matrix}\\right]\n"
     ]
    }
   ],
   "source": [
    "print_latex(sz)"
   ]
  },
  {
   "cell_type": "markdown",
   "id": "fa32f380",
   "metadata": {},
   "source": []
  },
  {
   "cell_type": "code",
   "execution_count": null,
   "id": "8adde2ce",
   "metadata": {},
   "outputs": [],
   "source": []
  }
 ],
 "metadata": {
  "kernelspec": {
   "display_name": "Python 3 (ipykernel)",
   "language": "python",
   "name": "python3"
  },
  "language_info": {
   "codemirror_mode": {
    "name": "ipython",
    "version": 3
   },
   "file_extension": ".py",
   "mimetype": "text/x-python",
   "name": "python",
   "nbconvert_exporter": "python",
   "pygments_lexer": "ipython3",
   "version": "3.8.13"
  },
  "latex_envs": {
   "LaTeX_envs_menu_present": true,
   "autoclose": true,
   "autocomplete": true,
   "bibliofile": "biblio.bib",
   "cite_by": "apalike",
   "current_citInitial": 1,
   "eqLabelWithNumbers": true,
   "eqNumInitial": 1,
   "hotkeys": {
    "equation": "ctrl-shift-e"
   },
   "labels_anchors": false,
   "latex_user_defs": false,
   "report_style_numbering": false,
   "user_envs_cfg": false
  },
  "varInspector": {
   "cols": {
    "lenName": 16,
    "lenType": 16,
    "lenVar": 40
   },
   "kernels_config": {
    "python": {
     "delete_cmd_postfix": "",
     "delete_cmd_prefix": "del ",
     "library": "var_list.py",
     "varRefreshCmd": "print(var_dic_list())"
    },
    "r": {
     "delete_cmd_postfix": ") ",
     "delete_cmd_prefix": "rm(",
     "library": "var_list.r",
     "varRefreshCmd": "cat(var_dic_list()) "
    }
   },
   "oldHeight": 165.85,
   "position": {
    "height": "187.85px",
    "left": "21.2px",
    "right": "20px",
    "top": "8px",
    "width": "555px"
   },
   "types_to_exclude": [
    "module",
    "function",
    "builtin_function_or_method",
    "instance",
    "_Feature"
   ],
   "varInspector_section_display": "block",
   "window_display": false
  }
 },
 "nbformat": 4,
 "nbformat_minor": 5
}
