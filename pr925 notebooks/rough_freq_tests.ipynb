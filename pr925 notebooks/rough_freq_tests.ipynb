{
 "cells": [
  {
   "cell_type": "code",
   "execution_count": 1,
   "id": "06886a05",
   "metadata": {},
   "outputs": [],
   "source": [
    "%load_ext autoreload\n",
    "%autoreload 2"
   ]
  },
  {
   "cell_type": "code",
   "execution_count": 2,
   "id": "d37c7cce",
   "metadata": {},
   "outputs": [],
   "source": [
    "# This code is part of Qiskit.\n",
    "#\n",
    "# (C) Copyright IBM 2021.\n",
    "#\n",
    "# This code is licensed under the Apache License, Version 2.0. You may\n",
    "# obtain a copy of this license in the LICENSE.txt file in the root directory\n",
    "# of this source tree or at http://www.apache.org/licenses/LICENSE-2.0.\n",
    "#\n",
    "# Any modifications or derivative works of this code must retain this\n",
    "# copyright notice, and modified files need to carry a notice indicating\n",
    "# that they have been altered from the originals."
   ]
  },
  {
   "cell_type": "code",
   "execution_count": 3,
   "id": "c90ef3cb",
   "metadata": {},
   "outputs": [],
   "source": [
    "\"\"\"Rough frequency calibration tests.\"\"\"\n",
    "import sys\n",
    "sys.path.insert(0, r\"/home/rupeshknn/projects/qc/pulse-backend-qamp22/qiskit-experiments/test/\")\n",
    "\n",
    "from base import QiskitExperimentsTestCase\n",
    "\n",
    "import numpy as np\n",
    "\n",
    "from qiskit.providers.fake_provider import FakeArmonkV2\n",
    "\n",
    "from qiskit_experiments.framework import BackendData\n",
    "from qiskit_experiments.library import RoughFrequencyCal\n",
    "from qiskit_experiments.calibration_management import Calibrations\n",
    "from qiskit_experiments.calibration_management.basis_gate_library import FixedFrequencyTransmon\n",
    "from qiskit_experiments.test.mock_iq_backend import MockIQBackend\n",
    "from qiskit_experiments.test.mock_iq_helpers import MockIQSpectroscopyHelper as SpectroscopyHelper"
   ]
  },
  {
   "cell_type": "code",
   "execution_count": 8,
   "id": "f5a7ee17",
   "metadata": {},
   "outputs": [],
   "source": [
    "import unittest\n",
    "from qiskit_experiments.test.iq_pulse_backend import SingleTransmonTestBackend\n",
    "pulse_backend = SingleTransmonTestBackend(noise=False)"
   ]
  },
  {
   "cell_type": "code",
   "execution_count": 21,
   "id": "b6869878",
   "metadata": {},
   "outputs": [],
   "source": [
    "class TestRoughFrequency(QiskitExperimentsTestCase):\n",
    "    \"\"\"Tests for the rough frequency calibration experiment.\"\"\"\n",
    "    \n",
    "    def setUp(self):\n",
    "        \"\"\"Setup the tests.\"\"\"\n",
    "        super().setUp()\n",
    "        self.backend = SingleTransmonTestBackend(noise=False)\n",
    "\n",
    "    def test_init(self):\n",
    "        \"\"\"Test that initialization.\"\"\"\n",
    "        qubit = 0\n",
    "        cals = Calibrations.from_backend(self.backend)\n",
    "        frequencies = [1000, 2000, 3000]\n",
    "        auto_update = False\n",
    "        absolute = False\n",
    "\n",
    "        freq = RoughFrequencyCal(\n",
    "            qubit, cals, frequencies, auto_update=auto_update, absolute=absolute\n",
    "        )\n",
    "\n",
    "        self.assertEqual(freq.physical_qubits, (qubit,))\n",
    "        self.assertEqual(freq._frequencies, frequencies)\n",
    "        self.assertEqual(freq._absolute, False)\n",
    "        self.assertEqual(freq.auto_update, False)\n",
    "\n",
    "    def test_update_calibrations(self):\n",
    "        \"\"\"Test that we can properly update an instance of Calibrations.\"\"\"\n",
    "        \n",
    "        freq01 = BackendData(self.backend).drive_freqs[0]\n",
    "        backend_5MHz = SingleTransmonTestBackend(qubit_frequency=freq01 + 5e6, noise=False)\n",
    "\n",
    "#         backend = MockIQBackend(\n",
    "#             experiment_helper=SpectroscopyHelper(\n",
    "#                 freq_offset=5e6,\n",
    "#                 line_width=2e6,\n",
    "#                 iq_cluster_centers=[((-1.0, -1.0), (1.0, 1.0))],\n",
    "#                 iq_cluster_width=[0.2],\n",
    "#             ),\n",
    "#         )\n",
    "#         backend._configuration.basis_gates = [\"x\"]\n",
    "#         backend._configuration.timing_constraints = {\"granularity\": 16}\n",
    "\n",
    "#         backend.defaults().qubit_freq_est = [freq01, freq01]\n",
    "\n",
    "        library = FixedFrequencyTransmon()\n",
    "        cals = Calibrations.from_backend(self.backend, libraries=[library])\n",
    "\n",
    "        prev_freq = cals.get_parameter_value(cals.__drive_freq_parameter__, (0,))\n",
    "        self.assertEqual(prev_freq, freq01)\n",
    "\n",
    "        frequencies = np.linspace(freq01 - 10.0e6, freq01 + 10.0e6, 31)\n",
    "        \n",
    "        spec = RoughFrequencyCal(0, cals, frequencies)\n",
    "        spec.set_experiment_options(amp=0.005)\n",
    "        expdata = spec.run(backend_5MHz)\n",
    "        \n",
    "        self.assertExperimentDone(expdata)\n",
    "\n",
    "        # Check the updated frequency which should be shifted by 5MHz.\n",
    "        post_freq = cals.get_parameter_value(cals.__drive_freq_parameter__, (0,))\n",
    "        self.assertTrue(abs(post_freq - freq01 - 5e6) < 1e6)\n",
    "\n",
    "    def test_experiment_config(self):\n",
    "        \"\"\"Test converting to and from config works\"\"\"\n",
    "        cals = Calibrations.from_backend(FakeArmonkV2())\n",
    "        frequencies = [1, 2, 3]\n",
    "        exp = RoughFrequencyCal(0, cals, frequencies)\n",
    "        loaded_exp = RoughFrequencyCal.from_config(exp.config())\n",
    "        self.assertNotEqual(exp, loaded_exp)\n",
    "        self.assertTrue(self.json_equiv(exp, loaded_exp))"
   ]
  },
  {
   "cell_type": "code",
   "execution_count": 24,
   "id": "8345ca01",
   "metadata": {},
   "outputs": [
    {
     "name": "stderr",
     "output_type": "stream",
     "text": [
      "/home/rupeshknn/mambaforge/envs/exp/lib/python3.9/site-packages/numpy/lib/function_base.py:2411: RuntimeWarning: invalid value encountered in <lambda> (vectorized)\n",
      "  outputs = ufunc(*inputs)\n"
     ]
    },
    {
     "data": {
      "text/plain": [
       "<unittest.result.TestResult run=3 errors=0 failures=0>"
      ]
     },
     "execution_count": 24,
     "metadata": {},
     "output_type": "execute_result"
    }
   ],
   "source": [
    "# obj = TestRoughFrequency(\"test_update_calibrations\")\n",
    "# obj.setUp()\n",
    "# obj.test_update_calibrations()\n",
    "\n",
    "suite = unittest.makeSuite(TestRoughFrequency, 'test')\n",
    "TestRoughFrequency_result = unittest.TestResult()\n",
    "suite.run(TestRoughFrequency_result)"
   ]
  },
  {
   "cell_type": "code",
   "execution_count": null,
   "id": "9e202f67",
   "metadata": {},
   "outputs": [],
   "source": []
  }
 ],
 "metadata": {
  "kernelspec": {
   "display_name": "Python 3 (ipykernel)",
   "language": "python",
   "name": "python3"
  },
  "language_info": {
   "codemirror_mode": {
    "name": "ipython",
    "version": 3
   },
   "file_extension": ".py",
   "mimetype": "text/x-python",
   "name": "python",
   "nbconvert_exporter": "python",
   "pygments_lexer": "ipython3",
   "version": "3.9.13"
  }
 },
 "nbformat": 4,
 "nbformat_minor": 5
}
