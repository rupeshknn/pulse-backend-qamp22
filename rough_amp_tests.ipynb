{
 "cells": [
  {
   "cell_type": "code",
   "execution_count": 1,
   "id": "06886a05",
   "metadata": {},
   "outputs": [],
   "source": [
    "%load_ext autoreload\n",
    "%autoreload 2"
   ]
  },
  {
   "cell_type": "code",
   "execution_count": 2,
   "id": "ced8ca00",
   "metadata": {},
   "outputs": [],
   "source": [
    "import sys\n",
    "sys.path.insert(0, r\"/home/rupeshknn/projects/qc/pulse-backend-qamp22/qiskit-experiments/test/\")"
   ]
  },
  {
   "cell_type": "code",
   "execution_count": 3,
   "id": "0b885e0a",
   "metadata": {},
   "outputs": [],
   "source": [
    "import unittest\n",
    "from qiskit_experiments.test.iq_pulse_backend import SingleTransmonTestBackend\n",
    "pulse_backend = SingleTransmonTestBackend(noise=False)"
   ]
  },
  {
   "cell_type": "code",
   "execution_count": 4,
   "id": "364a3aeb",
   "metadata": {},
   "outputs": [],
   "source": [
    "\"\"\"Test rough amplitude calibration experiment classes.\"\"\"\n",
    "\n",
    "from base import QiskitExperimentsTestCase\n",
    "import numpy as np\n",
    "\n",
    "from qiskit import transpile\n",
    "import qiskit.pulse as pulse\n",
    "from qiskit.circuit import Parameter\n",
    "from qiskit.providers.fake_provider import FakeArmonkV2\n",
    "\n",
    "from qiskit_experiments.calibration_management.basis_gate_library import FixedFrequencyTransmon\n",
    "from qiskit_experiments.calibration_management import Calibrations\n",
    "from qiskit_experiments.library import EFRoughXSXAmplitudeCal, RoughXSXAmplitudeCal\n",
    "from qiskit_experiments.test.mock_iq_backend import MockIQBackend\n",
    "from qiskit_experiments.test.mock_iq_helpers import MockIQRabiHelper as RabiHelper"
   ]
  },
  {
   "cell_type": "code",
   "execution_count": 5,
   "id": "a03253ac",
   "metadata": {},
   "outputs": [],
   "source": [
    "class TestRoughAmpCal(QiskitExperimentsTestCase):\n",
    "    \"\"\"A class to test the rough amplitude calibration experiments.\"\"\"\n",
    "\n",
    "    def setUp(self):\n",
    "        \"\"\"Setup the tests.\"\"\"\n",
    "        super().setUp()\n",
    "        library = FixedFrequencyTransmon()\n",
    "\n",
    "        self.backend = SingleTransmonTestBackend(noise=False) #FakeArmonkV2()\n",
    "        self.cals = Calibrations.from_backend(self.backend, libraries=[library])\n",
    "\n",
    "    def test_circuits(self):\n",
    "        \"\"\"Test the quantum circuits.\"\"\"\n",
    "        test_amps = [-0.5, 0, 0.5]\n",
    "        rabi = RoughXSXAmplitudeCal(0, self.cals, amplitudes=test_amps)\n",
    "\n",
    "        circs = transpile(rabi.circuits(), self.backend, inst_map=self.cals.default_inst_map)\n",
    "\n",
    "        for circ, amp in zip(circs, test_amps):\n",
    "            self.assertEqual(circ.count_ops()[\"Rabi\"], 1)\n",
    "\n",
    "            d0 = pulse.DriveChannel(0)\n",
    "            with pulse.build(name=\"x\") as expected_x:\n",
    "                pulse.play(pulse.Drag(160, amp, 40, 0), d0)\n",
    "\n",
    "            self.assertEqual(circ.calibrations[\"Rabi\"][((0,), (amp,))], expected_x)\n",
    "\n",
    "    def test_update(self):\n",
    "        \"\"\"Test that the calibrations update properly.\"\"\"\n",
    "        tol = 0.01\n",
    "        default_amp = 0.5 / self.backend.rabi_rate_01\n",
    "        \n",
    "        rabi_ef = RoughXSXAmplitudeCal(0, self.cals, amplitudes=np.linspace(-0.1, 0.1, 21))\n",
    "        expdata = rabi_ef.run(self.backend)\n",
    "        self.assertExperimentDone(expdata)\n",
    "                \n",
    "        self.assertAlmostEqual(self.cals.get_parameter_value(\"amp\", 0, \"x\"), default_amp, delta=tol)\n",
    "        self.assertAlmostEqual(self.cals.get_parameter_value(\"amp\", 0, \"sx\"), default_amp/2, delta=tol)\n",
    "        \n",
    "        self.cals.add_parameter_value(int(4*160/5),'duration',(),schedule='x')\n",
    "        rabi_ef = RoughXSXAmplitudeCal(0, self.cals, amplitudes=np.linspace(-0.1, 0.1, 21))\n",
    "        expdata = rabi_ef.run(self.backend)\n",
    "        self.assertExperimentDone(expdata)\n",
    "        self.rabi = rabi_ef\n",
    "        \n",
    "        self.assertTrue(abs(self.cals.get_parameter_value(\"amp\", 0, \"x\")*(4/5) - default_amp) < tol)\n",
    "        self.assertTrue(abs(self.cals.get_parameter_value(\"amp\", 0, \"sx\")*(4/5) - default_amp / 2) < tol)\n",
    "\n",
    "    def test_experiment_config(self):\n",
    "        \"\"\"Test converting to and from config works\"\"\"\n",
    "        exp = RoughXSXAmplitudeCal(0, self.cals)\n",
    "        config = exp.config()\n",
    "        loaded_exp = RoughXSXAmplitudeCal.from_config(config)\n",
    "        self.assertNotEqual(exp, loaded_exp)\n",
    "        self.assertEqual(config, loaded_exp.config())"
   ]
  },
  {
   "cell_type": "code",
   "execution_count": 6,
   "id": "9ecade31",
   "metadata": {},
   "outputs": [
    {
     "name": "stderr",
     "output_type": "stream",
     "text": [
      "/home/rupeshknn/mambaforge/envs/exp/lib/python3.9/site-packages/numpy/lib/function_base.py:2411: RuntimeWarning: invalid value encountered in <lambda> (vectorized)\n",
      "  outputs = ufunc(*inputs)\n"
     ]
    },
    {
     "data": {
      "text/plain": [
       "<unittest.result.TestResult run=3 errors=0 failures=0>"
      ]
     },
     "execution_count": 6,
     "metadata": {},
     "output_type": "execute_result"
    }
   ],
   "source": [
    "# obj = TestRoughAmpCal(\"test_update\")\n",
    "# obj.setUp()\n",
    "# obj.test_update()\n",
    "\n",
    "suite = unittest.makeSuite(TestRoughAmpCal, 'test')\n",
    "TestRoughAmpCal_result = unittest.TestResult()\n",
    "suite.run(TestRoughAmpCal_result)"
   ]
  },
  {
   "cell_type": "code",
   "execution_count": 7,
   "id": "fa9d0a3d",
   "metadata": {},
   "outputs": [],
   "source": [
    "class TestSpecializations(QiskitExperimentsTestCase):\n",
    "    \"\"\"Test the specialized versions of the calibration.\"\"\"\n",
    "\n",
    "    def setUp(self):\n",
    "        \"\"\"Setup the tests\"\"\"\n",
    "        super().setUp()\n",
    "\n",
    "        library = FixedFrequencyTransmon()\n",
    "\n",
    "        self.backend = SingleTransmonTestBackend(noise=False)\n",
    "        self.cals = Calibrations.from_backend(self.backend, libraries=[library])\n",
    "\n",
    "        # Add some pulses on the 1-2 transition.\n",
    "        d0 = pulse.DriveChannel(0)\n",
    "        with pulse.build(name=\"x12\") as x12:\n",
    "            with pulse.frequency_offset(-300e6, d0):\n",
    "                pulse.play(pulse.Drag(Parameter(\"duration\"), Parameter(\"amp\"), 40, 0.0), d0)\n",
    "\n",
    "        with pulse.build(name=\"sx12\") as sx12:\n",
    "            with pulse.frequency_offset(-300e6, d0):\n",
    "                pulse.play(pulse.Drag(Parameter(\"duration\"), Parameter(\"amp\"), 40, 0.0), d0)\n",
    "\n",
    "        self.cals.add_schedule(x12, 0)\n",
    "        self.cals.add_schedule(sx12, 0)\n",
    "        self.cals.add_parameter_value(0.4, \"amp\", 0, \"x12\")\n",
    "        self.cals.add_parameter_value(0.2, \"amp\", 0, \"sx12\")\n",
    "        self.cals.add_parameter_value(160, \"duration\", 0, \"x12\")\n",
    "        self.cals.add_parameter_value(160, \"duration\", 0, \"sx12\")\n",
    "\n",
    "    def test_ef_circuits(self):\n",
    "        \"\"\"Test that we get the expected circuits with calibrations for the EF experiment.\"\"\"\n",
    "\n",
    "        test_amps = [-0.5, 0, 0.5]\n",
    "        rabi_ef = EFRoughXSXAmplitudeCal(0, self.cals, amplitudes=test_amps)\n",
    "\n",
    "        circs = transpile(rabi_ef.circuits(), self.backend, inst_map=self.cals.default_inst_map)\n",
    "\n",
    "        for circ, amp in zip(circs, test_amps):\n",
    "\n",
    "            self.assertEqual(circ.count_ops()[\"x\"], 1)\n",
    "            self.assertEqual(circ.count_ops()[\"Rabi\"], 1)\n",
    "\n",
    "            d0 = pulse.DriveChannel(0)\n",
    "            with pulse.build(name=\"x\") as expected_x:\n",
    "                pulse.play(pulse.Drag(160, 0.5, 40, 0), d0)\n",
    "\n",
    "            with pulse.build(name=\"x12\") as expected_x12:\n",
    "                with pulse.frequency_offset(-300e6, d0):\n",
    "                    pulse.play(pulse.Drag(160, amp, 40, 0), d0)\n",
    "\n",
    "            self.assertEqual(circ.calibrations[\"x\"][((0,), ())], expected_x)\n",
    "            self.assertEqual(circ.calibrations[\"Rabi\"][((0,), (amp,))], expected_x12)\n",
    "\n",
    "    def test_ef_update(self):\n",
    "        \"\"\"Tes that we properly update the pulses on the 1<->2 transition.\"\"\"\n",
    "        tol = 0.01\n",
    "        default_amp = 0.5 / self.backend.rabi_rate_12\n",
    "        \n",
    "        rabi_ef = EFRoughXSXAmplitudeCal(0, self.cals, amplitudes=np.linspace(-0.1, 0.1, 21))\n",
    "        expdata = rabi_ef.run(self.backend)\n",
    "        self.assertExperimentDone(expdata)\n",
    "        \n",
    "        self.assertAlmostEqual(self.cals.get_parameter_value(\"amp\", 0, \"x12\"), default_amp, delta=tol)\n",
    "        self.assertAlmostEqual(self.cals.get_parameter_value(\"amp\", 0, \"sx12\"), default_amp/2, delta=tol)\n",
    "        \n",
    "        \n",
    "        self.cals.add_parameter_value(int(4*160/5), \"duration\", 0, \"x12\")\n",
    "        self.cals.add_parameter_value(int(4*160/5), \"duration\", 0, \"sx12\")\n",
    "        rabi_ef2 = EFRoughXSXAmplitudeCal(0, self.cals, amplitudes=np.linspace(-0.1, 0.1, 31))\n",
    "        self.rabi = rabi_ef2\n",
    "        expdata = rabi_ef2.run(self.backend)\n",
    "        self.assertExperimentDone(expdata)\n",
    "        \n",
    "\n",
    "        self.assertTrue(abs(self.cals.get_parameter_value(\"amp\", 0, \"x12\")*(4/5) - default_amp) < tol)\n",
    "        self.assertTrue(abs(self.cals.get_parameter_value(\"amp\", 0, \"sx12\")*(4/5) - default_amp / 2) < tol)"
   ]
  },
  {
   "cell_type": "code",
   "execution_count": 8,
   "id": "26d49906",
   "metadata": {},
   "outputs": [
    {
     "name": "stderr",
     "output_type": "stream",
     "text": [
      "/home/rupeshknn/mambaforge/envs/exp/lib/python3.9/site-packages/numpy/lib/function_base.py:2411: RuntimeWarning: invalid value encountered in <lambda> (vectorized)\n",
      "  outputs = ufunc(*inputs)\n"
     ]
    },
    {
     "data": {
      "text/plain": [
       "<unittest.result.TestResult run=2 errors=0 failures=0>"
      ]
     },
     "execution_count": 8,
     "metadata": {},
     "output_type": "execute_result"
    }
   ],
   "source": [
    "# obj = TestSpecializations(\"test_ef_update\")\n",
    "# obj.setUp()\n",
    "# obj.test_ef_update()\n",
    "\n",
    "suite = unittest.makeSuite(TestSpecializations, 'test')\n",
    "TestSpecializations_result = unittest.TestResult()\n",
    "suite.run(TestSpecializations_result)"
   ]
  },
  {
   "cell_type": "code",
   "execution_count": null,
   "id": "067a8441",
   "metadata": {},
   "outputs": [],
   "source": []
  }
 ],
 "metadata": {
  "kernelspec": {
   "display_name": "Python 3 (ipykernel)",
   "language": "python",
   "name": "python3"
  },
  "language_info": {
   "codemirror_mode": {
    "name": "ipython",
    "version": 3
   },
   "file_extension": ".py",
   "mimetype": "text/x-python",
   "name": "python",
   "nbconvert_exporter": "python",
   "pygments_lexer": "ipython3",
   "version": "3.9.13"
  }
 },
 "nbformat": 4,
 "nbformat_minor": 5
}
