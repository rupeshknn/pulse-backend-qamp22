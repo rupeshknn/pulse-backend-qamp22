{
 "cells": [
  {
   "cell_type": "code",
   "execution_count": 1,
   "id": "55437f0c",
   "metadata": {
    "ExecuteTime": {
     "end_time": "2022-09-22T10:11:48.511227Z",
     "start_time": "2022-09-22T10:11:48.504008Z"
    }
   },
   "outputs": [],
   "source": [
    "import datetime\n",
    "import numpy as np\n",
    "from matplotlib import pyplot as plt\n",
    "\n",
    "plt.rcParams[\"font.size\"] = 16\n",
    "\n",
    "from qiskit import QuantumCircuit, IBMQ, schedule\n",
    "import qiskit.pulse as pulse\n",
    "from qiskit.quantum_info.states import Statevector\n",
    "from qiskit_dynamics import Solver, Signal\n",
    "from qiskit_dynamics.pulse import InstructionToSignals\n",
    "from qiskit.providers import BackendV2, QubitProperties\n",
    "from qiskit.providers.options import Options\n",
    "from qiskit.transpiler import Target\n",
    "\n",
    "\n",
    "from qiskit.providers.models import PulseDefaults\n",
    "from qiskit.qobj.pulse_qobj import PulseLibraryItem, PulseQobjInstruction\n",
    "from qiskit.providers.models.pulsedefaults import Command\n",
    "\n",
    "from qiskit_experiments.exceptions import QiskitError"
   ]
  },
  {
   "cell_type": "code",
   "execution_count": 2,
   "id": "c922bee0",
   "metadata": {},
   "outputs": [],
   "source": [
    "# IBMQ.load_account()\n",
    "# provider = IBMQ.get_provider(hub=\"ibm-q\", group=\"open\", project=\"main\")\n",
    "# backend = provider.get_backend(\"ibmq_lima\")"
   ]
  },
  {
   "cell_type": "code",
   "execution_count": 3,
   "id": "99c84a62",
   "metadata": {},
   "outputs": [],
   "source": [
    "class PulseBackend(BackendV2):\n",
    "    \"\"\"Single qubit pulse simulator backend based using qiskit-dynamcis\"\"\"\n",
    "\n",
    "    def __init__(self, omega_01, delta, lambda_, dt=0.1 * 1e-9):\n",
    "        super().__init__(\n",
    "            None,\n",
    "            name=\"PulseBackendV2\",\n",
    "            description=\"A PulseBackend simulator\",\n",
    "            online_date=datetime.datetime.utcnow(),\n",
    "            backend_version=\"0.0.1\",\n",
    "        )\n",
    "        self._qubit_properties = [\n",
    "            QubitProperties(\n",
    "                frequency=omega_01 * 1e9\n",
    "            ),  # t1=63.48783e-6, t2=112.23246e-6, frequency=5.17538e9\n",
    "        ]\n",
    "        self._target = Target(\n",
    "            qubit_properties=self._qubit_properties, dt=dt, granularity=16\n",
    "        )\n",
    "        #         self.options.set_validator(\"shots\", (1, 4096))\n",
    "\n",
    "        omega_02 = 2 * omega_01 + delta\n",
    "        ket0 = np.array([[1, 0, 0]]).T\n",
    "        ket1 = np.array([[0, 1, 0]]).T\n",
    "        ket2 = np.array([[0, 0, 1]]).T\n",
    "\n",
    "        sigma_m1 = ket0 @ ket1.T.conj()\n",
    "        sigma_m2 = ket1 @ ket2.T.conj()\n",
    "\n",
    "        sigma_p1 = sigma_m1.T.conj()\n",
    "        sigma_p2 = sigma_m2.T.conj()\n",
    "\n",
    "        p1 = ket1 @ ket1.T.conj()\n",
    "        p2 = ket2 @ ket2.T.conj()\n",
    "\n",
    "        drift = 2 * np.pi * (omega_01 * p1 + omega_02 * p2)\n",
    "        control = [2 * np.pi * (sigma_p1 + sigma_m1 + lambda_ * (sigma_p2 + sigma_m2))]\n",
    "        r_frame = 2 * np.pi * (omega_01 * p1 + 2 * omega_01 * p2)\n",
    "\n",
    "        self.gs = np.array([1.0, 0.0, 0.0])\n",
    "        self.y0 = np.eye(3)\n",
    "        self.wd = omega_01\n",
    "\n",
    "        self.hamiltonian_solver = Solver(\n",
    "            static_hamiltonian=drift,\n",
    "            hamiltonian_operators=control,\n",
    "            rotating_frame=r_frame,\n",
    "            rwa_cutoff_freq=1.9 * omega_01,\n",
    "            rwa_carrier_freqs=[omega_01],\n",
    "        )\n",
    "\n",
    "    @property\n",
    "    def target(self):\n",
    "        return self._target\n",
    "\n",
    "    @property\n",
    "    def max_circuits(self):\n",
    "        return None\n",
    "\n",
    "    @classmethod\n",
    "    def _default_options(cls):\n",
    "        return Options(shots=1024)\n",
    "\n",
    "    @staticmethod\n",
    "    def _get_info(inst):\n",
    "        p_dict = inst.operation\n",
    "        qubit = tuple(int(str(val)[-2]) for val in inst.qubits)\n",
    "        params = tuple(float(val) for val in p_dict.params)\n",
    "        return qubit, params, p_dict.name\n",
    "\n",
    "    def defaults(self):\n",
    "        self._default_options = PulseDefaults(\n",
    "            qubit_freq_est=[self.wd],\n",
    "            meas_freq_est=[0],\n",
    "            buffer=0,\n",
    "            pulse_library=[PulseLibraryItem(\"QId_d0\", np.zeros(160, dtype=complex))],\n",
    "            cmd_def=[\n",
    "                Command(\n",
    "                    name=\"x\",\n",
    "                    qubits=[0],\n",
    "                    sequence=[\n",
    "                        PulseQobjInstruction(\n",
    "                            \"parametric_pulse\",\n",
    "                            t0=0,\n",
    "                            ch=\"d0\",\n",
    "                            label=\"Xp_d0\",\n",
    "                            pulse_shape=\"gaussian\",\n",
    "                            parameters={\n",
    "                                \"amp\": (0.12739510336948864 + 0j),\n",
    "                                \"duration\": 160,\n",
    "                                \"sigma\": 40,\n",
    "                            },\n",
    "                        )\n",
    "                    ],\n",
    "                ),\n",
    "                Command(\n",
    "                    name=\"sx\",\n",
    "                    qubits=[0],\n",
    "                    sequence=[\n",
    "                        PulseQobjInstruction(\n",
    "                            \"parametric_pulse\",\n",
    "                            t0=0,\n",
    "                            ch=\"d0\",\n",
    "                            label=\"X90p_d0\",\n",
    "                            pulse_shape=\"gaussian\",\n",
    "                            parameters={\n",
    "                                \"amp\": (0.12739510336948864 + 0j) / 2,\n",
    "                                \"duration\": 160,\n",
    "                                \"sigma\": 40,\n",
    "                            },\n",
    "                        ),\n",
    "                    ],\n",
    "                ),\n",
    "            ],\n",
    "        )\n",
    "        return self._default_options\n",
    "\n",
    "    def solve(self, schedule_blocks):\n",
    "        shift = getattr(schedule_blocks.blocks[0], \"frequency\", 0)\n",
    "        converter = InstructionToSignals(\n",
    "            self.dt * 1e9, carriers={\"d0\": self.wd + shift / 1e9}\n",
    "        )\n",
    "        signal = converter.get_signals(schedule_blocks)\n",
    "\n",
    "        T = schedule_blocks.duration * (self.dt * 1e9)\n",
    "        result = self.hamiltonian_solver.solve(\n",
    "            t_span=[0.0, T],\n",
    "            y0=self.y0,\n",
    "            t_eval=[\n",
    "                T,\n",
    "            ],\n",
    "            signals=signal,\n",
    "            method=\"RK23\",\n",
    "        ).y[0]\n",
    "\n",
    "        return result\n",
    "\n",
    "    def run(self, run_inputs, meas_level=0, shots=1024):\n",
    "        \"\"\"Simulates the full pulse schedule\"\"\"\n",
    "\n",
    "        if isinstance(run_inputs, QuantumCircuit):\n",
    "            run_inputs = [run_inputs]\n",
    "        state_vectors = []\n",
    "        for circuit in run_inputs:\n",
    "            # TODO get schedule using pulse.InstructionScheduleMap for cirq.calibrations.__len__ == 0\n",
    "\n",
    "            circuit_unitaries = {}\n",
    "            for name, schedule in circuit.calibrations.items():\n",
    "                for (qubits, params), schedule_block in schedule.items():\n",
    "                    circuit_unitaries[(name, qubits, params)] = self.solve(\n",
    "                        schedule_block\n",
    "                    )\n",
    "\n",
    "            psi = self.gs.copy()\n",
    "            for instruction in circuit.data:  # TODO check\n",
    "                qubits, params, inst_name = self._get_info(instruction)  # TODO\n",
    "                if inst_name in [\"barrier\", \"measure\"]:\n",
    "                    continue\n",
    "                unitary = circuit_unitaries[(inst_name, qubits, params)]\n",
    "                psi = unitary @ psi\n",
    "\n",
    "            state_vectors.append(Statevector(psi))\n",
    "\n",
    "        return state_vectors"
   ]
  },
  {
   "cell_type": "code",
   "execution_count": 4,
   "id": "6c765037",
   "metadata": {},
   "outputs": [],
   "source": [
    "pulse_backend = PulseBackend(omega_01=5.02, delta=-0.25, lambda_=0.8)"
   ]
  },
  {
   "cell_type": "markdown",
   "id": "6c28afa1",
   "metadata": {},
   "source": [
    "# Calibration Experiments"
   ]
  },
  {
   "cell_type": "code",
   "execution_count": 5,
   "id": "ec9d3d5e",
   "metadata": {},
   "outputs": [],
   "source": [
    "from qiskit_experiments.calibration_management.calibrations import Calibrations\n",
    "from qiskit_experiments.calibration_management.basis_gate_library import (\n",
    "    FixedFrequencyTransmon,\n",
    ")"
   ]
  },
  {
   "cell_type": "markdown",
   "id": "dba8be60",
   "metadata": {},
   "source": [
    "## spectroscopy"
   ]
  },
  {
   "cell_type": "code",
   "execution_count": 6,
   "id": "b7a267cc",
   "metadata": {},
   "outputs": [],
   "source": [
    "from qiskit_experiments.library.calibration.rough_frequency import RoughFrequencyCal\n",
    "\n",
    "qubit = 0\n",
    "library = FixedFrequencyTransmon()\n",
    "cals = Calibrations.from_backend(pulse_backend, libraries=[library])\n",
    "\n",
    "freq01_estimate = pulse_backend.defaults().qubit_freq_est[qubit]\n",
    "frequencies = np.linspace(freq01_estimate - 15e6, freq01_estimate + 15e6, 51)\n",
    "spec = RoughFrequencyCal(qubit, cals, frequencies, backend=pulse_backend)\n",
    "spec.set_experiment_options(amp=0.005)"
   ]
  },
  {
   "cell_type": "code",
   "execution_count": 7,
   "id": "2fd129b1",
   "metadata": {},
   "outputs": [
    {
     "name": "stdout",
     "output_type": "stream",
     "text": [
      "CPU times: user 1min 24s, sys: 4.92 ms, total: 1min 24s\n",
      "Wall time: 1min 24s\n"
     ]
    }
   ],
   "source": [
    "%%time\n",
    "results = pulse_backend.run(spec.circuits())\n",
    "spec_prob1 = np.array([psi.probabilities()[1] for psi in results])"
   ]
  },
  {
   "cell_type": "code",
   "execution_count": 8,
   "id": "ee4c361b",
   "metadata": {},
   "outputs": [
    {
     "data": {
      "text/plain": [
       "Text(0, 0.5, 'prob $(|1\\\\rangle)$')"
      ]
     },
     "execution_count": 8,
     "metadata": {},
     "output_type": "execute_result"
    },
    {
     "data": {
      "image/png": "[encoded data removed]",
      "text/plain": [
       "<Figure size 1200x800 with 1 Axes>"
      ]
     },
     "metadata": {},
     "output_type": "display_data"
    }
   ],
   "source": [
    "plt.close()\n",
    "fig, ax = plt.subplots(1, 1, figsize=(12, 8))\n",
    "ax.scatter(frequencies / 1e9, spec_prob1)\n",
    "\n",
    "ax.set_ylim(-0.012, 1.12)\n",
    "ax.set_xlabel(\"$\\omega_D$ (GHz)\")\n",
    "ax.set_ylabel(r\"prob $(|1\\rangle)$\")"
   ]
  },
  {
   "cell_type": "markdown",
   "id": "f4ecb654",
   "metadata": {},
   "source": [
    "## Rabi"
   ]
  },
  {
   "cell_type": "code",
   "execution_count": 9,
   "id": "b0455d60",
   "metadata": {},
   "outputs": [],
   "source": [
    "from qiskit_experiments.library.calibration import RoughXSXAmplitudeCal\n",
    "\n",
    "rabi = RoughXSXAmplitudeCal(\n",
    "    qubit, cals, backend=pulse_backend, amplitudes=np.linspace(-0.1, 0.1, 51)\n",
    ")"
   ]
  },
  {
   "cell_type": "code",
   "execution_count": 10,
   "id": "bd69f19e",
   "metadata": {},
   "outputs": [
    {
     "name": "stdout",
     "output_type": "stream",
     "text": [
      "CPU times: user 11.4 s, sys: 0 ns, total: 11.4 s\n",
      "Wall time: 11.4 s\n"
     ]
    }
   ],
   "source": [
    "%%time\n",
    "results = pulse_backend.run(rabi.circuits())\n",
    "rabi_prob1 = np.array([psi.probabilities()[1] for psi in results])"
   ]
  },
  {
   "cell_type": "code",
   "execution_count": 12,
   "id": "49ef092d",
   "metadata": {},
   "outputs": [
    {
     "data": {
      "text/plain": [
       "Text(0, 0.5, 'prob $(|1\\\\rangle)$')"
      ]
     },
     "execution_count": 12,
     "metadata": {},
     "output_type": "execute_result"
    },
    {
     "data": {
      "image/png": "[encoded data removed]",
      "text/plain": [
       "<Figure size 1200x800 with 1 Axes>"
      ]
     },
     "metadata": {},
     "output_type": "display_data"
    }
   ],
   "source": [
    "plt.close()\n",
    "fig, ax = plt.subplots(1, 1, figsize=(12, 8))\n",
    "\n",
    "ax.scatter(rabi.experiment_options.get(\"amplitudes\"), rabi_prob1)\n",
    "ax.set_ylim(-0.012, 1.12)\n",
    "ax.set_xlabel(\"$\\omega_D$ (GHz)\")\n",
    "ax.set_ylabel(r\"prob $(|1\\rangle)$\")"
   ]
  },
  {
   "cell_type": "code",
   "execution_count": null,
   "id": "96467125",
   "metadata": {},
   "outputs": [],
   "source": []
  }
 ],
 "metadata": {
  "kernelspec": {
   "display_name": "Python 3 (ipykernel)",
   "language": "python",
   "name": "python3"
  },
  "language_info": {
   "codemirror_mode": {
    "name": "ipython",
    "version": 3
   },
   "file_extension": ".py",
   "mimetype": "text/x-python",
   "name": "python",
   "nbconvert_exporter": "python",
   "pygments_lexer": "ipython3",
   "version": "3.8.13"
  },
  "latex_envs": {
   "LaTeX_envs_menu_present": true,
   "autoclose": true,
   "autocomplete": true,
   "bibliofile": "biblio.bib",
   "cite_by": "apalike",
   "current_citInitial": 1,
   "eqLabelWithNumbers": true,
   "eqNumInitial": 1,
   "hotkeys": {
    "equation": "ctrl-shift-e"
   },
   "labels_anchors": false,
   "latex_user_defs": false,
   "report_style_numbering": false,
   "user_envs_cfg": false
  },
  "varInspector": {
   "cols": {
    "lenName": 16,
    "lenType": 16,
    "lenVar": 40
   },
   "kernels_config": {
    "python": {
     "delete_cmd_postfix": "",
     "delete_cmd_prefix": "del ",
     "library": "var_list.py",
     "varRefreshCmd": "print(var_dic_list())"
    },
    "r": {
     "delete_cmd_postfix": ") ",
     "delete_cmd_prefix": "rm(",
     "library": "var_list.r",
     "varRefreshCmd": "cat(var_dic_list()) "
    }
   },
   "oldHeight": 165.85,
   "position": {
    "height": "187.85px",
    "left": "21.2px",
    "right": "20px",
    "top": "8px",
    "width": "555px"
   },
   "types_to_exclude": [
    "module",
    "function",
    "builtin_function_or_method",
    "instance",
    "_Feature"
   ],
   "varInspector_section_display": "block",
   "window_display": false
  }
 },
 "nbformat": 4,
 "nbformat_minor": 5
}
